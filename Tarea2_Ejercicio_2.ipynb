{
  "nbformat": 4,
  "nbformat_minor": 0,
  "metadata": {
    "colab": {
      "name": "Tarea2 Ejercicio 2",
      "provenance": [],
      "authorship_tag": "ABX9TyNZAPFnTPN0X3+bH3yNrvxA",
      "include_colab_link": true
    },
    "kernelspec": {
      "name": "python3",
      "display_name": "Python 3"
    }
  },
  "cells": [
    {
      "cell_type": "markdown",
      "metadata": {
        "id": "view-in-github",
        "colab_type": "text"
      },
      "source": [
        "<a href=\"https://colab.research.google.com/github/ArmandoLp/AprendizajeMaquina-Profundo/blob/main/Tarea2_Ejercicio_2.ipynb\" target=\"_parent\"><img src=\"https://colab.research.google.com/assets/colab-badge.svg\" alt=\"Open In Colab\"/></a>"
      ]
    },
    {
      "cell_type": "code",
      "metadata": {
        "colab": {
          "base_uri": "https://localhost:8080/"
        },
        "id": "fs0XBELxvS8c",
        "outputId": "4a80e9d6-d3d9-47bf-cb4f-69315a6eb9cf"
      },
      "source": [
        "# Colab\n",
        "# https://github.com/TylerYep/torch-summary\n",
        "!pip install torch-summary\n",
        "# https://zarr.readthedocs.io/en/stable/\n",
        "!pip install zarr\n"
      ],
      "execution_count": null,
      "outputs": [
        {
          "output_type": "stream",
          "text": [
            "Requirement already satisfied: torch-summary in /usr/local/lib/python3.6/dist-packages (1.4.5)\n",
            "Requirement already satisfied: zarr in /usr/local/lib/python3.6/dist-packages (2.6.1)\n",
            "Requirement already satisfied: fasteners in /usr/local/lib/python3.6/dist-packages (from zarr) (0.16)\n",
            "Requirement already satisfied: numpy>=1.7 in /usr/local/lib/python3.6/dist-packages (from zarr) (1.19.5)\n",
            "Requirement already satisfied: asciitree in /usr/local/lib/python3.6/dist-packages (from zarr) (0.3.3)\n",
            "Requirement already satisfied: numcodecs>=0.6.4 in /usr/local/lib/python3.6/dist-packages (from zarr) (0.7.2)\n",
            "Requirement already satisfied: six in /usr/local/lib/python3.6/dist-packages (from fasteners->zarr) (1.15.0)\n"
          ],
          "name": "stdout"
        }
      ]
    },
    {
      "cell_type": "markdown",
      "metadata": {
        "id": "w0cJ7DvbE7oj"
      },
      "source": [
        "Importamos toda la utiliría necesaria tomando como base el notebook de la arqitectura RNN vista en clase"
      ]
    },
    {
      "cell_type": "code",
      "metadata": {
        "id": "RbcuMlyEtlpC"
      },
      "source": [
        "# funciones aleatorias\n",
        "import random\n",
        "# sistema de archivos\n",
        "import os\n",
        "# sistema de archivos\n",
        "from os.path import join\n",
        "\n",
        "# arreglos multidimensionales\n",
        "import numpy as np\n",
        "# redes neuronales\n",
        "import torch\n",
        "import torch.nn as nn\n",
        "import torch.nn.functional as F\n",
        "import torch.optim as optim\n",
        "import torchvision.datasets.utils as tvu\n",
        "# almacenamiento de arreglos multidimensionales\n",
        "import zarr\n",
        "#redes\n",
        "from torch.utils.data import DataLoader, random_split\n",
        "# inspección de arquitectura\n",
        "from torchsummary import summary\n",
        "\n",
        "# directorio de datos\n",
        "DATA_DIR = '../data'\n",
        "\n",
        "# tamaño del lote\n",
        "BATCH_SIZE = 32\n",
        "# tamaño del vector de características\n",
        "FEAT_SIZE = 1024\n",
        "\n",
        "# reproducibilidad\n",
        "SEED = 0\n",
        "random.seed(SEED)\n",
        "np.random.seed(SEED)\n",
        "torch_gen = torch.manual_seed(SEED)"
      ],
      "execution_count": null,
      "outputs": []
    },
    {
      "cell_type": "markdown",
      "metadata": {
        "id": "fblbe_-HFGuA"
      },
      "source": [
        "Definimos la creación del dataset"
      ]
    },
    {
      "cell_type": "code",
      "metadata": {
        "id": "LFn1bHXMvOxf"
      },
      "source": [
        "class UCF11:\n",
        "\n",
        "    def __init__(self, root, download=False):\n",
        "        self.root = root\n",
        "        self.zarr_dir = join(root, 'ucf11.zarr')\n",
        "        if download:\n",
        "            self.download()\n",
        "        self.z = zarr.open(self.zarr_dir, 'r')\n",
        "        self.paths = list(self.z.array_keys())\n",
        "        \n",
        "    def __getitem__(self, i):\n",
        "        arr = self.z[self.paths[i]]\n",
        "        x = np.array(arr)\n",
        "        y = np.array(arr.attrs['y'], dtype=np.int64)\n",
        "        return x, y\n",
        "\n",
        "    def __len__(self):\n",
        "        return len(self.paths)\n",
        "    \n",
        "    def _check_integrity(self):\n",
        "        return os.path.isdir(self.zarr_dir)\n",
        "\n",
        "    def download(self):\n",
        "        if self._check_integrity():\n",
        "            print('Files already downloaded and verified')\n",
        "            return\n",
        "        tvu.download_and_extract_archive(\n",
        "            url='https://drive.google.com/uc?id=1cpJTE5qoMoSswymGdPzvsX9k_gPQuPwQ&export=download',\n",
        "            download_root=self.root,\n",
        "            filename='ucf11.zarr.tar.gz',\n",
        "        )"
      ],
      "execution_count": null,
      "outputs": []
    },
    {
      "cell_type": "code",
      "metadata": {
        "id": "NwcV1E2kvkNK"
      },
      "source": [
        ""
      ],
      "execution_count": null,
      "outputs": []
    },
    {
      "cell_type": "markdown",
      "metadata": {
        "id": "T11XO4KsFNUy"
      },
      "source": [
        "Creamos un datast y vemos las dimensiones"
      ]
    },
    {
      "cell_type": "code",
      "metadata": {
        "colab": {
          "base_uri": "https://localhost:8080/"
        },
        "id": "Y6NwQyVMvbEC",
        "outputId": "d40b026d-9656-4b0e-fd76-996b0201551a"
      },
      "source": [
        "ds = UCF11(join(DATA_DIR, 'ucf11'), True)\n",
        "x, y = ds[0]\n",
        "print(f'x shape={x.shape} dtype={x.dtype}')\n",
        "print(f'x [0][:5]={x[0][:5]}')\n",
        "print(f'y shape={y.shape} dtype={y.dtype} {y}')\n",
        "print(f'y {y}')"
      ],
      "execution_count": null,
      "outputs": [
        {
          "output_type": "stream",
          "text": [
            "Files already downloaded and verified\n",
            "x shape=(10, 1024) dtype=float32\n",
            "x [0][:5]=[0.00022111 0.00368518 0.00314753 0.00201778 0.09296297]\n",
            "y shape=() dtype=int64 0\n",
            "y 0\n"
          ],
          "name": "stdout"
        }
      ]
    },
    {
      "cell_type": "markdown",
      "metadata": {
        "id": "rT5sstQsFR5t"
      },
      "source": [
        "Realizamos la partición para entrenamiento y prueba"
      ]
    },
    {
      "cell_type": "code",
      "metadata": {
        "colab": {
          "base_uri": "https://localhost:8080/"
        },
        "id": "gj6IFJ2ixlUz",
        "outputId": "4a2861a7-4582-4443-f11f-52df98026a52"
      },
      "source": [
        "trn_size = int(0.8 * len(ds))\n",
        "tst_size = len(ds) - trn_size\n",
        "trn_ds, tst_ds = random_split(ds, [trn_size, tst_size])\n",
        "len(trn_ds), len(tst_ds)"
      ],
      "execution_count": null,
      "outputs": [
        {
          "output_type": "execute_result",
          "data": {
            "text/plain": [
              "(1279, 320)"
            ]
          },
          "metadata": {
            "tags": []
          },
          "execution_count": 6
        }
      ]
    },
    {
      "cell_type": "markdown",
      "metadata": {
        "id": "MrpQT8vRxt0T"
      },
      "source": [
        "### Data loaders\n",
        "Creamos el cargador de datos para entrenamiento y prueba"
      ]
    },
    {
      "cell_type": "code",
      "metadata": {
        "id": "DjDPppotxtXA"
      },
      "source": [
        "trn_dl = DataLoader(\n",
        "    # conjunto\n",
        "    trn_ds,\n",
        "    # tamaño del lote\n",
        "    batch_size=BATCH_SIZE,\n",
        "    # desordenar\n",
        "    shuffle=True,\n",
        "    # procesos paralelos\n",
        "    num_workers=4\n",
        ")\n",
        "tst_dl = DataLoader(\n",
        "    # conjunto\n",
        "    tst_ds,\n",
        "    # tamaño del lote\n",
        "    batch_size=BATCH_SIZE,\n",
        "    # desordenar\n",
        "    shuffle=True,\n",
        "    # procesos paralelos\n",
        "    num_workers=4\n",
        ")"
      ],
      "execution_count": null,
      "outputs": []
    },
    {
      "cell_type": "markdown",
      "metadata": {
        "id": "PJ7bttc-FggX"
      },
      "source": [
        "Verificamos el tamño y tipo de un ejemplo"
      ]
    },
    {
      "cell_type": "code",
      "metadata": {
        "colab": {
          "base_uri": "https://localhost:8080/"
        },
        "id": "0o_d2ebyxqcZ",
        "outputId": "9fa35ae5-658d-4777-bac0-d227baaccbb7"
      },
      "source": [
        "x, y = next(iter(trn_dl))\n",
        "print(f'x shape={x.shape} dtype={x.dtype}')\n",
        "print(f'y shape={y.shape} dtype={y.dtype}')"
      ],
      "execution_count": null,
      "outputs": [
        {
          "output_type": "stream",
          "text": [
            "x shape=torch.Size([32, 10, 1024]) dtype=torch.float32\n",
            "y shape=torch.Size([32]) dtype=torch.int64\n"
          ],
          "name": "stdout"
        }
      ]
    },
    {
      "cell_type": "markdown",
      "metadata": {
        "id": "FTY2w8AJx90E"
      },
      "source": [
        "### Modelo\n",
        "Implementamos la arquitectura RNN la cual tendrá la modificación de ser bidirecional, por lo que hay que cambiar la entrada de la lineal también"
      ]
    },
    {
      "cell_type": "code",
      "metadata": {
        "id": "CZtTM65Nx2sG"
      },
      "source": [
        "class RNN(nn.Module):\n",
        "\n",
        "    def __init__(self, input_size=1024, hidden_size=128, num_classes=11):\n",
        "        super(RNN, self).__init__()\n",
        "        self.bn = nn.BatchNorm1d(input_size)\n",
        "        #modificación para la tarea\n",
        "        self.rnn = nn.GRU(input_size=input_size, hidden_size=32,\n",
        "                          num_layers=1, batch_first=True, bidirectional=True)\n",
        "        self.cls = nn.Linear(64, num_classes)\n",
        "\n",
        "    def forward(self, x):\n",
        "        # Batch, Seq, Feats, Hidden\n",
        "        # [B, S, F] => [B, F, S]\n",
        "        x = x.permute(0, 2, 1)\n",
        "        # [B, F, S]\n",
        "        x = self.bn(x)\n",
        "        # [B, F, S] => [B, S, F]\n",
        "        x = x.permute(0, 2, 1)\n",
        "        # [B, S, F] => [B, S, H]\n",
        "        x, _ = self.rnn(x)\n",
        "        # [B, S, H] => [B, H]\n",
        "        # take last output step. Quizz 1\n",
        "        #print(\"Shape after rnnGRU\", x.shape)\n",
        "        x = x[:, -1, :]\n",
        "        #print(\"Sahpe after taking last layer\",x.shape)\n",
        "        # [B, H] = [B, 11]\n",
        "        x = self.cls(x)\n",
        "        return x"
      ],
      "execution_count": null,
      "outputs": []
    },
    {
      "cell_type": "code",
      "metadata": {
        "colab": {
          "base_uri": "https://localhost:8080/"
        },
        "id": "KTPRdbAKyP_p",
        "outputId": "00cfb3f1-e986-4942-a17e-2d0628f46bc5"
      },
      "source": [
        "modelRNN = RNN().eval()\n",
        "modelRNN(torch.zeros(2, 10, 1024)).shape"
      ],
      "execution_count": null,
      "outputs": [
        {
          "output_type": "execute_result",
          "data": {
            "text/plain": [
              "torch.Size([2, 11])"
            ]
          },
          "metadata": {
            "tags": []
          },
          "execution_count": 10
        }
      ]
    },
    {
      "cell_type": "markdown",
      "metadata": {
        "id": "N-wtMVCI1ePa"
      },
      "source": [
        "### Resumen de la GRU\n",
        "Vemos que parámetros tenemos, el total es de 205899, ahora trataremos de llegar a una cantidad similar con una arquitectura CNN"
      ]
    },
    {
      "cell_type": "code",
      "metadata": {
        "colab": {
          "base_uri": "https://localhost:8080/"
        },
        "id": "ZUbf5zyWyWk4",
        "outputId": "23ae6d7b-9d60-4a1f-b8b3-24a58f744b68"
      },
      "source": [
        "summary(modelRNN, (10, 1024), device='cpu', verbose=0)"
      ],
      "execution_count": null,
      "outputs": [
        {
          "output_type": "execute_result",
          "data": {
            "text/plain": [
              "==========================================================================================\n",
              "Layer (type:depth-idx)                   Output Shape              Param #\n",
              "==========================================================================================\n",
              "├─BatchNorm1d: 1-1                       [-1, 1024, 10]            2,048\n",
              "├─GRU: 1-2                               [-1, 10, 64]              203,136\n",
              "├─Linear: 1-3                            [-1, 11]                  715\n",
              "==========================================================================================\n",
              "Total params: 205,899\n",
              "Trainable params: 205,899\n",
              "Non-trainable params: 0\n",
              "Total mult-adds (M): 0.20\n",
              "==========================================================================================\n",
              "Input size (MB): 0.04\n",
              "Forward/backward pass size (MB): 0.08\n",
              "Params size (MB): 0.79\n",
              "Estimated Total Size (MB): 0.91\n",
              "=========================================================================================="
            ]
          },
          "metadata": {
            "tags": []
          },
          "execution_count": 11
        }
      ]
    },
    {
      "cell_type": "markdown",
      "metadata": {
        "id": "UrrHK3jX1i1h"
      },
      "source": [
        "### Modelo CNN\n",
        "Para lograr la cantidad de parámetros, después de algunas pruebas, lo que hice fue dejar solo una capa conv1d con una salida de 72 filtros, los demás parámetros quedaron igual, y se modifica la entrada a la lineal"
      ]
    },
    {
      "cell_type": "code",
      "metadata": {
        "id": "ogGStGKv1Ut2"
      },
      "source": [
        "# definición del modelo\n",
        "class CNN(nn.Module):\n",
        "    \n",
        "    # inicializador\n",
        "    def __init__(self):\n",
        "        # inicilización del objeto padre, obligatorio\n",
        "        super(CNN, self).__init__()\n",
        "        #self.num_feats = 4 * 14 * 14\n",
        "        \n",
        "        # definición de bloques conv\n",
        "        # [N, 1, 28, 28] => [N, 4, 14, 14]\n",
        "        self.cnn = nn.Sequential(\n",
        "            # bloque conv1\n",
        "            # [N, 10, 28, 28] => [N, 16, 28, 28]\n",
        "            nn.Conv1d(in_channels=10, out_channels=72,\n",
        "                      kernel_size=3, padding=1),\n",
        "            # [N, 16, 28, 28] => [N, 32, 28, 28]          \n",
        "            #nn.Conv1d(in_channels=16, out_channels=32,\n",
        "            #          kernel_size=3, padding=1),\n",
        "            \n",
        "            # [N, 32, 28, 28] => [N, 64, 28, 28] \n",
        "            #nn.Conv1d(in_channels=32, out_channels=64,\n",
        "            #          kernel_size=3, padding=1),\n",
        "            #[N, 64, 28, 28] \n",
        "            nn.ReLU(),\n",
        "            #[N, 64, 28, 28]  => [N, 64, 14, 14]\n",
        "            nn.MaxPool2d(kernel_size=2, stride=2),\n",
        "\n",
        "        )       \n",
        "        \n",
        "        # [N, 64, 14, 14] => [N, 64x14x14]=12544\n",
        "        self.flatten = nn.Flatten()\n",
        "\n",
        "        # [N, 4x14x14] => [N, 1]\n",
        "        self.cls = nn.Sequential(\n",
        "            nn.Linear(18432, 11))\n",
        "    \n",
        "    # metodo para inferencia\n",
        "    def forward(self, x):\n",
        "        # [N, 1, 28, 28] => [N, 4, 14, 14]\n",
        "        #print(\"Shape x before cnn\", x.shape)\n",
        "        x = self.cnn(x)\n",
        "        #print(\"shape x after cnn\", x.shape)\n",
        "        # [N, 8, 7, 7] => [N, 4x14x14]\n",
        "        x = self.flatten(x)\n",
        "        #print(\"shape x after flatten\", x.shape)\n",
        "        # [N, 4x14x14] => [N, 10]\n",
        "        x = self.cls(x)\n",
        "        return x\n"
      ],
      "execution_count": null,
      "outputs": []
    },
    {
      "cell_type": "code",
      "metadata": {
        "colab": {
          "base_uri": "https://localhost:8080/"
        },
        "id": "hqEZPgEB3H3e",
        "outputId": "ed802c0c-d663-4065-de96-6541cfeb1fa6"
      },
      "source": [
        "modelCNN = CNN().eval()\n",
        "modelCNN(torch.zeros(2, 10, 1024)).shape"
      ],
      "execution_count": null,
      "outputs": [
        {
          "output_type": "execute_result",
          "data": {
            "text/plain": [
              "torch.Size([2, 11])"
            ]
          },
          "metadata": {
            "tags": []
          },
          "execution_count": 46
        }
      ]
    },
    {
      "cell_type": "code",
      "metadata": {
        "colab": {
          "base_uri": "https://localhost:8080/"
        },
        "id": "YNLZAWDE3LwM",
        "outputId": "2ecc89fb-8aa4-40cd-b862-27c424136528"
      },
      "source": [
        "summary(modelCNN, (10, 1024), device='cpu', verbose=0)"
      ],
      "execution_count": null,
      "outputs": [
        {
          "output_type": "execute_result",
          "data": {
            "text/plain": [
              "==========================================================================================\n",
              "Layer (type:depth-idx)                   Output Shape              Param #\n",
              "==========================================================================================\n",
              "├─Sequential: 1-1                        [-1, 36, 512]             --\n",
              "|    └─Conv1d: 2-1                       [-1, 72, 1024]            2,232\n",
              "|    └─ReLU: 2-2                         [-1, 72, 1024]            --\n",
              "|    └─MaxPool2d: 2-3                    [-1, 36, 512]             --\n",
              "├─Flatten: 1-2                           [-1, 18432]               --\n",
              "├─Sequential: 1-3                        [-1, 11]                  --\n",
              "|    └─Linear: 2-4                       [-1, 11]                  202,763\n",
              "==========================================================================================\n",
              "Total params: 204,995\n",
              "Trainable params: 204,995\n",
              "Non-trainable params: 0\n",
              "Total mult-adds (M): 2.62\n",
              "==========================================================================================\n",
              "Input size (MB): 0.04\n",
              "Forward/backward pass size (MB): 0.56\n",
              "Params size (MB): 0.78\n",
              "Estimated Total Size (MB): 1.38\n",
              "=========================================================================================="
            ]
          },
          "metadata": {
            "tags": []
          },
          "execution_count": 47
        }
      ]
    },
    {
      "cell_type": "markdown",
      "metadata": {
        "id": "Fuuau4Q17e0z"
      },
      "source": [
        "### Párametros en RNN=205899 vs CNN=204995"
      ]
    },
    {
      "cell_type": "markdown",
      "metadata": {
        "id": "5EQryOgD7pLB"
      },
      "source": [
        "### RNN Entrenamiento"
      ]
    },
    {
      "cell_type": "code",
      "metadata": {
        "colab": {
          "base_uri": "https://localhost:8080/"
        },
        "id": "U70oh-4t7ogW",
        "outputId": "9b65ea33-9181-44b7-a6de-8a6b90a258a9"
      },
      "source": [
        "# optimizador\n",
        "opt = optim.Adam(modelRNN.parameters(), lr=1e-3)\n",
        "\n",
        "# ciclo de entrenamiento\n",
        "EPOCHS = 50\n",
        "for epoch in range(EPOCHS):\n",
        "\n",
        "    # modelo en modo de entrenamiento\n",
        "    modelRNN.train()\n",
        "    \n",
        "    # entrenamiento de una época\n",
        "    for x, y_true in trn_dl:\n",
        "        # hacemos inferencia para obtener los logits\n",
        "        y_lgts = modelRNN(x)\n",
        "        # calculamos la pérdida\n",
        "        loss = F.cross_entropy(y_lgts, y_true)\n",
        "        # vaciamos los gradientes\n",
        "        opt.zero_grad()\n",
        "        # retropropagamos\n",
        "        loss.backward()\n",
        "        # actulizamos parámetros\n",
        "        opt.step()\n",
        "\n",
        "    # desactivamos temporalmente la gráfica de cómputo\n",
        "    with torch.no_grad():\n",
        "\n",
        "        # modelo en modo de evaluación\n",
        "        modelRNN.eval()\n",
        "        \n",
        "        losses, accs = [], []\n",
        "        # validación de la época\n",
        "        for x, y_true in tst_dl:\n",
        "            # hacemos inferencia para obtener los logits\n",
        "            y_lgts = modelRNN(x)\n",
        "            # calculamos las probabilidades\n",
        "            y_prob = F.softmax(y_lgts, 1)\n",
        "            # obtenemos la clase predicha\n",
        "            y_pred = torch.argmax(y_prob, 1)\n",
        "            \n",
        "            # calculamos la pérdida\n",
        "            loss = F.cross_entropy(y_lgts, y_true)\n",
        "            # calculamos la exactitud\n",
        "            acc = (y_true == y_pred).type(torch.float32).mean()\n",
        "\n",
        "            # guardamos históricos\n",
        "            losses.append(loss.item() * 100)\n",
        "            accs.append(acc.item() * 100)\n",
        "\n",
        "        # imprimimos métricas\n",
        "        loss = np.mean(losses)\n",
        "        acc = np.mean(accs)\n",
        "        print(f'E{epoch:2} loss={loss:6.2f} acc={acc:.2f}')"
      ],
      "execution_count": null,
      "outputs": [
        {
          "output_type": "stream",
          "text": [
            "E 0 loss=219.43 acc=24.69\n",
            "E 1 loss=205.15 acc=30.94\n",
            "E 2 loss=196.38 acc=35.00\n",
            "E 3 loss=187.75 acc=39.06\n",
            "E 4 loss=182.33 acc=40.31\n",
            "E 5 loss=179.75 acc=41.88\n",
            "E 6 loss=176.21 acc=41.88\n",
            "E 7 loss=173.96 acc=42.81\n",
            "E 8 loss=173.73 acc=43.44\n",
            "E 9 loss=170.91 acc=44.69\n",
            "E10 loss=171.41 acc=46.25\n",
            "E11 loss=171.26 acc=46.56\n",
            "E12 loss=170.77 acc=48.44\n",
            "E13 loss=171.54 acc=46.88\n",
            "E14 loss=171.86 acc=47.19\n",
            "E15 loss=172.98 acc=46.56\n",
            "E16 loss=173.76 acc=47.19\n",
            "E17 loss=176.80 acc=44.69\n",
            "E18 loss=177.06 acc=47.50\n",
            "E19 loss=178.67 acc=46.25\n",
            "E20 loss=178.58 acc=46.25\n",
            "E21 loss=180.74 acc=47.19\n",
            "E22 loss=180.90 acc=46.88\n",
            "E23 loss=181.45 acc=48.44\n",
            "E24 loss=181.01 acc=46.25\n",
            "E25 loss=181.06 acc=46.88\n",
            "E26 loss=182.46 acc=46.25\n",
            "E27 loss=183.76 acc=47.81\n",
            "E28 loss=183.68 acc=47.19\n",
            "E29 loss=183.96 acc=47.81\n",
            "E30 loss=185.21 acc=49.06\n",
            "E31 loss=187.07 acc=47.19\n",
            "E32 loss=190.45 acc=46.25\n",
            "E33 loss=188.90 acc=48.75\n",
            "E34 loss=188.16 acc=49.38\n",
            "E35 loss=189.10 acc=49.38\n",
            "E36 loss=188.06 acc=47.81\n",
            "E37 loss=189.46 acc=46.88\n",
            "E38 loss=189.06 acc=49.06\n",
            "E39 loss=191.54 acc=49.69\n",
            "E40 loss=192.98 acc=48.44\n",
            "E41 loss=192.32 acc=47.81\n",
            "E42 loss=194.10 acc=47.81\n",
            "E43 loss=194.24 acc=49.06\n",
            "E44 loss=192.72 acc=50.00\n",
            "E45 loss=196.83 acc=47.19\n",
            "E46 loss=194.08 acc=48.12\n",
            "E47 loss=195.61 acc=47.19\n",
            "E48 loss=197.26 acc=49.06\n",
            "E49 loss=198.91 acc=48.44\n"
          ],
          "name": "stdout"
        }
      ]
    },
    {
      "cell_type": "code",
      "metadata": {
        "colab": {
          "base_uri": "https://localhost:8080/",
          "height": 572
        },
        "id": "L-uQJzD134MI",
        "outputId": "2ab5934a-7c36-4990-fd19-3a344da1751d"
      },
      "source": [
        "import matplotlib.pyplot as plt\n",
        "\n",
        "plt.plot(accs)\n",
        "plt.title('Precision del modelo RNN')\n",
        "plt.ylabel('accuracy')\n",
        "plt.xlabel('epocas')\n",
        "plt.show()\n",
        "# hacemos las grafica 2 perdidas\n",
        "plt.plot(losses)\n",
        "plt.title('Perdidas del modelo RNN')\n",
        "plt.ylabel('perdidas')\n",
        "plt.xlabel('epocas')\n",
        "\n",
        "plt.show()"
      ],
      "execution_count": null,
      "outputs": [
        {
          "output_type": "display_data",
          "data": {
            "image/png": "[encoded data removed]",
            "text/plain": [
              "<Figure size 432x288 with 1 Axes>"
            ]
          },
          "metadata": {
            "tags": [],
            "needs_background": "light"
          }
        },
        {
          "output_type": "display_data",
          "data": {
            "image/png": "[encoded data removed]",
            "text/plain": [
              "<Figure size 432x288 with 1 Axes>"
            ]
          },
          "metadata": {
            "tags": [],
            "needs_background": "light"
          }
        }
      ]
    },
    {
      "cell_type": "markdown",
      "metadata": {
        "id": "zU24ft0n9slW"
      },
      "source": [
        "### CNN Entrenamiento"
      ]
    },
    {
      "cell_type": "code",
      "metadata": {
        "colab": {
          "base_uri": "https://localhost:8080/"
        },
        "id": "XC5jYI4w9i4u",
        "outputId": "2d90d88c-6d52-4b13-f4f6-6731d7b94e2f"
      },
      "source": [
        "# optimizador\n",
        "opt = optim.Adam(modelCNN.parameters(), lr=1e-6)\n",
        "\n",
        "# ciclo de entrenamiento\n",
        "EPOCHS = 50\n",
        "for epoch in range(EPOCHS):\n",
        "\n",
        "    # modelo en modo de entrenamiento\n",
        "    modelCNN.train()\n",
        "    \n",
        "    # entrenamiento de una época\n",
        "    for x, y_true in trn_dl:\n",
        "        # hacemos inferencia para obtener los logits\n",
        "        y_lgts = modelCNN(x)\n",
        "        # calculamos la pérdida\n",
        "        loss = F.cross_entropy(y_lgts, y_true)\n",
        "        # vaciamos los gradientes\n",
        "        opt.zero_grad()\n",
        "        # retropropagamos\n",
        "        loss.backward()\n",
        "        # actulizamos parámetros\n",
        "        opt.step()\n",
        "\n",
        "    # desactivamos temporalmente la gráfica de cómputo\n",
        "    with torch.no_grad():\n",
        "\n",
        "        # modelo en modo de evaluación\n",
        "        modelCNN.eval()\n",
        "        \n",
        "        losses, accs = [], []\n",
        "        # validación de la época\n",
        "        for x, y_true in tst_dl:\n",
        "            # hacemos inferencia para obtener los logits\n",
        "            y_lgts = modelCNN(x)\n",
        "            # calculamos las probabilidades\n",
        "            y_prob = F.softmax(y_lgts, 1)\n",
        "            # obtenemos la clase predicha\n",
        "            y_pred = torch.argmax(y_prob, 1)\n",
        "            \n",
        "            # calculamos la pérdida\n",
        "            loss = F.cross_entropy(y_lgts, y_true)\n",
        "            # calculamos la exactitud\n",
        "            acc = (y_true == y_pred).type(torch.float32).mean()\n",
        "\n",
        "            # guardamos históricos\n",
        "            losses.append(loss.item() * 100)\n",
        "            accs.append(acc.item() * 100)\n",
        "\n",
        "        # imprimimos métricas\n",
        "        loss = np.mean(losses)\n",
        "        acc = np.mean(accs)\n",
        "        print(f'E{epoch:2} loss={loss:6.2f} acc={acc:.2f}')"
      ],
      "execution_count": null,
      "outputs": [
        {
          "output_type": "stream",
          "text": [
            "E 0 loss=204.83 acc=51.56\n",
            "E 1 loss=204.83 acc=51.88\n",
            "E 2 loss=204.85 acc=51.88\n",
            "E 3 loss=204.83 acc=51.88\n",
            "E 4 loss=204.87 acc=51.88\n",
            "E 5 loss=204.88 acc=51.88\n",
            "E 6 loss=204.90 acc=51.88\n",
            "E 7 loss=204.91 acc=51.88\n",
            "E 8 loss=204.91 acc=51.88\n",
            "E 9 loss=204.93 acc=51.88\n",
            "E10 loss=204.94 acc=51.88\n",
            "E11 loss=204.92 acc=52.19\n",
            "E12 loss=204.93 acc=52.19\n",
            "E13 loss=204.95 acc=52.19\n",
            "E14 loss=204.95 acc=51.88\n",
            "E15 loss=204.98 acc=52.19\n",
            "E16 loss=204.99 acc=52.19\n",
            "E17 loss=204.97 acc=52.19\n",
            "E18 loss=204.98 acc=52.19\n",
            "E19 loss=205.01 acc=51.88\n",
            "E20 loss=204.99 acc=52.19\n",
            "E21 loss=205.02 acc=52.19\n",
            "E22 loss=205.02 acc=52.19\n",
            "E23 loss=205.05 acc=52.19\n",
            "E24 loss=205.05 acc=52.19\n",
            "E25 loss=205.07 acc=52.19\n",
            "E26 loss=205.10 acc=52.19\n",
            "E27 loss=205.08 acc=52.19\n",
            "E28 loss=205.07 acc=52.19\n",
            "E29 loss=205.09 acc=52.19\n",
            "E30 loss=205.10 acc=52.19\n",
            "E31 loss=205.07 acc=51.88\n",
            "E32 loss=205.12 acc=52.19\n",
            "E33 loss=205.13 acc=52.19\n",
            "E34 loss=205.15 acc=52.19\n",
            "E35 loss=205.12 acc=52.19\n",
            "E36 loss=205.16 acc=52.19\n",
            "E37 loss=205.15 acc=52.19\n",
            "E38 loss=205.14 acc=51.88\n",
            "E39 loss=205.16 acc=52.19\n",
            "E40 loss=205.18 acc=52.19\n",
            "E41 loss=205.18 acc=52.19\n",
            "E42 loss=205.17 acc=51.88\n",
            "E43 loss=205.18 acc=51.88\n",
            "E44 loss=205.21 acc=51.88\n",
            "E45 loss=205.21 acc=51.56\n",
            "E46 loss=205.21 acc=52.19\n",
            "E47 loss=205.23 acc=52.19\n",
            "E48 loss=205.22 acc=52.19\n",
            "E49 loss=205.25 acc=52.19\n"
          ],
          "name": "stdout"
        }
      ]
    },
    {
      "cell_type": "code",
      "metadata": {
        "colab": {
          "base_uri": "https://localhost:8080/",
          "height": 572
        },
        "id": "41LeuJru-KMZ",
        "outputId": "2e9d1758-f67c-4b0c-d323-1807491b69c2"
      },
      "source": [
        "plt.plot(accs)\n",
        "plt.title('Precision del modelo RNN')\n",
        "plt.ylabel('accuracy')\n",
        "plt.xlabel('epocas')\n",
        "plt.show()\n",
        "# hacemos las grafica 2 perdidas\n",
        "plt.plot(losses)\n",
        "plt.title('Perdidas del modelo RNN')\n",
        "plt.ylabel('perdidas')\n",
        "plt.xlabel('epocas')\n",
        "\n",
        "plt.show()"
      ],
      "execution_count": null,
      "outputs": [
        {
          "output_type": "display_data",
          "data": {
            "image/png": "[encoded data removed]",
            "text/plain": [
              "<Figure size 432x288 with 1 Axes>"
            ]
          },
          "metadata": {
            "tags": [],
            "needs_background": "light"
          }
        },
        {
          "output_type": "display_data",
          "data": {
            "image/png": "[encoded data removed]",
            "text/plain": [
              "<Figure size 432x288 with 1 Axes>"
            ]
          },
          "metadata": {
            "tags": [],
            "needs_background": "light"
          }
        }
      ]
    },
    {
      "cell_type": "markdown",
      "metadata": {
        "id": "PUmaEV1iGMqQ"
      },
      "source": [
        "En conclusión, la arquitectura resultó ser más sensible, pero más precisa, al crear 72 filtros la red aprende mejor ciertas caracteristicas, pero al tener solo una capa lineal para clasificar toda la información obtenida es donde se pierde performance, a mi parecer, es por esto que el learning rate tuvo que ser más bajo ya que de otra forma era muy variante el resultado. Un solución con la cual mejorar la arquitectura CNN sería agregar más filtros, algunas capas de submuestreo y mejorar la capa de clasificación.\n",
        "\n",
        "Por otro lado, la arquitectura GRU parece haber tenido un mejor comportamiento en clase, no siendo bidireccional, sin embargo debemos tener en cuenta que la RNN utilizada fue una arquitectura muy simple, por lo que no explotamos al 100 los beneficios de una GRU, sin embargo la desventaja es que los parámetros incrementan de una manera enorme, para mejorar este modelo yo agregaria más capas en la clasificación y jugar más con el tamaño de la GRU e incluso agregar más capas iguales a esta."
      ]
    },
    {
      "cell_type": "code",
      "metadata": {
        "id": "Je-7rNl7_kJP"
      },
      "source": [
        ""
      ],
      "execution_count": null,
      "outputs": []
    }
  ]
}