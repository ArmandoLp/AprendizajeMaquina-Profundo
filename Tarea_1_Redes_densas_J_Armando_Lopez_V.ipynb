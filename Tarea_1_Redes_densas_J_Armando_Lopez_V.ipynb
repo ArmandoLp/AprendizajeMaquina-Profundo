{
  "nbformat": 4,
  "nbformat_minor": 0,
  "metadata": {
    "colab": {
      "name": "Tarea 1 Redes densas -J Armando Lopez V.ipynb",
      "provenance": [],
      "collapsed_sections": [
        "gG11dfN7xeQP",
        "B8la2t-O0wxh",
        "IKjvZUXo_2XS"
      ],
      "authorship_tag": "ABX9TyNJ6gXGDU4YnaJVPZ3AoREO",
      "include_colab_link": true
    },
    "kernelspec": {
      "name": "python3",
      "display_name": "Python 3"
    },
    "widgets": {
      "application/vnd.jupyter.widget-state+json": {
        "4d9e733bd3b744c9a4dac9601acbc876": {
          "model_module": "@jupyter-widgets/controls",
          "model_name": "HBoxModel",
          "state": {
            "_view_name": "HBoxView",
            "_dom_classes": [],
            "_model_name": "HBoxModel",
            "_view_module": "@jupyter-widgets/controls",
            "_model_module_version": "1.5.0",
            "_view_count": null,
            "_view_module_version": "1.5.0",
            "box_style": "",
            "layout": "IPY_MODEL_d727d430491b4664b2660f2eec45776f",
            "_model_module": "@jupyter-widgets/controls",
            "children": [
              "IPY_MODEL_766501bad3c2415a808716e2066be3bf",
              "IPY_MODEL_ab54b6553c5a4dfb9f7f49d72b9c7e18"
            ]
          }
        },
        "d727d430491b4664b2660f2eec45776f": {
          "model_module": "@jupyter-widgets/base",
          "model_name": "LayoutModel",
          "state": {
            "_view_name": "LayoutView",
            "grid_template_rows": null,
            "right": null,
            "justify_content": null,
            "_view_module": "@jupyter-widgets/base",
            "overflow": null,
            "_model_module_version": "1.2.0",
            "_view_count": null,
            "flex_flow": null,
            "width": null,
            "min_width": null,
            "border": null,
            "align_items": null,
            "bottom": null,
            "_model_module": "@jupyter-widgets/base",
            "top": null,
            "grid_column": null,
            "overflow_y": null,
            "overflow_x": null,
            "grid_auto_flow": null,
            "grid_area": null,
            "grid_template_columns": null,
            "flex": null,
            "_model_name": "LayoutModel",
            "justify_items": null,
            "grid_row": null,
            "max_height": null,
            "align_content": null,
            "visibility": null,
            "align_self": null,
            "height": null,
            "min_height": null,
            "padding": null,
            "grid_auto_rows": null,
            "grid_gap": null,
            "max_width": null,
            "order": null,
            "_view_module_version": "1.2.0",
            "grid_template_areas": null,
            "object_position": null,
            "object_fit": null,
            "grid_auto_columns": null,
            "margin": null,
            "display": null,
            "left": null
          }
        },
        "766501bad3c2415a808716e2066be3bf": {
          "model_module": "@jupyter-widgets/controls",
          "model_name": "FloatProgressModel",
          "state": {
            "_view_name": "ProgressView",
            "style": "IPY_MODEL_09105cb793804ca7b8c8a84e83c29195",
            "_dom_classes": [],
            "description": "",
            "_model_name": "FloatProgressModel",
            "bar_style": "success",
            "max": 1,
            "_view_module": "@jupyter-widgets/controls",
            "_model_module_version": "1.5.0",
            "value": 1,
            "_view_count": null,
            "_view_module_version": "1.5.0",
            "orientation": "horizontal",
            "min": 0,
            "description_tooltip": null,
            "_model_module": "@jupyter-widgets/controls",
            "layout": "IPY_MODEL_22da1843dac54513829dcf405ef41461"
          }
        },
        "ab54b6553c5a4dfb9f7f49d72b9c7e18": {
          "model_module": "@jupyter-widgets/controls",
          "model_name": "HTMLModel",
          "state": {
            "_view_name": "HTMLView",
            "style": "IPY_MODEL_72d3981cccd846e78916e0235251bdab",
            "_dom_classes": [],
            "description": "",
            "_model_name": "HTMLModel",
            "placeholder": "​",
            "_view_module": "@jupyter-widgets/controls",
            "_model_module_version": "1.5.0",
            "value": " 8192/? [00:01&lt;00:00, 5124.60it/s]",
            "_view_count": null,
            "_view_module_version": "1.5.0",
            "description_tooltip": null,
            "_model_module": "@jupyter-widgets/controls",
            "layout": "IPY_MODEL_187d214de3eb4270b3cb5b5f2a778fc4"
          }
        },
        "09105cb793804ca7b8c8a84e83c29195": {
          "model_module": "@jupyter-widgets/controls",
          "model_name": "ProgressStyleModel",
          "state": {
            "_view_name": "StyleView",
            "_model_name": "ProgressStyleModel",
            "description_width": "initial",
            "_view_module": "@jupyter-widgets/base",
            "_model_module_version": "1.5.0",
            "_view_count": null,
            "_view_module_version": "1.2.0",
            "bar_color": null,
            "_model_module": "@jupyter-widgets/controls"
          }
        },
        "22da1843dac54513829dcf405ef41461": {
          "model_module": "@jupyter-widgets/base",
          "model_name": "LayoutModel",
          "state": {
            "_view_name": "LayoutView",
            "grid_template_rows": null,
            "right": null,
            "justify_content": null,
            "_view_module": "@jupyter-widgets/base",
            "overflow": null,
            "_model_module_version": "1.2.0",
            "_view_count": null,
            "flex_flow": null,
            "width": null,
            "min_width": null,
            "border": null,
            "align_items": null,
            "bottom": null,
            "_model_module": "@jupyter-widgets/base",
            "top": null,
            "grid_column": null,
            "overflow_y": null,
            "overflow_x": null,
            "grid_auto_flow": null,
            "grid_area": null,
            "grid_template_columns": null,
            "flex": null,
            "_model_name": "LayoutModel",
            "justify_items": null,
            "grid_row": null,
            "max_height": null,
            "align_content": null,
            "visibility": null,
            "align_self": null,
            "height": null,
            "min_height": null,
            "padding": null,
            "grid_auto_rows": null,
            "grid_gap": null,
            "max_width": null,
            "order": null,
            "_view_module_version": "1.2.0",
            "grid_template_areas": null,
            "object_position": null,
            "object_fit": null,
            "grid_auto_columns": null,
            "margin": null,
            "display": null,
            "left": null
          }
        },
        "72d3981cccd846e78916e0235251bdab": {
          "model_module": "@jupyter-widgets/controls",
          "model_name": "DescriptionStyleModel",
          "state": {
            "_view_name": "StyleView",
            "_model_name": "DescriptionStyleModel",
            "description_width": "",
            "_view_module": "@jupyter-widgets/base",
            "_model_module_version": "1.5.0",
            "_view_count": null,
            "_view_module_version": "1.2.0",
            "_model_module": "@jupyter-widgets/controls"
          }
        },
        "187d214de3eb4270b3cb5b5f2a778fc4": {
          "model_module": "@jupyter-widgets/base",
          "model_name": "LayoutModel",
          "state": {
            "_view_name": "LayoutView",
            "grid_template_rows": null,
            "right": null,
            "justify_content": null,
            "_view_module": "@jupyter-widgets/base",
            "overflow": null,
            "_model_module_version": "1.2.0",
            "_view_count": null,
            "flex_flow": null,
            "width": null,
            "min_width": null,
            "border": null,
            "align_items": null,
            "bottom": null,
            "_model_module": "@jupyter-widgets/base",
            "top": null,
            "grid_column": null,
            "overflow_y": null,
            "overflow_x": null,
            "grid_auto_flow": null,
            "grid_area": null,
            "grid_template_columns": null,
            "flex": null,
            "_model_name": "LayoutModel",
            "justify_items": null,
            "grid_row": null,
            "max_height": null,
            "align_content": null,
            "visibility": null,
            "align_self": null,
            "height": null,
            "min_height": null,
            "padding": null,
            "grid_auto_rows": null,
            "grid_gap": null,
            "max_width": null,
            "order": null,
            "_view_module_version": "1.2.0",
            "grid_template_areas": null,
            "object_position": null,
            "object_fit": null,
            "grid_auto_columns": null,
            "margin": null,
            "display": null,
            "left": null
          }
        }
      }
    }
  },
  "cells": [
    {
      "cell_type": "markdown",
      "metadata": {
        "id": "view-in-github",
        "colab_type": "text"
      },
      "source": [
        "<a href=\"https://colab.research.google.com/github/ArmandoLp/AprendizajeMaquina-Profundo/blob/main/Tarea_1_Redes_densas_J_Armando_Lopez_V.ipynb\" target=\"_parent\"><img src=\"https://colab.research.google.com/assets/colab-badge.svg\" alt=\"Open In Colab\"/></a>"
      ]
    },
    {
      "cell_type": "markdown",
      "metadata": {
        "id": "gG11dfN7xeQP"
      },
      "source": [
        "## 1. Red de unidades de umbral lineal\n",
        "Programa y evalúa una red de neuronas con funciones de activación escalón unitario que aproxime la operación XNOR (⊙)\n"
      ]
    },
    {
      "cell_type": "code",
      "metadata": {
        "id": "4JZkTk7mw2ki"
      },
      "source": [
        "import numpy as np\n",
        "import scipy as sp\n",
        "import matplotlib.pyplot as plt\n",
        "from sklearn import datasets"
      ],
      "execution_count": null,
      "outputs": []
    },
    {
      "cell_type": "markdown",
      "metadata": {
        "id": "q34xkKwjx2Vy"
      },
      "source": [
        "Primero programamos la función que nos convertirá la salida en una salida binaria, esto es:\n",
        "\n",
        "$\n",
        "\\phi(x) = \\begin{cases} 1, \\text{si } x>0 \\\\0,  \\text{en caso contrario}\\end{cases}\n",
        "$"
      ]
    },
    {
      "cell_type": "code",
      "metadata": {
        "id": "9aaJMUY1xGhW"
      },
      "source": [
        "def escalon(z):\n",
        "  if z>0.0:\n",
        "    return 1.0\n",
        "  else:\n",
        "    return 0.0"
      ],
      "execution_count": null,
      "outputs": []
    },
    {
      "cell_type": "markdown",
      "metadata": {
        "id": "ZPSqb9o3yqOj"
      },
      "source": [
        "Ahora, programaremos la función que computa la suma de los pesos multiplicados por las entradas, esto es:\n",
        "\n",
        "$\n",
        "z = w_1 \\cdot x_1 + w_2 \\cdot x_2 + \\cdots + w_d \\cdot x_d + b \n",
        "$"
      ]
    },
    {
      "cell_type": "code",
      "metadata": {
        "id": "A_v1lQI9ylrV"
      },
      "source": [
        "def neurona(x, w, b):\n",
        "  z = np.dot(w.T, x) + b\n",
        "  a = escalon(z)\n",
        "\n",
        "  return a"
      ],
      "execution_count": null,
      "outputs": []
    },
    {
      "cell_type": "markdown",
      "metadata": {
        "id": "ovStyzLPzZaJ"
      },
      "source": [
        "Ahora bien, debemos tener en cuenta que tipo de \"compuerta lógica\" utiliza la función XNOR, cuya función es la inversa a la OR exclusiva, esto es:\n",
        "\n",
        "![image.png](https://upload.wikimedia.org/wikipedia/commons/thumb/f/f8/XNOR_using_NOR.svg/450px-XNOR_using_NOR.svg.png)\n",
        "\n",
        "La cual se puede expresar por:\n",
        "$\n",
        "{\\displaystyle A\\cdot B+{\\overline {A}}\\cdot {\\overline {B}}}={\\displaystyle {\\overline {A\\oplus B}}}. $\n",
        "\n",
        "Por lo que necesitamos la compuerta AND, OR, NOT\n",
        "\n",
        "Cuya salida es:\n",
        "\n",
        "![image.png](data:image/png;base64,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)\n"
      ]
    },
    {
      "cell_type": "markdown",
      "metadata": {
        "id": "opbPkW0N9jnf"
      },
      "source": [
        "Ahora bien, para computar XNOR utilizaremos los pesos conocidos en la clase, de esta manera, la función xnor_red lo que busca es unir ambas salidas para utilizar ambos pesos y así poder modelar la compuerta XNOR"
      ]
    },
    {
      "cell_type": "code",
      "metadata": {
        "id": "htozP13c80nO"
      },
      "source": [
        "def xnor_red(X, W1, b1, W2, b2):\n",
        "  escv = np.vectorize(escalon)\n",
        "  a = escv(np.dot(W1.T, X) + b1)\n",
        "  return escv(np.dot(W2.T, a) + b2)"
      ],
      "execution_count": null,
      "outputs": []
    },
    {
      "cell_type": "code",
      "metadata": {
        "id": "3BR7krr4_lfj",
        "colab": {
          "base_uri": "https://localhost:8080/",
          "height": 175
        },
        "outputId": "0c216b60-758c-444f-8e35-12e692c0a7e3"
      },
      "source": [
        "y = np.array([1., 0., 0., 1.]) #Salida real\n",
        "X = np.array([[0., 0.], [0., 1.], [1., 0.], [1., 1.]])\n",
        "\n",
        "\n",
        "#pesos para and\n",
        "W1 = np.array([[10, -10], [10, -10]]) \n",
        "b1 = np.array([-15, 5])\n",
        "\n",
        "#pesos para or\n",
        "W2 = np.array([[10], [10]]) # OR\n",
        "b2 = np.array([-5])\n",
        "\n",
        "print('W_1 = [{0}{1}], b_1 = {2}'.format(W1[0, :], W1[1, :], b1))\n",
        "print('W_2 = [{0}{1}], b_2 = {2}'.format(W2[0], W2[1], b2))\n",
        "print('-----------------------------')\n",
        "print('A \\tB \\ty\\ty_predicted')\n",
        "print('-----------------------------')\n",
        "for i in range(X.shape[0]):\n",
        "  y_hat = xnor_red(X[i], W1, b1, W2, b2)\n",
        "  print('{0}\\t{1}\\t{2}\\t{3}'.format(X[i, 0], X[i, 1], y[i], y_hat[0]))"
      ],
      "execution_count": null,
      "outputs": [
        {
          "output_type": "stream",
          "text": [
            "W_1 = [[ 10 -10][ 10 -10]], b_1 = [-15   5]\n",
            "W_2 = [[10][10]], b_2 = [-5]\n",
            "-----------------------------\n",
            "A \tB \ty\ty_predicted\n",
            "-----------------------------\n",
            "0.0\t0.0\t1.0\t1.0\n",
            "0.0\t1.0\t0.0\t0.0\n",
            "1.0\t0.0\t0.0\t0.0\n",
            "1.0\t1.0\t1.0\t1.0\n"
          ],
          "name": "stdout"
        }
      ]
    },
    {
      "cell_type": "code",
      "metadata": {
        "id": "iD9HFbf0GfK0"
      },
      "source": [
        ""
      ],
      "execution_count": null,
      "outputs": []
    },
    {
      "cell_type": "markdown",
      "metadata": {
        "id": "B8la2t-O0wxh"
      },
      "source": [
        "## 2. Retropropagación en red densa\n",
        "\n",
        "Programa el algoritmo de retropropagación usando NumPy para una tarea de clasificación binaria presuponiendo una red densa con dos capas ocultas y la función de pérdida de entropía cruzad binaria. Describe las fórmulas y reglas de actualización de los pesos y sesgos de cada capa y entrena y evalúa la red en algún conjunto de datos."
      ]
    },
    {
      "cell_type": "code",
      "metadata": {
        "id": "58ZM3cviy1lE"
      },
      "source": [
        "import numpy as np\n"
      ],
      "execution_count": null,
      "outputs": []
    },
    {
      "cell_type": "markdown",
      "metadata": {
        "id": "tWN8U6YDrqlD"
      },
      "source": [
        "Utilizaremos el conjunto de datos del ejercicio anterior (XNOR) la cual tiene dos atributos (A,B) y una salida (A XNOR B) que llamaremos y, dado que la tarea es binaria, la salida pasará por una función de activación sigmoide la cual es:\n",
        "\n",
        "$$\n",
        "\\sigma(z) = \\frac{1}{1 + e^{-z}}\n",
        "$$\n",
        "\n",
        "que se programa a continuación:"
      ]
    },
    {
      "cell_type": "code",
      "metadata": {
        "id": "t--O4ItarNSX"
      },
      "source": [
        "def sigmoide(z):\n",
        "  return 1/ (1+np.exp(-z))"
      ],
      "execution_count": null,
      "outputs": []
    },
    {
      "cell_type": "markdown",
      "metadata": {
        "id": "VIyD03iHsf4E"
      },
      "source": [
        "Dado que haremos backprop necesitamos conocer la dereivada para propagar el error, utilizaremos la definición vista en clase de la derivada utilizando la función, es decir:\n",
        "\n",
        "$$\n",
        "\\frac{\\partial \\sigma (z)}{\\partial z} = \\sigma(z) (1 - \\sigma(z))\n",
        "$$"
      ]
    },
    {
      "cell_type": "code",
      "metadata": {
        "id": "MZOl6jl6rbd_"
      },
      "source": [
        "def derivada_sigmoide(x):\n",
        "  return np.multiply(sigmoide(x), (1.0 - sigmoide(x)))"
      ],
      "execution_count": null,
      "outputs": []
    },
    {
      "cell_type": "markdown",
      "metadata": {
        "id": "zzASX6jds4QN"
      },
      "source": [
        "Falta realizar la función de pérdida, a petición de la tarea, la función será la pérdida de entropía cruzada binaria, la cual se define:\n",
        "\n",
        "$$\n",
        "ECB(\\mathbf{y}, \\mathbf{\\hat{y}})  = -\\sum_{i=1}^N \\left[ y^{(i)} \\log \\hat{y}^{(i)} + (1 - y^{(i)}) \\log (1 - \\hat{y}^{(i)}) \\right]\n",
        "$$"
      ]
    },
    {
      "cell_type": "code",
      "metadata": {
        "id": "D81npCjTs09d"
      },
      "source": [
        "def entropia_cruzada_binaria(y, p):\n",
        "    p[p == 0] = np.nextafter(0., 1.)\n",
        "    p[p == 1] = np.nextafter(1., 0.)\n",
        "    return -(np.log(p[y == 1]).sum() + np.log(1 - p[y == 0]).sum())"
      ],
      "execution_count": null,
      "outputs": []
    },
    {
      "cell_type": "code",
      "metadata": {
        "id": "6rDbfk8otGgH"
      },
      "source": [
        "#Computamos el accuracy\n",
        "def accuracy(y, y_pred):\n",
        "    return (y == y_pred).mean() * 100\n",
        "\n"
      ],
      "execution_count": null,
      "outputs": []
    },
    {
      "cell_type": "markdown",
      "metadata": {
        "id": "dfJTmywJuvsD"
      },
      "source": [
        "Siguiendo el flujo del notebook visto en clase, procedemos a definir la función de propagación hacia adelante. Notemos que al tener dos capas ocultas entonces tenemos 3 matrices de pesos con 3 sesgos, por lo cual la propagación se desarrolla así:\n",
        "\n",
        "$$\n",
        "    \\begin{split}\n",
        "                \\mathbf{a}^{\\{1\\}}  &=  \\mathbf{x}^{(i)} \\\\\n",
        "                \\mathbf{z}^{\\{2\\}}  &=  \\mathbf{W}^{\\{1\\}} \\cdot \\mathbf{a}^{\\{1\\}} + \\mathbf{b}^{\\{1\\}}\\\\\n",
        "                \\mathbf{a}^{\\{2\\}}  &=  \\sigma(\\mathbf{z}^{\\{2\\}}) \\\\\n",
        "                \\mathbf{z}^{\\{3\\}}  &=  \\mathbf{W}^{\\{2\\}} \\cdot \\mathbf{a}^{\\{2\\}}  + \\mathbf{b}^{\\{2\\}}\\\\\n",
        "                \\mathbf{a}^{\\{3\\}}  &=  \\sigma(\\mathbf{z}^{\\{3\\}})\\\\\n",
        "                 \\mathbf{z}^{\\{4\\}}  &=  \\mathbf{W}^{\\{3\\}} \\cdot \\mathbf{a}^{\\{3\\}}  + \\mathbf{b}^{\\{3\\}}\\\\\n",
        "                \\mathbf{a}^{\\{4\\}}  &=  \\sigma(\\mathbf{z}^{\\{4\\}})\\\\\n",
        "                \\hat{y}^{(i)}  &=  \\mathbf{a}^{\\{4\\}}\n",
        "            \\end{split}\n",
        "      $$"
      ]
    },
    {
      "cell_type": "code",
      "metadata": {
        "id": "_sNOrPkQtQ3H"
      },
      "source": [
        "def fordward(x, W1, b1, W2, b2, W3, b3):\n",
        "    z2 = np.dot(W1.T, x[:, np.newaxis]) + b1\n",
        "    a2 = sigmoide(z2)\n",
        "\n",
        "    z3 = np.dot(W2.T, a2) + b2\n",
        "    a3= sigmoide(z3)\n",
        "\n",
        "    z4 = np.dot(W3.T, a3) + b3\n",
        "\n",
        "    y_hat = sigmoide(z4)\n",
        "    return z2, a2, z3, a3, z4, y_hat"
      ],
      "execution_count": null,
      "outputs": []
    },
    {
      "cell_type": "markdown",
      "metadata": {
        "id": "4NTC6Yku2SMe"
      },
      "source": [
        "Ahora definimos el backprop"
      ]
    },
    {
      "cell_type": "code",
      "metadata": {
        "id": "_SI2ygmL13p7"
      },
      "source": [
        "def back(X, y, alpha = 0.01, n_epocas = 100, n_ocultas=10):\n",
        "    n_ejemplos = X.shape[0]\n",
        "    n_entradas = X.shape[1]\n",
        "        \n",
        "    # Inicialización de las matrices de pesos W y V\n",
        "    W1 = np.sqrt(1.0 / n_entradas) * np.random.randn(n_entradas, n_ocultas)\n",
        "    b1 = np.zeros((n_ocultas, 1))\n",
        "\n",
        "    W2 = np.sqrt(1.0 / n_ocultas) * np.random.randn(n_ocultas, n_ocultas)\n",
        "    b2 = np.zeros((n_ocultas, 1))\n",
        "    \n",
        "    W3 = np.sqrt(1.0 / n_ocultas) * np.random.randn(n_ocultas, 1)\n",
        "    b3 = np.zeros((1, 1))\n",
        "    \n",
        "    perdidas = np.zeros((n_epocas))\n",
        "    exactitudes = np.zeros((n_epocas))\n",
        "    y_predicha = np.zeros((y.shape))\n",
        "    for i in range(n_epocas):\n",
        "        for j in range(n_ejemplos):\n",
        "            z2, a2, z3, a3, z4, y_hat = fordward(X[j], W1, b1, W2, b2, W3, b3)\n",
        "\n",
        "            # cálculo de gradientes para W3 y b3 por retropropagación\n",
        "            dz4 = y_hat - y[j]\n",
        "            dW3 = np.outer(a3, dz4)\n",
        "            db3 = dz4\n",
        "\n",
        "            # cálculo de gradientes para W1 y b1 por retropropagación\n",
        "            dz3 = np.dot(W3, dz4) * derivada_sigmoide(z3)\n",
        "            dW2 = np.outer(a2, dz3)\n",
        "            db2 = dz3\n",
        "\n",
        "            # cálculo de gradientes para W1 y b1 por retropropagación\n",
        "            dz2 = np.dot(W2, dz3) * derivada_sigmoide(z2)\n",
        "            dW1 = np.outer(X[j], dz2)\n",
        "            db1 = dz2\n",
        "            \n",
        "            ####################################\n",
        "            # IMPORTANTE \n",
        "            # la actualización de los parámetros\n",
        "            # debe hacerse de forma simultánea\n",
        "            W3 = W3 - alpha * dW3\n",
        "            b3 = b3 - alpha * db3 \n",
        "\n",
        "            W2 = W2 - alpha * dW2\n",
        "            b2 = b2 - alpha * db2\n",
        "            \n",
        "            W1 = W1 - alpha * dW1\n",
        "            b1 = b1 - alpha * db1\n",
        "\n",
        "            y_predicha[j] = y_hat\n",
        "            \n",
        "        # calcula la pérdida en la época\n",
        "        perdidas[i] = entropia_cruzada_binaria(y, y_predicha)\n",
        "        exactitudes[i] = accuracy(y, np.round(y_predicha))\n",
        "        print('Epoch {0}: Pérdida = {1} Exactitud = {2}'.format(i, \n",
        "                                                              perdidas[i], \n",
        "                                                              exactitudes[i]))\n",
        "\n",
        "    return W1, W2, W3, perdidas, exactitudes"
      ],
      "execution_count": null,
      "outputs": []
    },
    {
      "cell_type": "markdown",
      "metadata": {
        "id": "oKjH8rVI9pI3"
      },
      "source": [
        "Ahora probamos para la operación del ejercicio anterior"
      ]
    },
    {
      "cell_type": "code",
      "metadata": {
        "id": "xNEN4PPo9ctF"
      },
      "source": [
        "X = np.array([[0, 0], [0, 1], [1, 0], [1, 1]])\n",
        "y = np.array([[1, 0, 0, 1]]).T"
      ],
      "execution_count": null,
      "outputs": []
    },
    {
      "cell_type": "code",
      "metadata": {
        "id": "8j6vyXQv9yVh",
        "colab": {
          "base_uri": "https://localhost:8080/",
          "height": 1000
        },
        "outputId": "c1a0649a-6fc8-4434-b5e9-d910bac43183"
      },
      "source": [
        "\n",
        "np.random.seed(0)\n",
        "W1, W2, W3, perdidas, exactitudes = back(X, y, alpha = 1.5,  n_epocas = 800, n_ocultas = 10)"
      ],
      "execution_count": null,
      "outputs": [
        {
          "output_type": "stream",
          "text": [
            "Epoch 0: Pérdida = 6.2413316609868215 Exactitud = 50.0\n",
            "Epoch 1: Pérdida = 4.168668153230488 Exactitud = 50.0\n",
            "Epoch 2: Pérdida = 3.9363415529090844 Exactitud = 50.0\n",
            "Epoch 3: Pérdida = 3.8530745113603837 Exactitud = 50.0\n",
            "Epoch 4: Pérdida = 3.806534414660276 Exactitud = 50.0\n",
            "Epoch 5: Pérdida = 3.7767220000880624 Exactitud = 50.0\n",
            "Epoch 6: Pérdida = 3.755877703246483 Exactitud = 50.0\n",
            "Epoch 7: Pérdida = 3.7404086308475897 Exactitud = 50.0\n",
            "Epoch 8: Pérdida = 3.728423419362137 Exactitud = 50.0\n",
            "Epoch 9: Pérdida = 3.7188297162908053 Exactitud = 50.0\n",
            "Epoch 10: Pérdida = 3.710951358033431 Exactitud = 50.0\n",
            "Epoch 11: Pérdida = 3.7043467210760457 Exactitud = 50.0\n",
            "Epoch 12: Pérdida = 3.698714749853549 Exactitud = 50.0\n",
            "Epoch 13: Pérdida = 3.6938429084841253 Exactitud = 50.0\n",
            "Epoch 14: Pérdida = 3.6895767165223674 Exactitud = 50.0\n",
            "Epoch 15: Pérdida = 3.685801086076321 Exactitud = 50.0\n",
            "Epoch 16: Pérdida = 3.6824284418810285 Exactitud = 50.0\n",
            "Epoch 17: Pérdida = 3.6793909077450557 Exactitud = 50.0\n",
            "Epoch 18: Pérdida = 3.6766350203077174 Exactitud = 50.0\n",
            "Epoch 19: Pérdida = 3.6741180633991948 Exactitud = 50.0\n",
            "Epoch 20: Pérdida = 3.671805470387106 Exactitud = 50.0\n",
            "Epoch 21: Pérdida = 3.669668947521851 Exactitud = 50.0\n",
            "Epoch 22: Pérdida = 3.6676850945903294 Exactitud = 50.0\n",
            "Epoch 23: Pérdida = 3.665834375246011 Exactitud = 50.0\n",
            "Epoch 24: Pérdida = 3.66410033750531 Exactitud = 50.0\n",
            "Epoch 25: Pérdida = 3.66246901604843 Exactitud = 50.0\n",
            "Epoch 26: Pérdida = 3.6609284685434527 Exactitud = 50.0\n",
            "Epoch 27: Pérdida = 3.659468412067571 Exactitud = 50.0\n",
            "Epoch 28: Pérdida = 3.658079935187355 Exactitud = 50.0\n",
            "Epoch 29: Pérdida = 3.6567552678597552 Exactitud = 50.0\n",
            "Epoch 30: Pérdida = 3.6554875959729474 Exactitud = 50.0\n",
            "Epoch 31: Pérdida = 3.654270910676748 Exactitud = 50.0\n",
            "Epoch 32: Pérdida = 3.653099885063628 Exactitud = 50.0\n",
            "Epoch 33: Pérdida = 3.6519697725271216 Exactitud = 50.0\n",
            "Epoch 34: Pérdida = 3.650876322431412 Exactitud = 50.0\n",
            "Epoch 35: Pérdida = 3.6498157097027417 Exactitud = 50.0\n",
            "Epoch 36: Pérdida = 3.6487844756904875 Exactitud = 50.0\n",
            "Epoch 37: Pérdida = 3.6477794782066724 Exactitud = 50.0\n",
            "Epoch 38: Pérdida = 3.6467978490832107 Exactitud = 50.0\n",
            "Epoch 39: Pérdida = 3.6458369579189966 Exactitud = 50.0\n",
            "Epoch 40: Pérdida = 3.6448943809481986 Exactitud = 50.0\n",
            "Epoch 41: Pérdida = 3.643967874164402 Exactitud = 50.0\n",
            "Epoch 42: Pérdida = 3.6430553499956337 Exactitud = 50.0\n",
            "Epoch 43: Pérdida = 3.64215485695265 Exactitud = 50.0\n",
            "Epoch 44: Pérdida = 3.6412645617745367 Exactitud = 50.0\n",
            "Epoch 45: Pérdida = 3.6403827336772348 Exactitud = 50.0\n",
            "Epoch 46: Pérdida = 3.63950773037641 Exactitud = 50.0\n",
            "Epoch 47: Pérdida = 3.6386379856093285 Exactitud = 50.0\n",
            "Epoch 48: Pérdida = 3.63777199792378 Exactitud = 50.0\n",
            "Epoch 49: Pérdida = 3.6369083205373727 Exactitud = 50.0\n",
            "Epoch 50: Pérdida = 3.636045552099528 Exactitud = 50.0\n",
            "Epoch 51: Pérdida = 3.6351823282121782 Exactitud = 50.0\n",
            "Epoch 52: Pérdida = 3.6343173135846754 Exactitud = 50.0\n",
            "Epoch 53: Pérdida = 3.6334491947144585 Exactitud = 50.0\n",
            "Epoch 54: Pérdida = 3.6325766729981352 Exactitud = 50.0\n",
            "Epoch 55: Pérdida = 3.6316984581884135 Exactitud = 50.0\n",
            "Epoch 56: Pérdida = 3.630813262121101 Exactitud = 50.0\n",
            "Epoch 57: Pérdida = 3.6299197926434403 Exactitud = 50.0\n",
            "Epoch 58: Pérdida = 3.6290167476806934 Exactitud = 50.0\n",
            "Epoch 59: Pérdida = 3.6281028093823147 Exactitud = 50.0\n",
            "Epoch 60: Pérdida = 3.6271766382923216 Exactitud = 50.0\n",
            "Epoch 61: Pérdida = 3.6262368674908356 Exactitud = 50.0\n",
            "Epoch 62: Pérdida = 3.6252820966552575 Exactitud = 50.0\n",
            "Epoch 63: Pérdida = 3.62431088599018 Exactitud = 50.0\n",
            "Epoch 64: Pérdida = 3.6233217499751023 Exactitud = 50.0\n",
            "Epoch 65: Pérdida = 3.622313150878192 Exactitud = 50.0\n",
            "Epoch 66: Pérdida = 3.6212834919828434 Exactitud = 50.0\n",
            "Epoch 67: Pérdida = 3.620231110471595 Exactitud = 50.0\n",
            "Epoch 68: Pérdida = 3.6191542699090338 Exactitud = 50.0\n",
            "Epoch 69: Pérdida = 3.6180511522616636 Exactitud = 50.0\n",
            "Epoch 70: Pérdida = 3.616919849388277 Exactitud = 50.0\n",
            "Epoch 71: Pérdida = 3.6157583539290634 Exactitud = 50.0\n",
            "Epoch 72: Pérdida = 3.6145645495155687 Exactitud = 50.0\n",
            "Epoch 73: Pérdida = 3.6133362002163643 Exactitud = 50.0\n",
            "Epoch 74: Pérdida = 3.6120709391251307 Exactitud = 50.0\n",
            "Epoch 75: Pérdida = 3.6107662559883513 Exactitud = 50.0\n",
            "Epoch 76: Pérdida = 3.6094194837590403 Exactitud = 50.0\n",
            "Epoch 77: Pérdida = 3.6080277839507326 Exactitud = 50.0\n",
            "Epoch 78: Pérdida = 3.606588130651932 Exactitud = 50.0\n",
            "Epoch 79: Pérdida = 3.6050972930455822 Exactitud = 50.0\n",
            "Epoch 80: Pérdida = 3.603551816260144 Exactitud = 50.0\n",
            "Epoch 81: Pérdida = 3.6019480003587767 Exactitud = 50.0\n",
            "Epoch 82: Pérdida = 3.600281877250277 Exactitud = 50.0\n",
            "Epoch 83: Pérdida = 3.5985491852797753 Exactitud = 50.0\n",
            "Epoch 84: Pérdida = 3.596745341228192 Exactitud = 50.0\n",
            "Epoch 85: Pérdida = 3.5948654094169594 Exactitud = 50.0\n",
            "Epoch 86: Pérdida = 3.5929040675779196 Exactitud = 50.0\n",
            "Epoch 87: Pérdida = 3.5908555691074393 Exactitud = 50.0\n",
            "Epoch 88: Pérdida = 3.5887137012780563 Exactitud = 50.0\n",
            "Epoch 89: Pérdida = 3.586471738930169 Exactitud = 50.0\n",
            "Epoch 90: Pérdida = 3.584122393110024 Exactitud = 50.0\n",
            "Epoch 91: Pérdida = 3.5816577540583356 Exactitud = 50.0\n",
            "Epoch 92: Pérdida = 3.579069227886301 Exactitud = 50.0\n",
            "Epoch 93: Pérdida = 3.5763474662027677 Exactitud = 50.0\n",
            "Epoch 94: Pérdida = 3.573482287878517 Exactitud = 50.0\n",
            "Epoch 95: Pérdida = 3.5704625920523156 Exactitud = 50.0\n",
            "Epoch 96: Pérdida = 3.5672762614006883 Exactitud = 50.0\n",
            "Epoch 97: Pérdida = 3.563910054612571 Exactitud = 50.0\n",
            "Epoch 98: Pérdida = 3.5603494869363166 Exactitud = 50.0\n",
            "Epoch 99: Pérdida = 3.5565786976073537 Exactitud = 50.0\n",
            "Epoch 100: Pérdida = 3.5525803029311125 Exactitud = 50.0\n",
            "Epoch 101: Pérdida = 3.5483352338030842 Exactitud = 50.0\n",
            "Epoch 102: Pérdida = 3.5438225565179593 Exactitud = 50.0\n",
            "Epoch 103: Pérdida = 3.53901927588313 Exactitud = 50.0\n",
            "Epoch 104: Pérdida = 3.533900119950512 Exactitud = 50.0\n",
            "Epoch 105: Pérdida = 3.528437306172348 Exactitud = 50.0\n",
            "Epoch 106: Pérdida = 3.5226002895496817 Exactitud = 50.0\n",
            "Epoch 107: Pérdida = 3.516355494482103 Exactitud = 50.0\n",
            "Epoch 108: Pérdida = 3.5096660336846996 Exactitud = 50.0\n",
            "Epoch 109: Pérdida = 3.5024914198980253 Exactitud = 50.0\n",
            "Epoch 110: Pérdida = 3.4947872794191888 Exactitud = 50.0\n",
            "Epoch 111: Pérdida = 3.4865050810313045 Exactitud = 50.0\n",
            "Epoch 112: Pérdida = 3.4775919000805704 Exactitud = 50.0\n",
            "Epoch 113: Pérdida = 3.4679902456903733 Exactitud = 50.0\n",
            "Epoch 114: Pérdida = 3.4576379899050353 Exactitud = 50.0\n",
            "Epoch 115: Pérdida = 3.446468451412469 Exactitud = 50.0\n",
            "Epoch 116: Pérdida = 3.434410703777364 Exactitud = 50.0\n",
            "Epoch 117: Pérdida = 3.421390198868998 Exactitud = 50.0\n",
            "Epoch 118: Pérdida = 3.407329819747595 Exactitud = 50.0\n",
            "Epoch 119: Pérdida = 3.392151501785835 Exactitud = 50.0\n",
            "Epoch 120: Pérdida = 3.3757785822768245 Exactitud = 50.0\n",
            "Epoch 121: Pérdida = 3.3581390500986936 Exactitud = 50.0\n",
            "Epoch 122: Pérdida = 3.3391698567419503 Exactitud = 50.0\n",
            "Epoch 123: Pérdida = 3.3188224016476493 Exactitud = 50.0\n",
            "Epoch 124: Pérdida = 3.2970691973557096 Exactitud = 50.0\n",
            "Epoch 125: Pérdida = 3.273911531580544 Exactitud = 50.0\n",
            "Epoch 126: Pérdida = 3.2493876601287894 Exactitud = 50.0\n",
            "Epoch 127: Pérdida = 3.223580696105988 Exactitud = 50.0\n",
            "Epoch 128: Pérdida = 3.1966249606803716 Exactitud = 50.0\n",
            "Epoch 129: Pérdida = 3.1687092435450817 Exactitud = 50.0\n",
            "Epoch 130: Pérdida = 3.140075359401792 Exactitud = 50.0\n",
            "Epoch 131: Pérdida = 3.111010763532194 Exactitud = 50.0\n",
            "Epoch 132: Pérdida = 3.0818349015474933 Exactitud = 50.0\n",
            "Epoch 133: Pérdida = 3.05288030913692 Exactitud = 50.0\n",
            "Epoch 134: Pérdida = 3.0244708825526363 Exactitud = 50.0\n",
            "Epoch 135: Pérdida = 2.996900682793882 Exactitud = 50.0\n",
            "Epoch 136: Pérdida = 2.9704166766778446 Exactitud = 50.0\n",
            "Epoch 137: Pérdida = 2.945207871825276 Exactitud = 50.0\n",
            "Epoch 138: Pérdida = 2.92140172401483 Exactitud = 50.0\n",
            "Epoch 139: Pérdida = 2.8990670903396554 Exactitud = 50.0\n",
            "Epoch 140: Pérdida = 2.8782219006452325 Exactitud = 50.0\n",
            "Epoch 141: Pérdida = 2.85884334188656 Exactitud = 50.0\n",
            "Epoch 142: Pérdida = 2.840878588365568 Exactitud = 50.0\n",
            "Epoch 143: Pérdida = 2.824254684994015 Exactitud = 50.0\n",
            "Epoch 144: Pérdida = 2.8088868232987685 Exactitud = 50.0\n",
            "Epoch 145: Pérdida = 2.79468476562351 Exactitud = 50.0\n",
            "Epoch 146: Pérdida = 2.781557509995495 Exactitud = 50.0\n",
            "Epoch 147: Pérdida = 2.769416460657831 Exactitud = 50.0\n",
            "Epoch 148: Pérdida = 2.7581774237326098 Exactitud = 50.0\n",
            "Epoch 149: Pérdida = 2.7477617324835135 Exactitud = 50.0\n",
            "Epoch 150: Pérdida = 2.738096759479013 Exactitud = 50.0\n",
            "Epoch 151: Pérdida = 2.7291160171582947 Exactitud = 50.0\n",
            "Epoch 152: Pérdida = 2.7207589962786054 Exactitud = 50.0\n",
            "Epoch 153: Pérdida = 2.712970848544427 Exactitud = 50.0\n",
            "Epoch 154: Pérdida = 2.7057019863304452 Exactitud = 50.0\n",
            "Epoch 155: Pérdida = 2.698907647810474 Exactitud = 50.0\n",
            "Epoch 156: Pérdida = 2.6925474583182814 Exactitud = 50.0\n",
            "Epoch 157: Pérdida = 2.6865850066889383 Exactitud = 75.0\n",
            "Epoch 158: Pérdida = 2.6809874471959847 Exactitud = 75.0\n",
            "Epoch 159: Pérdida = 2.6757251323565763 Exactitud = 75.0\n",
            "Epoch 160: Pérdida = 2.670771278462328 Exactitud = 75.0\n",
            "Epoch 161: Pérdida = 2.666101663586825 Exactitud = 75.0\n",
            "Epoch 162: Pérdida = 2.6616943565851545 Exactitud = 75.0\n",
            "Epoch 163: Pérdida = 2.657529474935239 Exactitud = 75.0\n",
            "Epoch 164: Pérdida = 2.6535889689705816 Exactitud = 75.0\n",
            "Epoch 165: Pérdida = 2.6498564299818472 Exactitud = 75.0\n",
            "Epoch 166: Pérdida = 2.6463169197296317 Exactitud = 75.0\n",
            "Epoch 167: Pérdida = 2.642956819053234 Exactitud = 75.0\n",
            "Epoch 168: Pérdida = 2.6397636934418776 Exactitud = 75.0\n",
            "Epoch 169: Pérdida = 2.6367261736315784 Exactitud = 75.0\n",
            "Epoch 170: Pérdida = 2.6338338494878366 Exactitud = 75.0\n",
            "Epoch 171: Pérdida = 2.6310771756228677 Exactitud = 75.0\n",
            "Epoch 172: Pérdida = 2.6284473873716028 Exactitud = 75.0\n",
            "Epoch 173: Pérdida = 2.6259364259108464 Exactitud = 75.0\n",
            "Epoch 174: Pérdida = 2.623536871450386 Exactitud = 75.0\n",
            "Epoch 175: Pérdida = 2.6212418835536644 Exactitud = 75.0\n",
            "Epoch 176: Pérdida = 2.6190451477598944 Exactitud = 75.0\n",
            "Epoch 177: Pérdida = 2.6169408277803363 Exactitud = 75.0\n",
            "Epoch 178: Pérdida = 2.6149235226300664 Exactitud = 75.0\n",
            "Epoch 179: Pérdida = 2.612988228134366 Exactitud = 75.0\n",
            "Epoch 180: Pérdida = 2.611130302316933 Exactitud = 75.0\n",
            "Epoch 181: Pérdida = 2.609345434236717 Exactitud = 75.0\n",
            "Epoch 182: Pérdida = 2.6076296158922463 Exactitud = 75.0\n",
            "Epoch 183: Pérdida = 2.6059791168578568 Exactitud = 75.0\n",
            "Epoch 184: Pérdida = 2.6043904613560516 Exactitud = 75.0\n",
            "Epoch 185: Pérdida = 2.602860407505008 Exactitud = 75.0\n",
            "Epoch 186: Pérdida = 2.6013859285107372 Exactitud = 75.0\n",
            "Epoch 187: Pérdida = 2.599964195600043 Exactitud = 75.0\n",
            "Epoch 188: Pérdida = 2.5985925625138475 Exactitud = 75.0\n",
            "Epoch 189: Pérdida = 2.597268551400874 Exactitud = 75.0\n",
            "Epoch 190: Pérdida = 2.595989839969767 Exactitud = 75.0\n",
            "Epoch 191: Pérdida = 2.5947542497734606 Exactitud = 75.0\n",
            "Epoch 192: Pérdida = 2.5935597355135838 Exactitud = 75.0\n",
            "Epoch 193: Pérdida = 2.5924043752649117 Exactitud = 75.0\n",
            "Epoch 194: Pérdida = 2.591286361530691 Exactitud = 75.0\n",
            "Epoch 195: Pérdida = 2.590203993049218 Exactitud = 75.0\n",
            "Epoch 196: Pérdida = 2.5891556672804596 Exactitud = 75.0\n",
            "Epoch 197: Pérdida = 2.588139873508985 Exactitud = 75.0\n",
            "Epoch 198: Pérdida = 2.5871551865060964 Exactitud = 75.0\n",
            "Epoch 199: Pérdida = 2.586200260699875 Exactitud = 75.0\n",
            "Epoch 200: Pérdida = 2.585273824807119 Exactitud = 75.0\n",
            "Epoch 201: Pérdida = 2.584374676885732 Exactitud = 75.0\n",
            "Epoch 202: Pérdida = 2.583501679770278 Exactitud = 75.0\n",
            "Epoch 203: Pérdida = 2.5826537568570758 Exactitud = 75.0\n",
            "Epoch 204: Pérdida = 2.5818298882084845 Exactitud = 75.0\n",
            "Epoch 205: Pérdida = 2.581029106948975 Exactitud = 75.0\n",
            "Epoch 206: Pérdida = 2.5802504959281807 Exactitud = 75.0\n",
            "Epoch 207: Pérdida = 2.5794931846284745 Exactitud = 75.0\n",
            "Epoch 208: Pérdida = 2.578756346296746 Exactitud = 75.0\n",
            "Epoch 209: Pérdida = 2.5780391952818786 Exactitud = 75.0\n",
            "Epoch 210: Pérdida = 2.5773409845611925 Exactitud = 75.0\n",
            "Epoch 211: Pérdida = 2.576661003440586 Exactitud = 75.0\n",
            "Epoch 212: Pérdida = 2.575998575414519 Exactitud = 75.0\n",
            "Epoch 213: Pérdida = 2.575353056173185 Exactitud = 75.0\n",
            "Epoch 214: Pérdida = 2.5747238317453647 Exactitud = 75.0\n",
            "Epoch 215: Pérdida = 2.574110316766436 Exactitud = 75.0\n",
            "Epoch 216: Pérdida = 2.5735119528619395 Exactitud = 75.0\n",
            "Epoch 217: Pérdida = 2.572928207137922 Exactitud = 75.0\n",
            "Epoch 218: Pérdida = 2.5723585707700094 Exactitud = 75.0\n",
            "Epoch 219: Pérdida = 2.5718025576838652 Exactitud = 75.0\n",
            "Epoch 220: Pérdida = 2.5712597033202798 Exactitud = 75.0\n",
            "Epoch 221: Pérdida = 2.570729563478697 Exactitud = 75.0\n",
            "Epoch 222: Pérdida = 2.570211713233506 Exactitud = 75.0\n",
            "Epoch 223: Pérdida = 2.569705745917868 Exactitud = 75.0\n",
            "Epoch 224: Pérdida = 2.569211272170276 Exactitud = 75.0\n",
            "Epoch 225: Pérdida = 2.568727919039431 Exactitud = 75.0\n",
            "Epoch 226: Pérdida = 2.568255329143363 Exactitud = 75.0\n",
            "Epoch 227: Pérdida = 2.5677931598790322 Exactitud = 75.0\n",
            "Epoch 228: Pérdida = 2.56734108267897 Exactitud = 75.0\n",
            "Epoch 229: Pérdida = 2.566898782311739 Exactitud = 75.0\n",
            "Epoch 230: Pérdida = 2.5664659562232797 Exactitud = 75.0\n",
            "Epoch 231: Pérdida = 2.566042313916404 Exactitud = 75.0\n",
            "Epoch 232: Pérdida = 2.5656275763659053 Exactitud = 75.0\n",
            "Epoch 233: Pérdida = 2.5652214754669638 Exactitud = 75.0\n",
            "Epoch 234: Pérdida = 2.564823753514664 Exactitud = 75.0\n",
            "Epoch 235: Pérdida = 2.564434162712624 Exactitud = 75.0\n",
            "Epoch 236: Pérdida = 2.5640524647088823 Exactitud = 75.0\n",
            "Epoch 237: Pérdida = 2.563678430157288 Exactitud = 75.0\n",
            "Epoch 238: Pérdida = 2.5633118383028273 Exactitud = 75.0\n",
            "Epoch 239: Pérdida = 2.5629524765893574 Exactitud = 75.0\n",
            "Epoch 240: Pérdida = 2.562600140288379 Exactitud = 75.0\n",
            "Epoch 241: Pérdida = 2.5622546321475568 Exactitud = 75.0\n",
            "Epoch 242: Pérdida = 2.5619157620577777 Exactitud = 75.0\n",
            "Epoch 243: Pérdida = 2.5615833467376308 Exactitud = 75.0\n",
            "Epoch 244: Pérdida = 2.5612572094342676 Exactitud = 75.0\n",
            "Epoch 245: Pérdida = 2.5609371796396623 Exactitud = 75.0\n",
            "Epoch 246: Pérdida = 2.5606230928213725 Exactitud = 75.0\n",
            "Epoch 247: Pérdida = 2.5603147901669456 Exactitud = 75.0\n",
            "Epoch 248: Pérdida = 2.560012118341171 Exactitud = 75.0\n",
            "Epoch 249: Pérdida = 2.5597149292554606 Exactitud = 75.0\n",
            "Epoch 250: Pérdida = 2.559423079848639 Exactitud = 75.0\n",
            "Epoch 251: Pérdida = 2.559136431878511 Exactitud = 75.0\n",
            "Epoch 252: Pérdida = 2.5588548517235896 Exactitud = 75.0\n",
            "Epoch 253: Pérdida = 2.5585782101944305 Exactitud = 75.0\n",
            "Epoch 254: Pérdida = 2.558306382354022 Exactitud = 75.0\n",
            "Epoch 255: Pérdida = 2.55803924734674 Exactitud = 75.0\n",
            "Epoch 256: Pérdida = 2.55777668823541 Exactitud = 75.0\n",
            "Epoch 257: Pérdida = 2.5575185918460135 Exactitud = 75.0\n",
            "Epoch 258: Pérdida = 2.557264848619642 Exactitud = 75.0\n",
            "Epoch 259: Pérdida = 2.5570153524713177 Exactitud = 75.0\n",
            "Epoch 260: Pérdida = 2.5567700006552876 Exactitud = 75.0\n",
            "Epoch 261: Pérdida = 2.5565286936364835 Exactitud = 75.0\n",
            "Epoch 262: Pérdida = 2.556291334967801 Exactitud = 75.0\n",
            "Epoch 263: Pérdida = 2.5560578311729056 Exactitud = 75.0\n",
            "Epoch 264: Pérdida = 2.5558280916342735 Exactitud = 75.0\n",
            "Epoch 265: Pérdida = 2.555602028486209 Exactitud = 75.0\n",
            "Epoch 266: Pérdida = 2.555379556512573 Exactitud = 75.0\n",
            "Epoch 267: Pérdida = 2.555160593048989 Exactitud = 75.0\n",
            "Epoch 268: Pérdida = 2.5549450578893067 Exactitud = 75.0\n",
            "Epoch 269: Pérdida = 2.554732873196098 Exactitud = 75.0\n",
            "Epoch 270: Pérdida = 2.5545239634150025 Exactitud = 75.0\n",
            "Epoch 271: Pérdida = 2.5543182551927135 Exactitud = 75.0\n",
            "Epoch 272: Pérdida = 2.5541156772984452 Exactitud = 75.0\n",
            "Epoch 273: Pérdida = 2.5539161605486944 Exactitud = 75.0\n",
            "Epoch 274: Pérdida = 2.5537196377351536 Exactitud = 75.0\n",
            "Epoch 275: Pérdida = 2.553526043555607 Exactitud = 75.0\n",
            "Epoch 276: Pérdida = 2.5533353145476867 Exactitud = 75.0\n",
            "Epoch 277: Pérdida = 2.5531473890253373 Exactitud = 75.0\n",
            "Epoch 278: Pérdida = 2.552962207017866 Exactitud = 75.0\n",
            "Epoch 279: Pérdida = 2.5527797102114604 Exactitud = 75.0\n",
            "Epoch 280: Pérdida = 2.552599841893065 Exactitud = 75.0\n",
            "Epoch 281: Pérdida = 2.5524225468964827 Exactitud = 75.0\n",
            "Epoch 282: Pérdida = 2.5522477715506344 Exactitud = 75.0\n",
            "Epoch 283: Pérdida = 2.5520754636298455 Exactitud = 75.0\n",
            "Epoch 284: Pérdida = 2.5519055723060893 Exactitud = 75.0\n",
            "Epoch 285: Pérdida = 2.5517380481030933 Exactitud = 75.0\n",
            "Epoch 286: Pérdida = 2.551572842852216 Exactitud = 75.0\n",
            "Epoch 287: Pérdida = 2.551409909650026 Exactitud = 75.0\n",
            "Epoch 288: Pérdida = 2.551249202817508 Exactitud = 75.0\n",
            "Epoch 289: Pérdida = 2.551090677860813 Exactitud = 75.0\n",
            "Epoch 290: Pérdida = 2.550934291433501 Exactitud = 75.0\n",
            "Epoch 291: Pérdida = 2.5507800013001933 Exactitud = 75.0\n",
            "Epoch 292: Pérdida = 2.550627766301594 Exactitud = 75.0\n",
            "Epoch 293: Pérdida = 2.5504775463208005 Exactitud = 75.0\n",
            "Epoch 294: Pérdida = 2.5503293022508666 Exactitud = 75.0\n",
            "Epoch 295: Pérdida = 2.5501829959635476 Exactitud = 75.0\n",
            "Epoch 296: Pérdida = 2.5500385902792004 Exactitud = 75.0\n",
            "Epoch 297: Pérdida = 2.5498960489377573 Exactitud = 75.0\n",
            "Epoch 298: Pérdida = 2.549755336570764 Exactitud = 75.0\n",
            "Epoch 299: Pérdida = 2.549616418674414 Exactitud = 75.0\n",
            "Epoch 300: Pérdida = 2.549479261583542 Exactitud = 75.0\n",
            "Epoch 301: Pérdida = 2.5493438324465476 Exactitud = 75.0\n",
            "Epoch 302: Pérdida = 2.549210099201198 Exactitud = 75.0\n",
            "Epoch 303: Pérdida = 2.5490780305512835 Exactitud = 75.0\n",
            "Epoch 304: Pérdida = 2.5489475959440826 Exactitud = 75.0\n",
            "Epoch 305: Pérdida = 2.5488187655486163 Exactitud = 75.0\n",
            "Epoch 306: Pérdida = 2.5486915102346477 Exactitud = 75.0\n",
            "Epoch 307: Pérdida = 2.5485658015524013 Exactitud = 75.0\n",
            "Epoch 308: Pérdida = 2.548441611712981 Exactitud = 75.0\n",
            "Epoch 309: Pérdida = 2.548318913569447 Exactitud = 75.0\n",
            "Epoch 310: Pérdida = 2.5481976805985345 Exactitud = 75.0\n",
            "Epoch 311: Pérdida = 2.5480778868829868 Exactitud = 75.0\n",
            "Epoch 312: Pérdida = 2.5479595070944767 Exactitud = 75.0\n",
            "Epoch 313: Pérdida = 2.547842516477098 Exactitud = 75.0\n",
            "Epoch 314: Pérdida = 2.5477268908314006 Exactitud = 75.0\n",
            "Epoch 315: Pérdida = 2.547612606498954 Exactitud = 75.0\n",
            "Epoch 316: Pérdida = 2.547499640347412 Exactitud = 75.0\n",
            "Epoch 317: Pérdida = 2.547387969756066 Exactitud = 75.0\n",
            "Epoch 318: Pérdida = 2.547277572601864 Exactitud = 75.0\n",
            "Epoch 319: Pérdida = 2.5471684272458823 Exactitud = 75.0\n",
            "Epoch 320: Pérdida = 2.547060512520232 Exactitud = 75.0\n",
            "Epoch 321: Pérdida = 2.54695380771538 Exactitud = 75.0\n",
            "Epoch 322: Pérdida = 2.546848292567869 Exactitud = 75.0\n",
            "Epoch 323: Pérdida = 2.5467439472484346 Exactitud = 75.0\n",
            "Epoch 324: Pérdida = 2.5466407523504877 Exactitud = 75.0\n",
            "Epoch 325: Pérdida = 2.5465386888789614 Exactitud = 75.0\n",
            "Epoch 326: Pérdida = 2.5464377382395 Exactitud = 75.0\n",
            "Epoch 327: Pérdida = 2.546337882227988 Exactitud = 75.0\n",
            "Epoch 328: Pérdida = 2.5462391030203952 Exactitud = 75.0\n",
            "Epoch 329: Pérdida = 2.5461413831629405 Exactitud = 75.0\n",
            "Epoch 330: Pérdida = 2.546044705562549 Exactitud = 75.0\n",
            "Epoch 331: Pérdida = 2.5459490534775995 Exactitud = 75.0\n",
            "Epoch 332: Pérdida = 2.545854410508958 Exactitud = 75.0\n",
            "Epoch 333: Pérdida = 2.54576076059127 Exactitud = 75.0\n",
            "Epoch 334: Pérdida = 2.5456680879845193 Exactitud = 75.0\n",
            "Epoch 335: Pérdida = 2.545576377265841 Exactitud = 75.0\n",
            "Epoch 336: Pérdida = 2.545485613321568 Exactitud = 75.0\n",
            "Epoch 337: Pérdida = 2.545395781339521 Exactitud = 75.0\n",
            "Epoch 338: Pérdida = 2.5453068668015177 Exactitud = 75.0\n",
            "Epoch 339: Pérdida = 2.5452188554761044 Exactitud = 75.0\n",
            "Epoch 340: Pérdida = 2.5451317334114973 Exactitud = 75.0\n",
            "Epoch 341: Pérdida = 2.5450454869287302 Exactitud = 75.0\n",
            "Epoch 342: Pérdida = 2.5449601026149944 Exactitud = 75.0\n",
            "Epoch 343: Pérdida = 2.544875567317174 Exactitud = 75.0\n",
            "Epoch 344: Pérdida = 2.544791868135566 Exactitud = 75.0\n",
            "Epoch 345: Pérdida = 2.5447089924177733 Exactitud = 75.0\n",
            "Epoch 346: Pérdida = 2.544626927752773 Exactitud = 75.0\n",
            "Epoch 347: Pérdida = 2.544545661965156 Exactitud = 75.0\n",
            "Epoch 348: Pérdida = 2.5444651831095184 Exactitud = 75.0\n",
            "Epoch 349: Pérdida = 2.54438547946502 Exactitud = 75.0\n",
            "Epoch 350: Pérdida = 2.5443065395300803 Exactitud = 75.0\n",
            "Epoch 351: Pérdida = 2.544228352017237 Exactitud = 75.0\n",
            "Epoch 352: Pérdida = 2.54415090584813 Exactitud = 75.0\n",
            "Epoch 353: Pérdida = 2.5440741901486335 Exactitud = 75.0\n",
            "Epoch 354: Pérdida = 2.543998194244118 Exactitud = 75.0\n",
            "Epoch 355: Pérdida = 2.5439229076548333 Exactitud = 75.0\n",
            "Epoch 356: Pérdida = 2.5438483200914317 Exactitud = 75.0\n",
            "Epoch 357: Pérdida = 2.5437744214505913 Exactitud = 75.0\n",
            "Epoch 358: Pérdida = 2.5437012018107756 Exactitud = 75.0\n",
            "Epoch 359: Pérdida = 2.5436286514280906 Exactitud = 75.0\n",
            "Epoch 360: Pérdida = 2.5435567607322627 Exactitud = 75.0\n",
            "Epoch 361: Pérdida = 2.543485520322717 Exactitud = 75.0\n",
            "Epoch 362: Pérdida = 2.5434149209647554 Exactitud = 75.0\n",
            "Epoch 363: Pérdida = 2.5433449535858452 Exactitud = 75.0\n",
            "Epoch 364: Pérdida = 2.5432756092719933 Exactitud = 75.0\n",
            "Epoch 365: Pérdida = 2.5432068792642193 Exactitud = 75.0\n",
            "Epoch 366: Pérdida = 2.5431387549551188 Exactitud = 75.0\n",
            "Epoch 367: Pérdida = 2.543071227885515 Exactitud = 75.0\n",
            "Epoch 368: Pérdida = 2.543004289741198 Exactitud = 75.0\n",
            "Epoch 369: Pérdida = 2.542937932349738 Exactitud = 75.0\n",
            "Epoch 370: Pérdida = 2.542872147677393 Exactitud = 75.0\n",
            "Epoch 371: Pérdida = 2.542806927826084 Exactitud = 75.0\n",
            "Epoch 372: Pérdida = 2.542742265030447 Exactitud = 75.0\n",
            "Epoch 373: Pérdida = 2.5426781516549624 Exactitud = 75.0\n",
            "Epoch 374: Pérdida = 2.542614580191157 Exactitud = 75.0\n",
            "Epoch 375: Pérdida = 2.542551543254867 Exactitud = 75.0\n",
            "Epoch 376: Pérdida = 2.5424890335835744 Exactitud = 75.0\n",
            "Epoch 377: Pérdida = 2.5424270440338126 Exactitud = 75.0\n",
            "Epoch 378: Pérdida = 2.5423655675786243 Exactitud = 75.0\n",
            "Epoch 379: Pérdida = 2.5423045973050886 Exactitud = 75.0\n",
            "Epoch 380: Pérdida = 2.54224412641191 Exactitud = 75.0\n",
            "Epoch 381: Pérdida = 2.542184148207057 Exactitud = 75.0\n",
            "Epoch 382: Pérdida = 2.5421246561054645 Exactitud = 75.0\n",
            "Epoch 383: Pérdida = 2.542065643626788 Exactitud = 75.0\n",
            "Epoch 384: Pérdida = 2.5420071043932104 Exactitud = 75.0\n",
            "Epoch 385: Pérdida = 2.5419490321273037 Exactitud = 75.0\n",
            "Epoch 386: Pérdida = 2.5418914206499346 Exactitud = 75.0\n",
            "Epoch 387: Pérdida = 2.5418342638782274 Exactitud = 75.0\n",
            "Epoch 388: Pérdida = 2.5417775558235673 Exactitud = 75.0\n",
            "Epoch 389: Pérdida = 2.5417212905896545 Exactitud = 75.0\n",
            "Epoch 390: Pérdida = 2.541665462370597 Exactitud = 75.0\n",
            "Epoch 391: Pérdida = 2.5416100654490545 Exactitud = 75.0\n",
            "Epoch 392: Pérdida = 2.5415550941944236 Exactitud = 75.0\n",
            "Epoch 393: Pérdida = 2.5415005430610536 Exactitud = 75.0\n",
            "Epoch 394: Pérdida = 2.541446406586518 Exactitud = 75.0\n",
            "Epoch 395: Pérdida = 2.5413926793899138 Exactitud = 75.0\n",
            "Epoch 396: Pérdida = 2.5413393561702033 Exactitud = 75.0\n",
            "Epoch 397: Pérdida = 2.5412864317045916 Exactitud = 75.0\n",
            "Epoch 398: Pérdida = 2.5412339008469402 Exactitud = 75.0\n",
            "Epoch 399: Pérdida = 2.5411817585262115 Exactitud = 75.0\n",
            "Epoch 400: Pérdida = 2.5411299997449577 Exactitud = 75.0\n",
            "Epoch 401: Pérdida = 2.5410786195778314 Exactitud = 75.0\n",
            "Epoch 402: Pérdida = 2.5410276131701286 Exactitud = 75.0\n",
            "Epoch 403: Pérdida = 2.540976975736376 Exactitud = 75.0\n",
            "Epoch 404: Pérdida = 2.5409267025589326 Exactitud = 75.0\n",
            "Epoch 405: Pérdida = 2.540876788986629 Exactitud = 75.0\n",
            "Epoch 406: Pérdida = 2.540827230433433 Exactitud = 75.0\n",
            "Epoch 407: Pérdida = 2.5407780223771494 Exactitud = 75.0\n",
            "Epoch 408: Pérdida = 2.5407291603581315 Exactitud = 75.0\n",
            "Epoch 409: Pérdida = 2.5406806399780404 Exactitud = 75.0\n",
            "Epoch 410: Pérdida = 2.54063245689861 Exactitud = 75.0\n",
            "Epoch 411: Pérdida = 2.54058460684045 Exactitud = 75.0\n",
            "Epoch 412: Pérdida = 2.5405370855818674 Exactitud = 75.0\n",
            "Epoch 413: Pérdida = 2.5404898889577114 Exactitud = 75.0\n",
            "Epoch 414: Pérdida = 2.5404430128582485 Exactitud = 75.0\n",
            "Epoch 415: Pérdida = 2.5403964532280474 Exactitud = 75.0\n",
            "Epoch 416: Pérdida = 2.540350206064897 Exactitud = 75.0\n",
            "Epoch 417: Pérdida = 2.540304267418742 Exactitud = 75.0\n",
            "Epoch 418: Pérdida = 2.5402586333906356 Exactitud = 75.0\n",
            "Epoch 419: Pérdida = 2.5402133001317146 Exactitud = 75.0\n",
            "Epoch 420: Pérdida = 2.5401682638422 Exactitud = 75.0\n",
            "Epoch 421: Pérdida = 2.540123520770403 Exactitud = 75.0\n",
            "Epoch 422: Pérdida = 2.5400790672117637 Exactitud = 75.0\n",
            "Epoch 423: Pérdida = 2.540034899507901 Exactitud = 75.0\n",
            "Epoch 424: Pérdida = 2.5399910140456727 Exactitud = 75.0\n",
            "Epoch 425: Pérdida = 2.539947407256272 Exactitud = 75.0\n",
            "Epoch 426: Pérdida = 2.5399040756143205 Exactitud = 75.0\n",
            "Epoch 427: Pérdida = 2.539861015636987 Exactitud = 75.0\n",
            "Epoch 428: Pérdida = 2.539818223883122 Exactitud = 75.0\n",
            "Epoch 429: Pérdida = 2.539775696952404 Exactitud = 75.0\n",
            "Epoch 430: Pérdida = 2.5397334314845024 Exactitud = 75.0\n",
            "Epoch 431: Pérdida = 2.539691424158254 Exactitud = 75.0\n",
            "Epoch 432: Pérdida = 2.5396496716908548 Exactitud = 75.0\n",
            "Epoch 433: Pérdida = 2.5396081708370613 Exactitud = 75.0\n",
            "Epoch 434: Pérdida = 2.539566918388412 Exactitud = 75.0\n",
            "Epoch 435: Pérdida = 2.539525911172454 Exactitud = 75.0\n",
            "Epoch 436: Pérdida = 2.5394851460519856 Exactitud = 75.0\n",
            "Epoch 437: Pérdida = 2.5394446199243097 Exactitud = 75.0\n",
            "Epoch 438: Pérdida = 2.5394043297205005 Exactitud = 75.0\n",
            "Epoch 439: Pérdida = 2.5393642724046805 Exactitud = 75.0\n",
            "Epoch 440: Pérdida = 2.5393244449733072 Exactitud = 75.0\n",
            "Epoch 441: Pérdida = 2.5392848444544702 Exactitud = 75.0\n",
            "Epoch 442: Pérdida = 2.539245467907202 Exactitud = 75.0\n",
            "Epoch 443: Pérdida = 2.539206312420795 Exactitud = 75.0\n",
            "Epoch 444: Pérdida = 2.5391673751141246 Exactitud = 75.0\n",
            "Epoch 445: Pérdida = 2.5391286531349957 Exactitud = 75.0\n",
            "Epoch 446: Pérdida = 2.539090143659477 Exactitud = 75.0\n",
            "Epoch 447: Pérdida = 2.5390518438912646 Exactitud = 75.0\n",
            "Epoch 448: Pérdida = 2.539013751061037 Exactitud = 75.0\n",
            "Epoch 449: Pérdida = 2.5389758624258327 Exactitud = 75.0\n",
            "Epoch 450: Pérdida = 2.5389381752684193 Exactitud = 75.0\n",
            "Epoch 451: Pérdida = 2.5389006868966852 Exactitud = 75.0\n",
            "Epoch 452: Pérdida = 2.538863394643032 Exactitud = 75.0\n",
            "Epoch 453: Pérdida = 2.5388262958637693 Exactitud = 75.0\n",
            "Epoch 454: Pérdida = 2.5387893879385244 Exactitud = 75.0\n",
            "Epoch 455: Pérdida = 2.538752668269649 Exactitud = 75.0\n",
            "Epoch 456: Pérdida = 2.538716134281645 Exactitud = 75.0\n",
            "Epoch 457: Pérdida = 2.5386797834205783 Exactitud = 75.0\n",
            "Epoch 458: Pérdida = 2.5386436131535133 Exactitud = 75.0\n",
            "Epoch 459: Pérdida = 2.5386076209679453 Exactitud = 75.0\n",
            "Epoch 460: Pérdida = 2.5385718043712386 Exactitud = 75.0\n",
            "Epoch 461: Pérdida = 2.53853616089007 Exactitud = 75.0\n",
            "Epoch 462: Pérdida = 2.5385006880698735 Exactitud = 75.0\n",
            "Epoch 463: Pérdida = 2.5384653834742985 Exactitud = 75.0\n",
            "Epoch 464: Pérdida = 2.5384302446846547 Exactitud = 75.0\n",
            "Epoch 465: Pérdida = 2.5383952692993783 Exactitud = 75.0\n",
            "Epoch 466: Pérdida = 2.538360454933491 Exactitud = 75.0\n",
            "Epoch 467: Pérdida = 2.5383257992180632 Exactitud = 75.0\n",
            "Epoch 468: Pérdida = 2.538291299799685 Exactitud = 75.0\n",
            "Epoch 469: Pérdida = 2.538256954339931 Exactitud = 75.0\n",
            "Epoch 470: Pérdida = 2.5382227605148353 Exactitud = 75.0\n",
            "Epoch 471: Pérdida = 2.538188716014364 Exactitud = 75.0\n",
            "Epoch 472: Pérdida = 2.5381548185418885 Exactitud = 75.0\n",
            "Epoch 473: Pérdida = 2.538121065813665 Exactitud = 75.0\n",
            "Epoch 474: Pérdida = 2.5380874555583093 Exactitud = 75.0\n",
            "Epoch 475: Pérdida = 2.538053985516276 Exactitud = 75.0\n",
            "Epoch 476: Pérdida = 2.538020653439336 Exactitud = 75.0\n",
            "Epoch 477: Pérdida = 2.537987457090056 Exactitud = 75.0\n",
            "Epoch 478: Pérdida = 2.537954394241276 Exactitud = 75.0\n",
            "Epoch 479: Pérdida = 2.5379214626755893 Exactitud = 75.0\n",
            "Epoch 480: Pérdida = 2.5378886601848176 Exactitud = 75.0\n",
            "Epoch 481: Pérdida = 2.537855984569487 Exactitud = 75.0\n",
            "Epoch 482: Pérdida = 2.537823433638307 Exactitud = 75.0\n",
            "Epoch 483: Pérdida = 2.5377910052076382 Exactitud = 75.0\n",
            "Epoch 484: Pérdida = 2.537758697100968 Exactitud = 75.0\n",
            "Epoch 485: Pérdida = 2.5377265071483768 Exactitud = 75.0\n",
            "Epoch 486: Pérdida = 2.537694433186008 Exactitud = 75.0\n",
            "Epoch 487: Pérdida = 2.5376624730555273 Exactitud = 75.0\n",
            "Epoch 488: Pérdida = 2.5376306246035853 Exactitud = 75.0\n",
            "Epoch 489: Pérdida = 2.537598885681276 Exactitud = 75.0\n",
            "Epoch 490: Pérdida = 2.537567254143586 Exactitud = 75.0\n",
            "Epoch 491: Pérdida = 2.5375357278488435 Exactitud = 75.0\n",
            "Epoch 492: Pérdida = 2.5375043046581642 Exactitud = 75.0\n",
            "Epoch 493: Pérdida = 2.5374729824348896 Exactitud = 75.0\n",
            "Epoch 494: Pérdida = 2.5374417590440173 Exactitud = 75.0\n",
            "Epoch 495: Pérdida = 2.537410632351631 Exactitud = 75.0\n",
            "Epoch 496: Pérdida = 2.5373796002243187 Exactitud = 75.0\n",
            "Epoch 497: Pérdida = 2.5373486605285924 Exactitud = 75.0\n",
            "Epoch 498: Pérdida = 2.537317811130288 Exactitud = 75.0\n",
            "Epoch 499: Pérdida = 2.537287049893971 Exactitud = 75.0\n",
            "Epoch 500: Pérdida = 2.5372563746823236 Exactitud = 75.0\n",
            "Epoch 501: Pérdida = 2.537225783355531 Exactitud = 75.0\n",
            "Epoch 502: Pérdida = 2.537195273770652 Exactitud = 75.0\n",
            "Epoch 503: Pérdida = 2.537164843780986 Exactitud = 75.0\n",
            "Epoch 504: Pérdida = 2.5371344912354283 Exactitud = 75.0\n",
            "Epoch 505: Pérdida = 2.5371042139778077 Exactitud = 75.0\n",
            "Epoch 506: Pérdida = 2.5370740098462283 Exactitud = 75.0\n",
            "Epoch 507: Pérdida = 2.537043876672384 Exactitud = 75.0\n",
            "Epoch 508: Pérdida = 2.5370138122808683 Exactitud = 75.0\n",
            "Epoch 509: Pérdida = 2.53698381448847 Exactitud = 75.0\n",
            "Epoch 510: Pérdida = 2.536953881103459 Exactitud = 75.0\n",
            "Epoch 511: Pérdida = 2.5369240099248485 Exactitud = 75.0\n",
            "Epoch 512: Pérdida = 2.536894198741651 Exactitud = 75.0\n",
            "Epoch 513: Pérdida = 2.5368644453321174 Exactitud = 75.0\n",
            "Epoch 514: Pérdida = 2.5368347474629536 Exactitud = 75.0\n",
            "Epoch 515: Pérdida = 2.536805102888529 Exactitud = 75.0\n",
            "Epoch 516: Pérdida = 2.5367755093500595 Exactitud = 75.0\n",
            "Epoch 517: Pérdida = 2.536745964574777 Exactitud = 75.0\n",
            "Epoch 518: Pérdida = 2.5367164662750756 Exactitud = 75.0\n",
            "Epoch 519: Pérdida = 2.5366870121476373 Exactitud = 75.0\n",
            "Epoch 520: Pérdida = 2.536657599872542 Exactitud = 75.0\n",
            "Epoch 521: Pérdida = 2.5366282271123457 Exactitud = 75.0\n",
            "Epoch 522: Pérdida = 2.5365988915111464 Exactitud = 75.0\n",
            "Epoch 523: Pérdida = 2.536569590693613 Exactitud = 75.0\n",
            "Epoch 524: Pérdida = 2.5365403222640026 Exactitud = 75.0\n",
            "Epoch 525: Pérdida = 2.5365110838051326 Exactitud = 75.0\n",
            "Epoch 526: Pérdida = 2.5364818728773506 Exactitud = 75.0\n",
            "Epoch 527: Pérdida = 2.536452687017449 Exactitud = 75.0\n",
            "Epoch 528: Pérdida = 2.5364235237375645 Exactitud = 75.0\n",
            "Epoch 529: Pérdida = 2.536394380524044 Exactitud = 75.0\n",
            "Epoch 530: Pérdida = 2.536365254836271 Exactitud = 75.0\n",
            "Epoch 531: Pérdida = 2.5363361441054693 Exactitud = 75.0\n",
            "Epoch 532: Pérdida = 2.5363070457334516 Exactitud = 75.0\n",
            "Epoch 533: Pérdida = 2.536277957091352 Exactitud = 75.0\n",
            "Epoch 534: Pérdida = 2.5362488755183037 Exactitud = 75.0\n",
            "Epoch 535: Pérdida = 2.5362197983200794 Exactitud = 75.0\n",
            "Epoch 536: Pérdida = 2.5361907227676923 Exactitud = 75.0\n",
            "Epoch 537: Pérdida = 2.536161646095947 Exactitud = 75.0\n",
            "Epoch 538: Pérdida = 2.536132565501947 Exactitud = 75.0\n",
            "Epoch 539: Pérdida = 2.5361034781435485 Exactitud = 75.0\n",
            "Epoch 540: Pérdida = 2.5360743811377695 Exactitud = 75.0\n",
            "Epoch 541: Pérdida = 2.5360452715591393 Exactitud = 75.0\n",
            "Epoch 542: Pérdida = 2.5360161464379924 Exactitud = 75.0\n",
            "Epoch 543: Pérdida = 2.5359870027587084 Exactitud = 75.0\n",
            "Epoch 544: Pérdida = 2.5359578374578833 Exactitud = 75.0\n",
            "Epoch 545: Pérdida = 2.535928647422443 Exactitud = 75.0\n",
            "Epoch 546: Pérdida = 2.535899429487686 Exactitud = 75.0\n",
            "Epoch 547: Pérdida = 2.535870180435256 Exactitud = 75.0\n",
            "Epoch 548: Pérdida = 2.5358408969910404 Exactitud = 75.0\n",
            "Epoch 549: Pérdida = 2.5358115758229967 Exactitud = 75.0\n",
            "Epoch 550: Pérdida = 2.535782213538889 Exactitud = 75.0\n",
            "Epoch 551: Pérdida = 2.5357528066839494 Exactitud = 75.0\n",
            "Epoch 552: Pérdida = 2.535723351738443 Exactitud = 75.0\n",
            "Epoch 553: Pérdida = 2.535693845115149 Exactitud = 75.0\n",
            "Epoch 554: Pérdida = 2.535664283156735 Exactitud = 75.0\n",
            "Epoch 555: Pérdida = 2.535634662133036 Exactitud = 75.0\n",
            "Epoch 556: Pérdida = 2.5356049782382266 Exactitud = 75.0\n",
            "Epoch 557: Pérdida = 2.5355752275878767 Exactitud = 75.0\n",
            "Epoch 558: Pérdida = 2.535545406215897 Exactitud = 75.0\n",
            "Epoch 559: Pérdida = 2.5355155100713516 Exactitud = 75.0\n",
            "Epoch 560: Pérdida = 2.535485535015157 Exactitud = 75.0\n",
            "Epoch 561: Pérdida = 2.5354554768166255 Exactitud = 75.0\n",
            "Epoch 562: Pérdida = 2.535425331149884 Exactitud = 75.0\n",
            "Epoch 563: Pérdida = 2.535395093590135 Exactitud = 75.0\n",
            "Epoch 564: Pérdida = 2.535364759609764 Exactitud = 75.0\n",
            "Epoch 565: Pérdida = 2.535334324574275 Exactitud = 75.0\n",
            "Epoch 566: Pérdida = 2.535303783738068 Exactitud = 75.0\n",
            "Epoch 567: Pérdida = 2.535273132240016 Exactitud = 75.0\n",
            "Epoch 568: Pérdida = 2.535242365098865 Exactitud = 75.0\n",
            "Epoch 569: Pérdida = 2.5352114772084295 Exactitud = 75.0\n",
            "Epoch 570: Pérdida = 2.5351804633325683 Exactitud = 75.0\n",
            "Epoch 571: Pérdida = 2.5351493180999505 Exactitud = 75.0\n",
            "Epoch 572: Pérdida = 2.535118035998576 Exactitud = 75.0\n",
            "Epoch 573: Pérdida = 2.535086611370054 Exactitud = 75.0\n",
            "Epoch 574: Pérdida = 2.535055038403624 Exactitud = 75.0\n",
            "Epoch 575: Pérdida = 2.5350233111298976 Exactitud = 75.0\n",
            "Epoch 576: Pérdida = 2.5349914234143105 Exactitud = 75.0\n",
            "Epoch 577: Pérdida = 2.5349593689502825 Exactitud = 75.0\n",
            "Epoch 578: Pérdida = 2.5349271412520347 Exactitud = 75.0\n",
            "Epoch 579: Pérdida = 2.5348947336470906 Exactitud = 75.0\n",
            "Epoch 580: Pérdida = 2.5348621392684016 Exactitud = 75.0\n",
            "Epoch 581: Pérdida = 2.5348293510461097 Exactitud = 75.0\n",
            "Epoch 582: Pérdida = 2.5347963616988967 Exactitud = 75.0\n",
            "Epoch 583: Pérdida = 2.5347631637249277 Exactitud = 75.0\n",
            "Epoch 584: Pérdida = 2.534729749392339 Exactitud = 75.0\n",
            "Epoch 585: Pérdida = 2.534696110729255 Exactitud = 75.0\n",
            "Epoch 586: Pérdida = 2.5346622395133176 Exactitud = 75.0\n",
            "Epoch 587: Pérdida = 2.53462812726068 Exactitud = 75.0\n",
            "Epoch 588: Pérdida = 2.534593765214445 Exactitud = 75.0\n",
            "Epoch 589: Pérdida = 2.5345591443325173 Exactitud = 75.0\n",
            "Epoch 590: Pérdida = 2.534524255274833 Exactitud = 75.0\n",
            "Epoch 591: Pérdida = 2.5344890883899183 Exactitud = 75.0\n",
            "Epoch 592: Pérdida = 2.534453633700758 Exactitud = 75.0\n",
            "Epoch 593: Pérdida = 2.5344178808899165 Exactitud = 75.0\n",
            "Epoch 594: Pérdida = 2.53438181928387 Exactitud = 75.0\n",
            "Epoch 595: Pérdida = 2.534345437836506 Exactitud = 75.0\n",
            "Epoch 596: Pérdida = 2.5343087251117353 Exactitud = 75.0\n",
            "Epoch 597: Pérdida = 2.53427166926516 Exactitud = 75.0\n",
            "Epoch 598: Pérdida = 2.534234258024746 Exactitud = 75.0\n",
            "Epoch 599: Pérdida = 2.5341964786704296 Exactitud = 75.0\n",
            "Epoch 600: Pérdida = 2.534158318012599 Exactitud = 75.0\n",
            "Epoch 601: Pérdida = 2.534119762369371 Exactitud = 75.0\n",
            "Epoch 602: Pérdida = 2.534080797542602 Exactitud = 75.0\n",
            "Epoch 603: Pérdida = 2.534041408792529 Exactitud = 75.0\n",
            "Epoch 604: Pérdida = 2.534001580810975 Exactitud = 75.0\n",
            "Epoch 605: Pérdida = 2.5339612976930157 Exactitud = 75.0\n",
            "Epoch 606: Pérdida = 2.5339205429070075 Exactitud = 75.0\n",
            "Epoch 607: Pérdida = 2.5338792992628747 Exactitud = 75.0\n",
            "Epoch 608: Pérdida = 2.533837548878534 Exactitud = 75.0\n",
            "Epoch 609: Pérdida = 2.5337952731443445 Exactitud = 75.0\n",
            "Epoch 610: Pérdida = 2.533752452685447 Exactitud = 75.0\n",
            "Epoch 611: Pérdida = 2.5337090673218454 Exactitud = 75.0\n",
            "Epoch 612: Pérdida = 2.533665096026095 Exactitud = 75.0\n",
            "Epoch 613: Pérdida = 2.533620516878428 Exactitud = 75.0\n",
            "Epoch 614: Pérdida = 2.533575307019139 Exactitud = 75.0\n",
            "Epoch 615: Pérdida = 2.5335294425980646 Exactitud = 75.0\n",
            "Epoch 616: Pérdida = 2.533482898720936 Exactitud = 75.0\n",
            "Epoch 617: Pérdida = 2.533435649392418 Exactitud = 75.0\n",
            "Epoch 618: Pérdida = 2.5333876674555844 Exactitud = 75.0\n",
            "Epoch 619: Pérdida = 2.5333389245276186 Exactitud = 75.0\n",
            "Epoch 620: Pérdida = 2.533289390931445 Exactitud = 75.0\n",
            "Epoch 621: Pérdida = 2.533239035623056 Exactitud = 75.0\n",
            "Epoch 622: Pérdida = 2.5331878261142053 Exactitud = 75.0\n",
            "Epoch 623: Pérdida = 2.5331357283901816 Exactitud = 75.0\n",
            "Epoch 624: Pérdida = 2.533082706822313 Exactitud = 75.0\n",
            "Epoch 625: Pérdida = 2.533028724074857 Exactitud = 75.0\n",
            "Epoch 626: Pérdida = 2.5329737410058946 Exactitud = 75.0\n",
            "Epoch 627: Pérdida = 2.5329177165618404 Exactitud = 75.0\n",
            "Epoch 628: Pérdida = 2.532860607665127 Exactitud = 75.0\n",
            "Epoch 629: Pérdida = 2.5328023690946484 Exactitud = 75.0\n",
            "Epoch 630: Pérdida = 2.5327429533584676 Exactitud = 75.0\n",
            "Epoch 631: Pérdida = 2.5326823105583225 Exactitud = 75.0\n",
            "Epoch 632: Pérdida = 2.532620388245408 Exactitud = 75.0\n",
            "Epoch 633: Pérdida = 2.5325571312669073 Exactitud = 75.0\n",
            "Epoch 634: Pérdida = 2.5324924816027377 Exactitud = 75.0\n",
            "Epoch 635: Pérdida = 2.5324263781919467 Exactitud = 75.0\n",
            "Epoch 636: Pérdida = 2.532358756748202 Exactitud = 75.0\n",
            "Epoch 637: Pérdida = 2.5322895495638216 Exactitud = 75.0\n",
            "Epoch 638: Pérdida = 2.5322186853017885 Exactitud = 75.0\n",
            "Epoch 639: Pérdida = 2.5321460887752343 Exactitud = 75.0\n",
            "Epoch 640: Pérdida = 2.5320716807139183 Exactitud = 75.0\n",
            "Epoch 641: Pérdida = 2.531995377517266 Exactitud = 75.0\n",
            "Epoch 642: Pérdida = 2.5319170909936646 Exactitud = 75.0\n",
            "Epoch 643: Pérdida = 2.5318367280857768 Exactitud = 75.0\n",
            "Epoch 644: Pérdida = 2.5317541905818635 Exactitud = 75.0\n",
            "Epoch 645: Pérdida = 2.5316693748132515 Exactitud = 75.0\n",
            "Epoch 646: Pérdida = 2.531582171338421 Exactitud = 75.0\n",
            "Epoch 647: Pérdida = 2.531492464614499 Exactitud = 75.0\n",
            "Epoch 648: Pérdida = 2.531400132657417 Exactitud = 75.0\n",
            "Epoch 649: Pérdida = 2.5313050466925557 Exactitud = 75.0\n",
            "Epoch 650: Pérdida = 2.5312070707984144 Exactitud = 75.0\n",
            "Epoch 651: Pérdida = 2.5311060615467182 Exactitud = 75.0\n",
            "Epoch 652: Pérdida = 2.5310018676434964 Exactitud = 75.0\n",
            "Epoch 653: Pérdida = 2.530894329576996 Exactitud = 75.0\n",
            "Epoch 654: Pérdida = 2.530783279279975 Exactitud = 75.0\n",
            "Epoch 655: Pérdida = 2.5306685398159576 Exactitud = 75.0\n",
            "Epoch 656: Pérdida = 2.530549925101485 Exactitud = 75.0\n",
            "Epoch 657: Pérdida = 2.5304272396794367 Exactitud = 75.0\n",
            "Epoch 658: Pérdida = 2.530300278562067 Exactitud = 75.0\n",
            "Epoch 659: Pérdida = 2.530168827166773 Exactitud = 75.0\n",
            "Epoch 660: Pérdida = 2.530032661372762 Exactitud = 75.0\n",
            "Epoch 661: Pérdida = 2.5298915477328867 Exactitud = 75.0\n",
            "Epoch 662: Pérdida = 2.529745243882086 Exactitud = 75.0\n",
            "Epoch 663: Pérdida = 2.529593499192179 Exactitud = 75.0\n",
            "Epoch 664: Pérdida = 2.5294360557322415 Exactitud = 75.0\n",
            "Epoch 665: Pérdida = 2.5292726496045175 Exactitud = 75.0\n",
            "Epoch 666: Pérdida = 2.529103012737565 Exactitud = 75.0\n",
            "Epoch 667: Pérdida = 2.5289268752309058 Exactitud = 75.0\n",
            "Epoch 668: Pérdida = 2.5287439683582242 Exactitud = 75.0\n",
            "Epoch 669: Pérdida = 2.5285540283482892 Exactitud = 75.0\n",
            "Epoch 670: Pérdida = 2.5283568010727855 Exactitud = 75.0\n",
            "Epoch 671: Pérdida = 2.528152047775955 Exactitud = 75.0\n",
            "Epoch 672: Pérdida = 2.527939551979303 Exactitud = 75.0\n",
            "Epoch 673: Pérdida = 2.5277191276811664 Exactitud = 75.0\n",
            "Epoch 674: Pérdida = 2.5274906289398666 Exactitud = 75.0\n",
            "Epoch 675: Pérdida = 2.5272539608726197 Exactitud = 75.0\n",
            "Epoch 676: Pérdida = 2.527009092010915 Exactitud = 75.0\n",
            "Epoch 677: Pérdida = 2.5267560678149996 Exactitud = 75.0\n",
            "Epoch 678: Pérdida = 2.5264950249531504 Exactitud = 75.0\n",
            "Epoch 679: Pérdida = 2.5262262056832485 Exactitud = 75.0\n",
            "Epoch 680: Pérdida = 2.525949971326204 Exactitud = 75.0\n",
            "Epoch 681: Pérdida = 2.5256668133921916 Exactitud = 75.0\n",
            "Epoch 682: Pérdida = 2.5253773604256846 Exactitud = 75.0\n",
            "Epoch 683: Pérdida = 2.525082378112266 Exactitud = 75.0\n",
            "Epoch 684: Pérdida = 2.5247827597118526 Exactitud = 75.0\n",
            "Epoch 685: Pérdida = 2.524479503565882 Exactitud = 75.0\n",
            "Epoch 686: Pérdida = 2.5241736744339773 Exactitud = 75.0\n",
            "Epoch 687: Pérdida = 2.5238663459499064 Exactitud = 75.0\n",
            "Epoch 688: Pérdida = 2.5235585227548407 Exactitud = 75.0\n",
            "Epoch 689: Pérdida = 2.523251043021066 Exactitud = 75.0\n",
            "Epoch 690: Pérdida = 2.522944465130207 Exactitud = 75.0\n",
            "Epoch 691: Pérdida = 2.522638945978785 Exactitud = 75.0\n",
            "Epoch 692: Pérdida = 2.522334122186106 Exactitud = 75.0\n",
            "Epoch 693: Pérdida = 2.5220290084862595 Exactitud = 75.0\n",
            "Epoch 694: Pérdida = 2.5217219287229105 Exactitud = 75.0\n",
            "Epoch 695: Pérdida = 2.521410493170565 Exactitud = 75.0\n",
            "Epoch 696: Pérdida = 2.5210916309298455 Exactitud = 75.0\n",
            "Epoch 697: Pérdida = 2.5207616783054125 Exactitud = 75.0\n",
            "Epoch 698: Pérdida = 2.5204165147727533 Exactitud = 75.0\n",
            "Epoch 699: Pérdida = 2.5200517294823777 Exactitud = 75.0\n",
            "Epoch 700: Pérdida = 2.519662795424891 Exactitud = 75.0\n",
            "Epoch 701: Pérdida = 2.5192452268946486 Exactitud = 75.0\n",
            "Epoch 702: Pérdida = 2.51879469901895 Exactitud = 75.0\n",
            "Epoch 703: Pérdida = 2.5183071148291774 Exactitud = 75.0\n",
            "Epoch 704: Pérdida = 2.5177786137176357 Exactitud = 75.0\n",
            "Epoch 705: Pérdida = 2.517205523045236 Exactitud = 75.0\n",
            "Epoch 706: Pérdida = 2.5165842605161997 Exactitud = 75.0\n",
            "Epoch 707: Pérdida = 2.5159111979334456 Exactitud = 75.0\n",
            "Epoch 708: Pérdida = 2.515182497144667 Exactitud = 75.0\n",
            "Epoch 709: Pérdida = 2.5143939270013798 Exactitud = 75.0\n",
            "Epoch 710: Pérdida = 2.513540666804945 Exactitud = 75.0\n",
            "Epoch 711: Pérdida = 2.5126170977362463 Exactitud = 75.0\n",
            "Epoch 712: Pérdida = 2.51161657963132 Exactitud = 75.0\n",
            "Epoch 713: Pérdida = 2.5105312063439547 Exactitud = 75.0\n",
            "Epoch 714: Pérdida = 2.50935152873196 Exactitud = 75.0\n",
            "Epoch 715: Pérdida = 2.508066229713881 Exactitud = 75.0\n",
            "Epoch 716: Pérdida = 2.5066617303984646 Exactitud = 75.0\n",
            "Epoch 717: Pérdida = 2.505121699349597 Exactitud = 75.0\n",
            "Epoch 718: Pérdida = 2.503426427737107 Exactitud = 75.0\n",
            "Epoch 719: Pérdida = 2.501552020185612 Exactitud = 75.0\n",
            "Epoch 720: Pérdida = 2.4994693327104374 Exactitud = 75.0\n",
            "Epoch 721: Pérdida = 2.497142562394811 Exactitud = 75.0\n",
            "Epoch 722: Pérdida = 2.4945273540540924 Exactitud = 75.0\n",
            "Epoch 723: Pérdida = 2.4915682302509614 Exactitud = 75.0\n",
            "Epoch 724: Pérdida = 2.4881950619686615 Exactitud = 75.0\n",
            "Epoch 725: Pérdida = 2.484318161024671 Exactitud = 75.0\n",
            "Epoch 726: Pérdida = 2.4798213647426364 Exactitud = 75.0\n",
            "Epoch 727: Pérdida = 2.474552154952878 Exactitud = 75.0\n",
            "Epoch 728: Pérdida = 2.468307337787337 Exactitud = 75.0\n",
            "Epoch 729: Pérdida = 2.460812000565139 Exactitud = 75.0\n",
            "Epoch 730: Pérdida = 2.451688201508027 Exactitud = 75.0\n",
            "Epoch 731: Pérdida = 2.44040794909199 Exactitud = 75.0\n",
            "Epoch 732: Pérdida = 2.42622240394638 Exactitud = 75.0\n",
            "Epoch 733: Pérdida = 2.4080564632817243 Exactitud = 75.0\n",
            "Epoch 734: Pérdida = 2.384358202942618 Exactitud = 50.0\n",
            "Epoch 735: Pérdida = 2.3529084731866274 Exactitud = 50.0\n",
            "Epoch 736: Pérdida = 2.310667768485928 Exactitud = 50.0\n",
            "Epoch 737: Pérdida = 2.2539723833746383 Exactitud = 50.0\n",
            "Epoch 738: Pérdida = 2.17992586181402 Exactitud = 50.0\n",
            "Epoch 739: Pérdida = 2.0900138388353904 Exactitud = 50.0\n",
            "Epoch 740: Pérdida = 1.9929601245972748 Exactitud = 50.0\n",
            "Epoch 741: Pérdida = 1.895127081419838 Exactitud = 75.0\n",
            "Epoch 742: Pérdida = 1.7787984983061191 Exactitud = 75.0\n",
            "Epoch 743: Pérdida = 1.5870376141233165 Exactitud = 75.0\n",
            "Epoch 744: Pérdida = 1.2420903886515555 Exactitud = 75.0\n",
            "Epoch 745: Pérdida = 0.9659013557736008 Exactitud = 100.0\n",
            "Epoch 746: Pérdida = 0.7654284333802818 Exactitud = 100.0\n",
            "Epoch 747: Pérdida = 0.6066915223236969 Exactitud = 100.0\n",
            "Epoch 748: Pérdida = 0.5092334993481502 Exactitud = 100.0\n",
            "Epoch 749: Pérdida = 0.44417253548368424 Exactitud = 100.0\n",
            "Epoch 750: Pérdida = 0.39484529323001194 Exactitud = 100.0\n",
            "Epoch 751: Pérdida = 0.3557345513442036 Exactitud = 100.0\n",
            "Epoch 752: Pérdida = 0.3238744474781491 Exactitud = 100.0\n",
            "Epoch 753: Pérdida = 0.29739727225675133 Exactitud = 100.0\n",
            "Epoch 754: Pérdida = 0.2750413362892584 Exactitud = 100.0\n",
            "Epoch 755: Pérdida = 0.25591539139611746 Exactitud = 100.0\n",
            "Epoch 756: Pérdida = 0.23936909141820029 Exactitud = 100.0\n",
            "Epoch 757: Pérdida = 0.22491566798194407 Exactitud = 100.0\n",
            "Epoch 758: Pérdida = 0.21218313381706702 Exactitud = 100.0\n",
            "Epoch 759: Pérdida = 0.20088219481391129 Exactitud = 100.0\n",
            "Epoch 760: Pérdida = 0.1907844551613952 Exactitud = 100.0\n",
            "Epoch 761: Pérdida = 0.18170721506853507 Exactitud = 100.0\n",
            "Epoch 762: Pérdida = 0.17350262581415835 Exactitud = 100.0\n",
            "Epoch 763: Pérdida = 0.16604980141906628 Exactitud = 100.0\n",
            "Epoch 764: Pérdida = 0.15924898220723 Exactitud = 100.0\n",
            "Epoch 765: Pérdida = 0.1530171506756352 Exactitud = 100.0\n",
            "Epoch 766: Pérdida = 0.14728469338042918 Exactitud = 100.0\n",
            "Epoch 767: Pérdida = 0.1419928280712217 Exactitud = 100.0\n",
            "Epoch 768: Pérdida = 0.13709159861997014 Exactitud = 100.0\n",
            "Epoch 769: Pérdida = 0.13253829667012845 Exactitud = 100.0\n",
            "Epoch 770: Pérdida = 0.1282962077528112 Exactitud = 100.0\n",
            "Epoch 771: Pérdida = 0.1243336067728614 Exactitud = 100.0\n",
            "Epoch 772: Pérdida = 0.12062294704019134 Exactitud = 100.0\n",
            "Epoch 773: Pérdida = 0.11714020088231168 Exactitud = 100.0\n",
            "Epoch 774: Pérdida = 0.11386431996574485 Exactitud = 100.0\n",
            "Epoch 775: Pérdida = 0.11077679088622527 Exactitud = 100.0\n",
            "Epoch 776: Pérdida = 0.10786126711976292 Exactitud = 100.0\n",
            "Epoch 777: Pérdida = 0.10510326258560182 Exactitud = 100.0\n",
            "Epoch 778: Pérdida = 0.10248989522788834 Exactitud = 100.0\n",
            "Epoch 779: Pérdida = 0.10000967143826653 Exactitud = 100.0\n",
            "Epoch 780: Pérdida = 0.09765230400544905 Exactitud = 100.0\n",
            "Epoch 781: Pérdida = 0.09540855772688767 Exactitud = 100.0\n",
            "Epoch 782: Pérdida = 0.0932701179523856 Exactitud = 100.0\n",
            "Epoch 783: Pérdida = 0.09122947822388705 Exactitud = 100.0\n",
            "Epoch 784: Pérdida = 0.08927984388509344 Exactitud = 100.0\n",
            "Epoch 785: Pérdida = 0.08741504910050721 Exactitud = 100.0\n",
            "Epoch 786: Pérdida = 0.08562948517748287 Exactitud = 100.0\n",
            "Epoch 787: Pérdida = 0.08391803845091081 Exactitud = 100.0\n",
            "Epoch 788: Pérdida = 0.08227603628672447 Exactitud = 100.0\n",
            "Epoch 789: Pérdida = 0.08069920000180361 Exactitud = 100.0\n",
            "Epoch 790: Pérdida = 0.07918360369514965 Exactitud = 100.0\n",
            "Epoch 791: Pérdida = 0.07772563814718692 Exactitud = 100.0\n",
            "Epoch 792: Pérdida = 0.07632197907746971 Exactitud = 100.0\n",
            "Epoch 793: Pérdida = 0.07496955916147172 Exactitud = 100.0\n",
            "Epoch 794: Pérdida = 0.0736655432987374 Exactitud = 100.0\n",
            "Epoch 795: Pérdida = 0.07240730670098727 Exactitud = 100.0\n",
            "Epoch 796: Pérdida = 0.07119241543251988 Exactitud = 100.0\n",
            "Epoch 797: Pérdida = 0.07001860908869934 Exactitud = 100.0\n",
            "Epoch 798: Pérdida = 0.06888378534325341 Exactitud = 100.0\n",
            "Epoch 799: Pérdida = 0.06778598613299812 Exactitud = 100.0\n"
          ],
          "name": "stdout"
        }
      ]
    },
    {
      "cell_type": "code",
      "metadata": {
        "id": "fx6KH00192o6",
        "colab": {
          "base_uri": "https://localhost:8080/",
          "height": 264
        },
        "outputId": "cf8e7c65-b32c-4fb3-9dec-9a29ed5ea04c"
      },
      "source": [
        "import matplotlib.pyplot as plt\n",
        "plt.plot(np.arange(perdidas.size), perdidas, label='ECB')\n",
        "plt.plot(np.arange(exactitudes.size), exactitudes, label='Exactitud')\n",
        "plt.legend()\n",
        "plt.grid(True)\n",
        "plt.show()"
      ],
      "execution_count": null,
      "outputs": [
        {
          "output_type": "display_data",
          "data": {
            "image/png": "[encoded data removed]",
            "text/plain": [
              "<Figure size 432x288 with 1 Axes>"
            ]
          },
          "metadata": {
            "tags": [],
            "needs_background": "light"
          }
        }
      ]
    },
    {
      "cell_type": "markdown",
      "metadata": {
        "id": "dVahBP6pE2LB"
      },
      "source": [
        "Como podemos ver, entre las 150 y 700 épocas la red entra en un mínimo local, después de eso ya obtenems la mejor exactitud en la red. Me di cuenta de que podía usar más épocas (inicialmente usé 100) ya que me di cuenta que la pérdida no dejaba de bajar, por lo que al probar con una cantidad enorme (2000) me di cuenta que estaba atorado en un mínimo o que algún parámetro me hacía acercarme lento al mínimo global"
      ]
    },
    {
      "cell_type": "markdown",
      "metadata": {
        "id": "4ZWkaLMbGWuk"
      },
      "source": [
        "## 3. Regresión lineal con PyTorch\n",
        "Entrena y evalúa un modelo de regresión lineal para el conjunto de datos de calificaciones que considere los dos atributos de entrada.\n",
        "\n",
        "Grafica los datos en 3D.\n",
        "Realiza la definición de la arquitectura usando tanto la interfaz de alto como la de medio nivel.\n",
        "Prueba distintos valores para los hiperparámetros.\n",
        "Realiza una predicción con tu modelo entrenado para la calificación que tendría un alumno si sabemos que estudió durante 12 horas para el examen y en un examen previo obtuvo 3 de calificación.\n",
        "Discute las modificaciones que realizaste y las distintas configuraciones para los hiperparámetros que probaste."
      ]
    },
    {
      "cell_type": "code",
      "metadata": {
        "id": "IErSxiTmEG3S",
        "colab": {
          "base_uri": "https://localhost:8080/",
          "height": 35
        },
        "outputId": "0d4bbc49-108d-406e-9780-c629825649da"
      },
      "source": [
        "# sistema de archivos\n",
        "import os\n",
        "# tomar n elementos de una secuencia\n",
        "from itertools import islice as take\n",
        "\n",
        "# gráficas\n",
        "import matplotlib.pyplot as plt\n",
        "# arreglos multidimensionales\n",
        "import numpy as np\n",
        "# csv\n",
        "import pandas as pd\n",
        "\n",
        "# redes neuronales\n",
        "import torch\n",
        "import torch.nn as nn\n",
        "import torch.nn.functional as F\n",
        "import torch.optim as optim\n",
        "import torchvision.datasets.utils as vutils\n",
        "\n",
        "from torch.utils.data import DataLoader\n",
        "from torchvision.datasets.utils import download_url\n",
        "\n",
        "\n",
        "# directorio de datos\n",
        "URL = 'https://raw.githubusercontent.com/gibranfp/CursoAprendizajeProfundo/master/data/califs/califs.csv'\n",
        "base_dir = '../data/califs/'\n",
        "filename = 'califs.csv'\n",
        "filepath = os.path.join(base_dir, 'califs.csv')\n",
        "\n",
        "# para reproducibilidad\n",
        "SEED = 0\n",
        "torch.manual_seed(SEED)"
      ],
      "execution_count": null,
      "outputs": [
        {
          "output_type": "execute_result",
          "data": {
            "text/plain": [
              "<torch._C.Generator at 0x7f244264da08>"
            ]
          },
          "metadata": {
            "tags": []
          },
          "execution_count": 6
        }
      ]
    },
    {
      "cell_type": "code",
      "metadata": {
        "id": "QGSySSV6HSYk",
        "colab": {
          "base_uri": "https://localhost:8080/",
          "height": 66,
          "referenced_widgets": [
            "4d9e733bd3b744c9a4dac9601acbc876",
            "d727d430491b4664b2660f2eec45776f",
            "766501bad3c2415a808716e2066be3bf",
            "ab54b6553c5a4dfb9f7f49d72b9c7e18",
            "09105cb793804ca7b8c8a84e83c29195",
            "22da1843dac54513829dcf405ef41461",
            "72d3981cccd846e78916e0235251bdab",
            "187d214de3eb4270b3cb5b5f2a778fc4"
          ]
        },
        "outputId": "bb642cf5-2fad-41ab-c010-cb4e59cc8de6"
      },
      "source": [
        "download_url(URL, base_dir, filename)"
      ],
      "execution_count": null,
      "outputs": [
        {
          "output_type": "stream",
          "text": [
            "Downloading https://raw.githubusercontent.com/gibranfp/CursoAprendizajeProfundo/master/data/califs/califs.csv to ../data/califs/califs.csv\n"
          ],
          "name": "stdout"
        },
        {
          "output_type": "display_data",
          "data": {
            "application/vnd.jupyter.widget-view+json": {
              "model_id": "4d9e733bd3b744c9a4dac9601acbc876",
              "version_minor": 0,
              "version_major": 2
            },
            "text/plain": [
              "HBox(children=(FloatProgress(value=1.0, bar_style='info', max=1.0), HTML(value='')))"
            ]
          },
          "metadata": {
            "tags": []
          }
        }
      ]
    },
    {
      "cell_type": "code",
      "metadata": {
        "id": "mvBA-Yh4HWhk",
        "colab": {
          "base_uri": "https://localhost:8080/",
          "height": 208
        },
        "outputId": "b4622e4d-3b38-4b60-84d8-d3473e858943"
      },
      "source": [
        "\n",
        "df = pd.read_csv(filepath, names=['calif anterior','horas de estudio','calificación'])\n",
        "df.head(5)"
      ],
      "execution_count": null,
      "outputs": [
        {
          "output_type": "stream",
          "text": [
            "\n"
          ],
          "name": "stdout"
        },
        {
          "output_type": "execute_result",
          "data": {
            "text/html": [
              "<div>\n",
              "<style scoped>\n",
              "    .dataframe tbody tr th:only-of-type {\n",
              "        vertical-align: middle;\n",
              "    }\n",
              "\n",
              "    .dataframe tbody tr th {\n",
              "        vertical-align: top;\n",
              "    }\n",
              "\n",
              "    .dataframe thead th {\n",
              "        text-align: right;\n",
              "    }\n",
              "</style>\n",
              "<table border=\"1\" class=\"dataframe\">\n",
              "  <thead>\n",
              "    <tr style=\"text-align: right;\">\n",
              "      <th></th>\n",
              "      <th>calif anterior</th>\n",
              "      <th>horas de estudio</th>\n",
              "      <th>calificación</th>\n",
              "    </tr>\n",
              "  </thead>\n",
              "  <tbody>\n",
              "    <tr>\n",
              "      <th>0</th>\n",
              "      <td>5.638</td>\n",
              "      <td>8.289</td>\n",
              "      <td>5.136</td>\n",
              "    </tr>\n",
              "    <tr>\n",
              "      <th>1</th>\n",
              "      <td>6.744</td>\n",
              "      <td>9.389</td>\n",
              "      <td>5.931</td>\n",
              "    </tr>\n",
              "    <tr>\n",
              "      <th>2</th>\n",
              "      <td>5.136</td>\n",
              "      <td>10.060</td>\n",
              "      <td>5.484</td>\n",
              "    </tr>\n",
              "    <tr>\n",
              "      <th>3</th>\n",
              "      <td>5.748</td>\n",
              "      <td>10.421</td>\n",
              "      <td>6.524</td>\n",
              "    </tr>\n",
              "    <tr>\n",
              "      <th>4</th>\n",
              "      <td>7.136</td>\n",
              "      <td>10.434</td>\n",
              "      <td>6.770</td>\n",
              "    </tr>\n",
              "  </tbody>\n",
              "</table>\n",
              "</div>"
            ],
            "text/plain": [
              "   calif anterior  horas de estudio  calificación\n",
              "0           5.638             8.289         5.136\n",
              "1           6.744             9.389         5.931\n",
              "2           5.136            10.060         5.484\n",
              "3           5.748            10.421         6.524\n",
              "4           7.136            10.434         6.770"
            ]
          },
          "metadata": {
            "tags": []
          },
          "execution_count": 8
        }
      ]
    },
    {
      "cell_type": "markdown",
      "metadata": {
        "id": "MY9PnLffjtVn"
      },
      "source": [
        "### Grafica los datos en 3D."
      ]
    },
    {
      "cell_type": "code",
      "metadata": {
        "id": "LxNXvpUXHYwm",
        "colab": {
          "base_uri": "https://localhost:8080/",
          "height": 247
        },
        "outputId": "ae843f61-0f50-45c8-fca3-f844c63e140b"
      },
      "source": [
        "from mpl_toolkits.mplot3d import axes3d\n",
        "import matplotlib.pyplot as plt\n",
        "\n",
        "# Creamos la figura\n",
        "fig = plt.figure()\n",
        "# Creamos el plano 3D\n",
        "ax1 = fig.add_subplot(111, projection='3d')\n",
        "# Agregamos los puntos en el plano 3D\n",
        "ax1.scatter(df.iloc[:,1], df.iloc[:,0], df.iloc[:,-1], c='g', marker='o')\n",
        "\n",
        "# Mostramos el gráfico\n",
        "plt.xlabel('horas de estudio')\n",
        "plt.ylabel('calificación anterior')\n",
        "plt.show()"
      ],
      "execution_count": null,
      "outputs": [
        {
          "output_type": "display_data",
          "data": {
            "image/png": "[encoded data removed]",
            "text/plain": [
              "<Figure size 432x288 with 1 Axes>"
            ]
          },
          "metadata": {
            "tags": [],
            "needs_background": "light"
          }
        }
      ]
    },
    {
      "cell_type": "code",
      "metadata": {
        "id": "i6miCRf2rzci"
      },
      "source": [
        "x_trn = np.array(df.iloc[:,:2], dtype=\"float32\")\n",
        "# se obtiene la salda\n",
        "y_trn = np.array(df.iloc[:,-1], dtype=\"float32\")[..., np.newaxis]"
      ],
      "execution_count": null,
      "outputs": []
    },
    {
      "cell_type": "code",
      "metadata": {
        "id": "3Nnxzsh8saFz"
      },
      "source": [
        ""
      ],
      "execution_count": null,
      "outputs": []
    },
    {
      "cell_type": "code",
      "metadata": {
        "id": "d0_Htbbymg0Y"
      },
      "source": [
        "class CalifDS:\n",
        "    \n",
        "    def __init__(self, X, Y):\n",
        "        self.x = X\n",
        "        self.y = Y\n",
        "\n",
        "    def __getitem__(self, i):\n",
        "        return self.x[i], self.y[i]\n",
        "\n",
        "    def __len__(self):\n",
        "        return len(self.y)"
      ],
      "execution_count": null,
      "outputs": []
    },
    {
      "cell_type": "code",
      "metadata": {
        "id": "AKCQPuaGtta7",
        "colab": {
          "base_uri": "https://localhost:8080/",
          "height": 52
        },
        "outputId": "200cbf41-416c-472c-e67b-9f59e9e3faa1"
      },
      "source": [
        "batch_size = 16\n",
        "\n",
        "# creamos un Dataset\n",
        "ds = CalifDS(x_trn, y_trn)\n",
        "\n",
        "# creamos un DataLoader\n",
        "trn_dl = DataLoader(ds, batch_size=batch_size, shuffle=True)\n",
        "\n",
        "# desplegamos un lote de ejemplos\n",
        "for x, y in take(trn_dl, 1):\n",
        "    print(f'x shape={x.shape} dtype={x.dtype}')\n",
        "    print(f'y shape={y.shape} dtype={y.dtype}')"
      ],
      "execution_count": null,
      "outputs": [
        {
          "output_type": "stream",
          "text": [
            "x shape=torch.Size([16, 2]) dtype=torch.float32\n",
            "y shape=torch.Size([16]) dtype=torch.float32\n"
          ],
          "name": "stdout"
        }
      ]
    },
    {
      "cell_type": "code",
      "metadata": {
        "id": "2nTXGTsWt86y",
        "colab": {
          "base_uri": "https://localhost:8080/",
          "height": 35
        },
        "outputId": "42424b37-0a25-4f7f-fb84-58204bca9de6"
      },
      "source": [
        "len(ds)"
      ],
      "execution_count": null,
      "outputs": [
        {
          "output_type": "execute_result",
          "data": {
            "text/plain": [
              "50"
            ]
          },
          "metadata": {
            "tags": []
          },
          "execution_count": 48
        }
      ]
    },
    {
      "cell_type": "code",
      "metadata": {
        "id": "nYDKvhiouK1O"
      },
      "source": [
        ""
      ],
      "execution_count": null,
      "outputs": []
    },
    {
      "cell_type": "markdown",
      "metadata": {
        "id": "jonH-4cmjyI4"
      },
      "source": [
        "### Realiza la definición de la arquitectura usando tanto la interfaz de alto como la de medio nivel.\n",
        "\n",
        "## Alto nivel"
      ]
    },
    {
      "cell_type": "code",
      "metadata": {
        "id": "PB-kinZnk68B",
        "colab": {
          "base_uri": "https://localhost:8080/",
          "height": 70
        },
        "outputId": "8e88e58f-83fa-411b-a9c7-4e44699abde6"
      },
      "source": [
        "model = nn.Sequential(\n",
        "  nn.Linear(2,1)\n",
        ")\n",
        "print(model)\n"
      ],
      "execution_count": null,
      "outputs": [
        {
          "output_type": "stream",
          "text": [
            "Sequential(\n",
            "  (0): Linear(in_features=2, out_features=1, bias=True)\n",
            ")\n"
          ],
          "name": "stdout"
        }
      ]
    },
    {
      "cell_type": "code",
      "metadata": {
        "id": "puclibgxldmu",
        "colab": {
          "base_uri": "https://localhost:8080/",
          "height": 72
        },
        "outputId": "b25d3fc2-5ecb-40da-a3d4-e37c40db9b39"
      },
      "source": [
        "\n",
        "# optimizador\n",
        "opt = optim.SGD(model.parameters(), lr=1e-3)\n",
        "\n",
        "# historial de pérdida\n",
        "loss_hist = []\n",
        "\n",
        "# ciclo de entrenamiento\n",
        "EPOCHS = 30\n",
        "for _ in range(EPOCHS):\n",
        "\n",
        "    # entrenamiento de una época\n",
        "    for x, y_true in trn_dl:\n",
        "        # hacemos inferencia para obtener los logits\n",
        "        y_lgts = model(x)\n",
        "        # calculamos de pérdida\n",
        "        loss = F.mse_loss(y_lgts, y_true)\n",
        "        # vaciamos los gradientes\n",
        "        opt.zero_grad()\n",
        "        # retropropagamos\n",
        "        loss.backward()\n",
        "        # actulizamos parámetros\n",
        "        opt.step()\n",
        "        \n",
        "        # guardamos historial de pérdida\n",
        "        loss_hist.append(loss.item() * 100)\n",
        "\n",
        "#print(loss_hist)\n"
      ],
      "execution_count": null,
      "outputs": [
        {
          "output_type": "stream",
          "text": [
            "/usr/local/lib/python3.6/dist-packages/ipykernel_launcher.py:17: UserWarning: Using a target size (torch.Size([16])) that is different to the input size (torch.Size([16, 1])). This will likely lead to incorrect results due to broadcasting. Please ensure they have the same size.\n",
            "/usr/local/lib/python3.6/dist-packages/ipykernel_launcher.py:17: UserWarning: Using a target size (torch.Size([2])) that is different to the input size (torch.Size([2, 1])). This will likely lead to incorrect results due to broadcasting. Please ensure they have the same size.\n"
          ],
          "name": "stderr"
        }
      ]
    },
    {
      "cell_type": "code",
      "metadata": {
        "id": "S4K5GeYmyHqc",
        "colab": {
          "base_uri": "https://localhost:8080/",
          "height": 278
        },
        "outputId": "54e2517d-edf0-45fc-d443-74a3e122289b"
      },
      "source": [
        "plt.plot(loss_hist, color='red')\n",
        "plt.xlabel('iteraciones')\n",
        "plt.ylabel('ECM');"
      ],
      "execution_count": null,
      "outputs": [
        {
          "output_type": "display_data",
          "data": {
            "image/png": "[encoded data removed]",
            "text/plain": [
              "<Figure size 432x288 with 1 Axes>"
            ]
          },
          "metadata": {
            "tags": [],
            "needs_background": "light"
          }
        }
      ]
    },
    {
      "cell_type": "code",
      "metadata": {
        "id": "_fkNJczDywri",
        "colab": {
          "base_uri": "https://localhost:8080/",
          "height": 140
        },
        "outputId": "6d57026e-59f6-40f8-9f9d-ade80c2aafdb"
      },
      "source": [
        "x_trn[:,1]"
      ],
      "execution_count": null,
      "outputs": [
        {
          "output_type": "execute_result",
          "data": {
            "text/plain": [
              "array([ 8.289,  9.389, 10.06 , 10.421, 10.434, 10.437, 10.46 , 10.518,\n",
              "       10.768, 10.948, 10.964, 11.207, 11.366, 11.508, 11.525, 11.539,\n",
              "       11.555, 11.596, 11.611, 11.784, 11.864, 11.896, 11.915, 11.937,\n",
              "       11.949, 11.971, 12.026, 12.111, 12.164, 12.276, 12.524, 12.803,\n",
              "       12.807, 12.814, 12.818, 12.865, 12.943, 12.961, 13.026, 13.12 ,\n",
              "       13.325, 13.373, 13.433, 13.577, 13.739, 13.745, 13.821, 13.99 ,\n",
              "       13.992, 14.45 ], dtype=float32)"
            ]
          },
          "metadata": {
            "tags": []
          },
          "execution_count": 52
        }
      ]
    },
    {
      "cell_type": "code",
      "metadata": {
        "id": "ewmFD5U8yO_V",
        "colab": {
          "base_uri": "https://localhost:8080/",
          "height": 282
        },
        "outputId": "ecf26de2-b485-4f2d-99b7-2ca39dfd54c9"
      },
      "source": [
        "x_train = torch.from_numpy(x_trn)\n",
        "\n",
        "with torch.no_grad():\n",
        "    y_pred = model(x_train).numpy()\n",
        "\n",
        "plt.plot(x_trn[:,0], y_trn, '.', color='blue', markersize=9)\n",
        "plt.plot(x_trn[:,0], y_pred, color='blue')\n",
        "plt.plot(x_trn[:,1], y_trn, '.', color='green', markersize=9)\n",
        "plt.plot(x_trn[:,1], y_pred, color='green')\n",
        "\n",
        "#No supe como hacer la linea de la regresion en 3d :'v"
      ],
      "execution_count": null,
      "outputs": [
        {
          "output_type": "execute_result",
          "data": {
            "text/plain": [
              "[<matplotlib.lines.Line2D at 0x7f23f124b780>]"
            ]
          },
          "metadata": {
            "tags": []
          },
          "execution_count": 53
        },
        {
          "output_type": "display_data",
          "data": {
            "image/png": "[encoded data removed]",
            "text/plain": [
              "<Figure size 432x288 with 1 Axes>"
            ]
          },
          "metadata": {
            "tags": [],
            "needs_background": "light"
          }
        }
      ]
    },
    {
      "cell_type": "code",
      "metadata": {
        "id": "VQbc3ro_xGwb",
        "colab": {
          "base_uri": "https://localhost:8080/",
          "height": 575
        },
        "outputId": "d489d7b2-159d-4207-fbd7-d8c09fc52f4d"
      },
      "source": [
        "#ya supe :B\n",
        "x_train = torch.from_numpy(x_trn)\n",
        "\n",
        "with torch.no_grad():\n",
        "    y_pred = model(x_train).numpy()\n",
        "\n",
        "fig = plt.figure(figsize=(12, 10))\n",
        "ax = fig.add_subplot(111, projection='3d')\n",
        "\n",
        "for c, m in [('r', 'o')]:\n",
        "  x_cal = np.array(df.iloc[:,0], dtype=\"float32\")\n",
        "  x_hr = np.array(df.iloc[:,1], dtype=\"float32\")\n",
        "  y_trn = np.array(df.iloc[:,-1], dtype=\"float32\")\n",
        "  ax.scatter(x_cal, x_hr, y_trn, c=c, marker=m)\n",
        "  ax.plot3D(y_pred, x_hr, y_trn, 'blue')\n",
        "\n",
        "\n",
        "ax.set_xlabel('Calificacion anterior')\n",
        "ax.set_ylabel('horas de estudio')\n",
        "ax.set_zlabel('calificacion')\n",
        "plt.show()"
      ],
      "execution_count": null,
      "outputs": [
        {
          "output_type": "display_data",
          "data": {
            "image/png": "[encoded data removed]",
            "text/plain": [
              "<Figure size 864x720 with 1 Axes>"
            ]
          },
          "metadata": {
            "tags": [],
            "needs_background": "light"
          }
        }
      ]
    },
    {
      "cell_type": "markdown",
      "metadata": {
        "id": "Ry8dBUip2Gsy"
      },
      "source": [
        "Hacemos una predicción de alto nivel."
      ]
    },
    {
      "cell_type": "code",
      "metadata": {
        "id": "qQBauTrZ2Ffw",
        "colab": {
          "base_uri": "https://localhost:8080/",
          "height": 35
        },
        "outputId": "568751cd-15d7-4508-ac12-13f96dda0dca"
      },
      "source": [
        "\n",
        "x = torch.tensor([[3, 12.0]])\n",
        "\n",
        "# deshabilitamos el rastreo de gradientes\n",
        "with torch.no_grad():\n",
        "    y_pred = model(x).numpy()\n",
        "\n",
        "print(\"La calificación será:\", y_pred[0][0])"
      ],
      "execution_count": null,
      "outputs": [
        {
          "output_type": "stream",
          "text": [
            "La calificación será: 6.2837477\n"
          ],
          "name": "stdout"
        }
      ]
    },
    {
      "cell_type": "markdown",
      "metadata": {
        "id": "MoOIrVtA34Rc"
      },
      "source": [
        "Por lo que según el modelo, si reprobaste este examen, pero estudias lo suficiente para el siguiente, puedes pasar con 6 ;)\n",
        "\n",
        "\n",
        "### Medio nivel"
      ]
    },
    {
      "cell_type": "code",
      "metadata": {
        "id": "7II9s07vpR2q"
      },
      "source": [
        "\n",
        "#se define la clase RegLin que hereda de torch.nn.Module\n",
        "class RegLin(nn.Module):\n",
        "\n",
        "    #se define el inicializador\n",
        "    def __init__(self):\n",
        "        # se llama al inicializador de la clase padre\n",
        "        super(RegLin, self).__init__()\n",
        "        # importante: se definen las capas como atributos de la clase\n",
        "        self.fc = nn.Linear(2, 1)\n",
        "\n",
        "    # método para inferencia\n",
        "    def forward(self, x):\n",
        "        # definición de arquitectura \n",
        "        return self.fc(x)\n",
        "\n",
        "model = RegLin()"
      ],
      "execution_count": null,
      "outputs": []
    },
    {
      "cell_type": "code",
      "metadata": {
        "id": "_6GW1tDakjq4",
        "colab": {
          "base_uri": "https://localhost:8080/",
          "height": 72
        },
        "outputId": "64b7be2c-417d-4105-da67-0b39abc9d578"
      },
      "source": [
        "\n",
        "# optimizador\n",
        "opt = optim.SGD(model.parameters(), lr=1e-3)\n",
        "\n",
        "# historial de pérdida\n",
        "loss_hist = []\n",
        "\n",
        "# ciclo de entrenamiento\n",
        "EPOCHS = 30\n",
        "for _ in range(EPOCHS):\n",
        "\n",
        "    # entrenamiento de una época\n",
        "    for x, y_true in trn_dl:\n",
        "        # hacemos inferencia para obtener los logits\n",
        "        y_lgts = model(x)\n",
        "        # calculamos de pérdida\n",
        "        loss = F.mse_loss(y_lgts, y_true)\n",
        "        # vaciamos los gradientes\n",
        "        opt.zero_grad()\n",
        "        # retropropagamos\n",
        "        loss.backward()\n",
        "        # actulizamos parámetros\n",
        "        opt.step()\n",
        "        \n",
        "        # guardamos historial de pérdida\n",
        "        loss_hist.append(loss.item() * 100)"
      ],
      "execution_count": null,
      "outputs": [
        {
          "output_type": "stream",
          "text": [
            "/usr/local/lib/python3.6/dist-packages/ipykernel_launcher.py:17: UserWarning: Using a target size (torch.Size([16])) that is different to the input size (torch.Size([16, 1])). This will likely lead to incorrect results due to broadcasting. Please ensure they have the same size.\n",
            "/usr/local/lib/python3.6/dist-packages/ipykernel_launcher.py:17: UserWarning: Using a target size (torch.Size([2])) that is different to the input size (torch.Size([2, 1])). This will likely lead to incorrect results due to broadcasting. Please ensure they have the same size.\n"
          ],
          "name": "stderr"
        }
      ]
    },
    {
      "cell_type": "code",
      "metadata": {
        "id": "ftmInopbHhK6",
        "colab": {
          "base_uri": "https://localhost:8080/",
          "height": 280
        },
        "outputId": "973558f0-0566-40bb-e86e-5e478333ff9c"
      },
      "source": [
        "plt.plot(loss_hist, color='red')\n",
        "plt.xlabel('iteraciones')\n",
        "plt.ylabel('ECM');"
      ],
      "execution_count": null,
      "outputs": [
        {
          "output_type": "display_data",
          "data": {
            "image/png": "[encoded data removed]",
            "text/plain": [
              "<Figure size 432x288 with 1 Axes>"
            ]
          },
          "metadata": {
            "tags": [],
            "needs_background": "light"
          }
        }
      ]
    },
    {
      "cell_type": "code",
      "metadata": {
        "id": "u9w7Nr-ekviV",
        "colab": {
          "base_uri": "https://localhost:8080/",
          "height": 282
        },
        "outputId": "b7e07ec6-d56d-4db0-a7fc-223a2cf38c41"
      },
      "source": [
        "x_train = torch.from_numpy(x_trn)\n",
        "\n",
        "with torch.no_grad():\n",
        "    y_pred = model(x_train).numpy()\n",
        "\n",
        "plt.plot(x_trn[:,0], y_trn, '.', color='blue', markersize=9)\n",
        "plt.plot(x_trn[:,0], y_pred, color='blue')\n",
        "plt.plot(x_trn[:,1], y_trn, '.', color='green', markersize=9)\n",
        "plt.plot(x_trn[:,1], y_pred, color='green')\n",
        "\n",
        "#No supe como hacer la linea de la regresion en 3d :'v"
      ],
      "execution_count": null,
      "outputs": [
        {
          "output_type": "execute_result",
          "data": {
            "text/plain": [
              "[<matplotlib.lines.Line2D at 0x7f23f1033160>]"
            ]
          },
          "metadata": {
            "tags": []
          },
          "execution_count": 61
        },
        {
          "output_type": "display_data",
          "data": {
            "image/png": "[encoded data removed]",
            "text/plain": [
              "<Figure size 432x288 with 1 Axes>"
            ]
          },
          "metadata": {
            "tags": [],
            "needs_background": "light"
          }
        }
      ]
    },
    {
      "cell_type": "code",
      "metadata": {
        "id": "ln-YOzkW44dB",
        "colab": {
          "base_uri": "https://localhost:8080/",
          "height": 35
        },
        "outputId": "6283c16c-bd56-4fb9-88c1-b5957470cff4"
      },
      "source": [
        "\n",
        "x = torch.tensor([[3, 12.0]])\n",
        "\n",
        "# deshabilitamos el rastreo de gradientes\n",
        "with torch.no_grad():\n",
        "    y_pred = model(x).numpy()\n",
        "\n",
        "print(\"La calificación será:\", y_pred[0][0])"
      ],
      "execution_count": null,
      "outputs": [
        {
          "output_type": "stream",
          "text": [
            "La calificación será: 5.0518975\n"
          ],
          "name": "stdout"
        }
      ]
    },
    {
      "cell_type": "markdown",
      "metadata": {
        "id": "IYpLz-fM5C6H"
      },
      "source": [
        "\n",
        "\n",
        "### Prueba distintos valores para los hiperparámetros."
      ]
    },
    {
      "cell_type": "code",
      "metadata": {
        "id": "OVUkFwJD5Brg",
        "colab": {
          "base_uri": "https://localhost:8080/",
          "height": 368
        },
        "outputId": "90e25c01-a246-4578-da9e-89ec6555b454"
      },
      "source": [
        "model = RegLin()\n",
        "opt = optim.SGD(model.parameters(), lr=1e-6)\n",
        "\n",
        "# historial de pérdida\n",
        "loss_hist = []\n",
        "\n",
        "# ciclo de entrenamiento\n",
        "EPOCHS = 1500\n",
        "for _ in range(EPOCHS):\n",
        "\n",
        "    # entrenamiento de una época\n",
        "    for x, y_true in trn_dl:\n",
        "        # hacemos inferencia para obtener los logits\n",
        "        y_lgts = model(x)\n",
        "        # calculamos de pérdida\n",
        "        loss = F.mse_loss(y_lgts, y_true)\n",
        "        # vaciamos los gradientes\n",
        "        opt.zero_grad()\n",
        "        # retropropagamos\n",
        "        loss.backward()\n",
        "        # actulizamos parámetros\n",
        "        opt.step()\n",
        "        \n",
        "        # guardamos historial de pérdida\n",
        "        loss_hist.append(loss.item() * 100)\n",
        "plt.plot(loss_hist, color='red')\n",
        "plt.xlabel('iteraciones')\n",
        "plt.ylabel('ECM');"
      ],
      "execution_count": null,
      "outputs": [
        {
          "output_type": "stream",
          "text": [
            "/usr/local/lib/python3.6/dist-packages/ipykernel_launcher.py:16: UserWarning: Using a target size (torch.Size([16])) that is different to the input size (torch.Size([16, 1])). This will likely lead to incorrect results due to broadcasting. Please ensure they have the same size.\n",
            "  app.launch_new_instance()\n",
            "/usr/local/lib/python3.6/dist-packages/ipykernel_launcher.py:16: UserWarning: Using a target size (torch.Size([2])) that is different to the input size (torch.Size([2, 1])). This will likely lead to incorrect results due to broadcasting. Please ensure they have the same size.\n",
            "  app.launch_new_instance()\n"
          ],
          "name": "stderr"
        },
        {
          "output_type": "display_data",
          "data": {
            "image/png": "[encoded data removed]",
            "text/plain": [
              "<Figure size 432x288 with 1 Axes>"
            ]
          },
          "metadata": {
            "tags": [],
            "needs_background": "light"
          }
        }
      ]
    },
    {
      "cell_type": "code",
      "metadata": {
        "id": "fyVGebtN_ysJ",
        "colab": {
          "base_uri": "https://localhost:8080/",
          "height": 35
        },
        "outputId": "6736e27b-f784-4b70-f8fb-a7ef2dd58ff8"
      },
      "source": [
        "x = torch.tensor([[3, 12.0]])\n",
        "\n",
        "# deshabilitamos el rastreo de gradientes\n",
        "with torch.no_grad():\n",
        "    y_pred = model(x).numpy()\n",
        "\n",
        "print(\"La calificación será:\", y_pred[0][0])"
      ],
      "execution_count": null,
      "outputs": [
        {
          "output_type": "stream",
          "text": [
            "La calificación será: 4.620241\n"
          ],
          "name": "stdout"
        }
      ]
    },
    {
      "cell_type": "markdown",
      "metadata": {
        "id": "IKjvZUXo_2XS"
      },
      "source": [
        "### Discusión.\n",
        "\n",
        "Después de hacer bastantes combinaciones, encontré que el learning rate = 1e-6 funcionaba \"bien\" debido a que el resto era bastante ruidoso y fluctuante. La cantidad de épocas lo dejé demasiado grande para que se pudiese ver el codo, sin embargo está demasiado ruidoso, esto se puede deber a distintos factores, uno de ellos, a mi parecer el más importante es la cantidad de ejemplos que se tienen, por eso le cuesta trabajo, además de ser sólo una regresión, no puede modelar de manera adecuada la relación entre los atributos y la variable a predecir. Ya que al tener tan pocos ejemplos, los ve demasiadas veces y en cada iteración se ajusta para esa vista, sin embargo se desajusta para otra, por lo que resulta difícil aprender la relación entre los atributos\n",
        "\n",
        "\n",
        "\n",
        "\n",
        "\n"
      ]
    },
    {
      "cell_type": "markdown",
      "metadata": {
        "id": "_5RZsILKwZpS"
      },
      "source": [
        "## 4. Red completamente conectada con Pytorch\n",
        "Implementa una red completamente conectada para la tarea de clasificación de imágenes sobre el conjunto de Fashion-MNIST, tomando en cuenta las siguiente especificaciones:\n",
        "\n",
        "\n",
        "\n",
        "*   Explora con diferentes número de neuronas, capas, funciones de activación e hiperparámetros.\n",
        "*   Discute tus resultados con las distintas configuraciones.\n"
      ]
    },
    {
      "cell_type": "code",
      "metadata": {
        "id": "p4Yj3P3h7X1o",
        "colab": {
          "base_uri": "https://localhost:8080/",
          "height": 55
        },
        "outputId": "df50f708-b12e-4a0e-be76-5310265c153a"
      },
      "source": [
        "!pip install torch-summary"
      ],
      "execution_count": null,
      "outputs": [
        {
          "output_type": "stream",
          "text": [
            "Requirement already satisfied: torch-summary in /usr/local/lib/python3.6/dist-packages (1.4.3)\n"
          ],
          "name": "stdout"
        }
      ]
    },
    {
      "cell_type": "markdown",
      "metadata": {
        "id": "0W6R2D-jX9ej"
      },
      "source": [
        "Utilizaremos la libreta que vimos en clase anotando las respectivas modificaciones que se tienen que realizar para que funcione con este nuevo dataset"
      ]
    },
    {
      "cell_type": "code",
      "metadata": {
        "id": "f8l0pHBnW507",
        "colab": {
          "base_uri": "https://localhost:8080/",
          "height": 35
        },
        "outputId": "252a4c2a-1a84-45b9-a050-b15aac4ffa2d"
      },
      "source": [
        "# funciones aleatorias\n",
        "import random\n",
        "# tomar n elementos de una secuencia\n",
        "from itertools import islice as take\n",
        "\n",
        "# gráficas\n",
        "import matplotlib.pyplot as plt\n",
        "# arreglos multidimensionales\n",
        "import numpy as np\n",
        "# redes neuronales\n",
        "import torch\n",
        "import torch.nn as nn\n",
        "import torch.nn.functional as F\n",
        "import torch.optim as optim\n",
        "# imágenes\n",
        "from skimage import io\n",
        "# redes neuronales\n",
        "from torch.utils.data import DataLoader\n",
        "from torchvision import transforms\n",
        "from torchvision.datasets import FashionMNIST #<<<<<<<<<<<<<<<<<<<<<<<<<El nuevo dataset\n",
        "# inspección de arquitectura\n",
        "# https://github.com/TylerYep/torch-summary\n",
        "from torchsummary import summary\n",
        "# barras de progreso\n",
        "from tqdm import tqdm\n",
        "\n",
        "# directorio de datos\n",
        "DATA_DIR = '../data'\n",
        "\n",
        "# MNIST\n",
        "MEAN = (0.1307)\n",
        "STD = (0.3081)\n",
        "\n",
        "# tamaño del lote\n",
        "BATCH_SIZE = 128\n",
        "\n",
        "# reproducibilidad\n",
        "SEED = 0\n",
        "random.seed(SEED)\n",
        "np.random.seed(SEED)\n",
        "torch.manual_seed(SEED)"
      ],
      "execution_count": null,
      "outputs": [
        {
          "output_type": "execute_result",
          "data": {
            "text/plain": [
              "<torch._C.Generator at 0x7f244264da08>"
            ]
          },
          "metadata": {
            "tags": []
          },
          "execution_count": 66
        }
      ]
    },
    {
      "cell_type": "code",
      "metadata": {
        "id": "Uq8Ho7RmX2zj"
      },
      "source": [
        "def display_grid(xs, titles, rows, cols):\n",
        "    fig, ax = plt.subplots(rows, cols)\n",
        "    for r in range(rows):\n",
        "        for c in range(cols):\n",
        "            i = r * rows + c\n",
        "            ax[r, c].imshow(xs[i], cmap='gray')\n",
        "            ax[r, c].set_title(titles[i])\n",
        "            ax[r, c].set_xticklabels([])\n",
        "            ax[r, c].set_yticklabels([])\n",
        "    fig.tight_layout()\n",
        "    plt.show()"
      ],
      "execution_count": null,
      "outputs": []
    },
    {
      "cell_type": "code",
      "metadata": {
        "id": "4tfCZ2h-XBUX"
      },
      "source": [
        "# creamos un Dataset\n",
        "ds = FashionMNIST(\n",
        "    # directorio de datos\n",
        "    root=DATA_DIR, \n",
        "    # subconjunto de entrenamiento\n",
        "    train=True, \n",
        "    # convertir la imagen a ndarray\n",
        "    transform=np.array, \n",
        "    # descargar el conjunto\n",
        "    download=True\n",
        ")"
      ],
      "execution_count": null,
      "outputs": []
    },
    {
      "cell_type": "code",
      "metadata": {
        "id": "bid3v7AvXGj1",
        "colab": {
          "base_uri": "https://localhost:8080/",
          "height": 315
        },
        "outputId": "26ff816b-db5c-4993-b50f-36cd7e0983e9"
      },
      "source": [
        "images, labels = [], []\n",
        "for i in range(12):\n",
        "    x, y = ds[i]\n",
        "    images.append(x)\n",
        "    labels.append(y)\n",
        "\n",
        "# desplegamos\n",
        "print(f'images[0] shape={images[0].shape} dtype={images[0].dtype}')\n",
        "titles = [str(y) for y in labels]\n",
        "display_grid(images, titles, 3, 4)"
      ],
      "execution_count": null,
      "outputs": [
        {
          "output_type": "stream",
          "text": [
            "images[0] shape=(28, 28) dtype=uint8\n"
          ],
          "name": "stdout"
        },
        {
          "output_type": "display_data",
          "data": {
            "image/png": "[encoded data removed]",
            "text/plain": [
              "<Figure size 432x288 with 12 Axes>"
            ]
          },
          "metadata": {
            "tags": [],
            "needs_background": "light"
          }
        }
      ]
    },
    {
      "cell_type": "markdown",
      "metadata": {
        "id": "WAKFo76lYOSC"
      },
      "source": [
        "Como podemos ver, las imagenes del dataset son prendas de ropa en escala de grises"
      ]
    },
    {
      "cell_type": "code",
      "metadata": {
        "id": "0R5Pk74bXx7W",
        "colab": {
          "base_uri": "https://localhost:8080/",
          "height": 192
        },
        "outputId": "e0965ddd-6de5-47ec-a560-0cb788e0825c"
      },
      "source": [
        "ds.classes\n",
        "#¿Cuántas clases tenemos?"
      ],
      "execution_count": null,
      "outputs": [
        {
          "output_type": "execute_result",
          "data": {
            "text/plain": [
              "['T-shirt/top',\n",
              " 'Trouser',\n",
              " 'Pullover',\n",
              " 'Dress',\n",
              " 'Coat',\n",
              " 'Sandal',\n",
              " 'Shirt',\n",
              " 'Sneaker',\n",
              " 'Bag',\n",
              " 'Ankle boot']"
            ]
          },
          "metadata": {
            "tags": []
          },
          "execution_count": 82
        }
      ]
    },
    {
      "cell_type": "markdown",
      "metadata": {
        "id": "VsapkpjFYxOI"
      },
      "source": [
        "### Entrenamiento"
      ]
    },
    {
      "cell_type": "code",
      "metadata": {
        "id": "DzI9amhkYcbX",
        "colab": {
          "base_uri": "https://localhost:8080/",
          "height": 52
        },
        "outputId": "cf00b4b5-f393-42c8-b823-1139222de55d"
      },
      "source": [
        "# transformaciones para la imagen\n",
        "trn_tsfm = transforms.Compose([\n",
        "    # convertimos a torch.Tensor y escalamos a [0,1]\n",
        "    transforms.ToTensor(),\n",
        "    # estandarizamos: restamos la media y dividimos sobre la varianza\n",
        "    transforms.Normalize(MEAN, STD),\n",
        "])\n",
        "\n",
        "# creamos un Dataset\n",
        "trn_ds = FashionMNIST(\n",
        "    # directorio de datos\n",
        "    root=DATA_DIR,\n",
        "    # subconjunto de entrenamiento\n",
        "    train=True,\n",
        "    # transformación\n",
        "    transform=trn_tsfm\n",
        ")\n",
        "\n",
        "# creamos un DataLoader\n",
        "trn_dl = DataLoader(\n",
        "    # conjunto\n",
        "    trn_ds,\n",
        "    # tamaño del lote\n",
        "    batch_size=BATCH_SIZE,\n",
        "    # desordenar\n",
        "    shuffle=True\n",
        ")\n",
        "\n",
        "# desplegamos un lote de imágenes\n",
        "for x, y in take(trn_dl, 1):\n",
        "    print(f'x shape={x.shape} dtype={x.dtype}')\n",
        "    print(f'y shape={y.shape} dtype={y.dtype}')\n"
      ],
      "execution_count": null,
      "outputs": [
        {
          "output_type": "stream",
          "text": [
            "x shape=torch.Size([128, 1, 28, 28]) dtype=torch.float32\n",
            "y shape=torch.Size([128]) dtype=torch.int64\n"
          ],
          "name": "stdout"
        }
      ]
    },
    {
      "cell_type": "markdown",
      "metadata": {
        "id": "mjnUZsqAZD0-"
      },
      "source": [
        "### Prueba\n",
        "Ahora creamos los conjuntos de prueba"
      ]
    },
    {
      "cell_type": "code",
      "metadata": {
        "id": "IFMp091mY5gv",
        "colab": {
          "base_uri": "https://localhost:8080/",
          "height": 52
        },
        "outputId": "6120d03c-b327-47ba-9aed-32770934c508"
      },
      "source": [
        "tst_tsfm = transforms.Compose([\n",
        "    # convertimos a torch.Tensor y escalamos a [0,1]\n",
        "    transforms.ToTensor(),\n",
        "    # estandarizamos: restamos la media y dividimos sobre la varianza\n",
        "    transforms.Normalize(MEAN, STD),\n",
        "])\n",
        "\n",
        "# creamos un Dataset\n",
        "tst_ds = FashionMNIST(\n",
        "    # directorio de datos\n",
        "    root=DATA_DIR, \n",
        "    # subconjunto de entrenamiento\n",
        "    train=False,\n",
        "    # transformación\n",
        "    transform=tst_tsfm\n",
        ")\n",
        "\n",
        "# creamos un DataLoader\n",
        "tst_dl = DataLoader(\n",
        "    # subconjunto\n",
        "    tst_ds,\n",
        "    # tamaño del lote\n",
        "    batch_size=BATCH_SIZE,\n",
        "    # desordenar\n",
        "    shuffle=True\n",
        ")\n",
        "\n",
        "# imprimimos forma y tipo del lote\n",
        "for x, y in take(tst_dl, 1):\n",
        "    print(f'x shape={x.shape} dtype={x.dtype}')\n",
        "    print(f'y shape={y.shape} dtype={y.dtype}')"
      ],
      "execution_count": null,
      "outputs": [
        {
          "output_type": "stream",
          "text": [
            "x shape=torch.Size([128, 1, 28, 28]) dtype=torch.float32\n",
            "y shape=torch.Size([128]) dtype=torch.int64\n"
          ],
          "name": "stdout"
        }
      ]
    },
    {
      "cell_type": "code",
      "metadata": {
        "id": "_nr7bIkN9L6i",
        "colab": {
          "base_uri": "https://localhost:8080/",
          "height": 35
        },
        "outputId": "8c16bff9-641b-48e9-a479-05069085c72b"
      },
      "source": [
        "x.shape"
      ],
      "execution_count": null,
      "outputs": [
        {
          "output_type": "execute_result",
          "data": {
            "text/plain": [
              "torch.Size([128, 1, 28, 28])"
            ]
          },
          "metadata": {
            "tags": []
          },
          "execution_count": 90
        }
      ]
    },
    {
      "cell_type": "markdown",
      "metadata": {
        "id": "5886ooADZOKs"
      },
      "source": [
        "### Definición de la arquitectura"
      ]
    },
    {
      "cell_type": "code",
      "metadata": {
        "id": "kWFQM8kmZLlm"
      },
      "source": [
        "class MLP(nn.Module):\n",
        "    \n",
        "    # inicializador\n",
        "    def __init__(self):\n",
        "        # inicilización del objeto padre, obligatorio\n",
        "        super(MLP, self).__init__()\n",
        "        # tamaño de las capas\n",
        "        self.I = 1 * 28 * 28\n",
        "        FC1, FC2 = 128, 10\n",
        "        # definición de capas\n",
        "        self.cls = nn.Sequential(\n",
        "            # fc1\n",
        "            # [N, 1x28x28] => [N, 128]\n",
        "            \n",
        "            nn.Linear(self.I, FC1),\n",
        "            nn.ReLU(),\n",
        "            # fc2\n",
        "            # [N, 128] => [N, 10]\n",
        "            nn.Linear(FC1, FC2)\n",
        "        )\n",
        "    \n",
        "    # metodo para inferencia\n",
        "    def forward(self, x):\n",
        "        # aplanamos los pixeles de la imagen\n",
        "        # [N, 1, 28, 28] => [N, 1x28x28]\n",
        "        x = x.view(-1, self.I)\n",
        "        # inferencia\n",
        "        # [N, 1x28x28]\n",
        "        x = self.cls(x)\n",
        "        return x\n"
      ],
      "execution_count": null,
      "outputs": []
    },
    {
      "cell_type": "code",
      "metadata": {
        "id": "kzTuKPAxZax9",
        "colab": {
          "base_uri": "https://localhost:8080/",
          "height": 352
        },
        "outputId": "7ec6c47f-e66f-4796-eb2c-d1aafa5cf66e"
      },
      "source": [
        "model= MLP()\n",
        "summary(model, (1, 28, 28), device='cpu', verbose=0)\n"
      ],
      "execution_count": null,
      "outputs": [
        {
          "output_type": "execute_result",
          "data": {
            "text/plain": [
              "==========================================================================================\n",
              "Layer (type:depth-idx)                   Output Shape              Param #\n",
              "==========================================================================================\n",
              "├─Sequential: 1-1                        [-1, 10]                  --\n",
              "|    └─Linear: 2-1                       [-1, 128]                 100,480\n",
              "|    └─ReLU: 2-2                         [-1, 128]                 --\n",
              "|    └─Linear: 2-3                       [-1, 10]                  1,290\n",
              "==========================================================================================\n",
              "Total params: 101,770\n",
              "Trainable params: 101,770\n",
              "Non-trainable params: 0\n",
              "Total mult-adds (M): 0.20\n",
              "==========================================================================================\n",
              "Input size (MB): 0.00\n",
              "Forward/backward pass size (MB): 0.00\n",
              "Params size (MB): 0.39\n",
              "Estimated Total Size (MB): 0.39\n",
              "=========================================================================================="
            ]
          },
          "metadata": {
            "tags": []
          },
          "execution_count": 91
        }
      ]
    },
    {
      "cell_type": "markdown",
      "metadata": {
        "id": "7xytzzpBZl79"
      },
      "source": [
        "Como podemos ver, estamos usando la misma arquitectura que utilizó Bere en la clase"
      ]
    },
    {
      "cell_type": "markdown",
      "metadata": {
        "id": "6rzrUkoAZ2Cq"
      },
      "source": [
        "### Entrenamiento"
      ]
    },
    {
      "cell_type": "code",
      "metadata": {
        "id": "Zelm1H0mZdDt",
        "colab": {
          "base_uri": "https://localhost:8080/",
          "height": 367
        },
        "outputId": "53dac2b7-576d-4f44-dba2-bab20812840a"
      },
      "source": [
        "# optimizador\n",
        "opt = optim.SGD(model.parameters(), lr=1e-3)\n",
        "# historial de pérdida\n",
        "loss_hist = []\n",
        "\n",
        "# ciclo de entrenamiento\n",
        "EPOCHS = 20\n",
        "for epoch in range(EPOCHS):\n",
        "    \n",
        "    # entrenamiento de una época\n",
        "    for x, y_true in trn_dl:\n",
        "        # vaciamos los gradientes\n",
        "        opt.zero_grad()\n",
        "        # hacemos inferencia para obtener los logits\n",
        "        y_lgts = model(x)\n",
        "        # calculamos la pérdida\n",
        "        loss = F.cross_entropy(y_lgts, y_true)\n",
        "        # retropropagamos\n",
        "        loss.backward()\n",
        "        # actulizamos parámetros\n",
        "        opt.step()\n",
        "\n",
        "    # evitamos que se registren las operaciones \n",
        "    # en la gráfica de cómputo\n",
        "    with torch.no_grad(): \n",
        "        # modelo en modo de evaluación\n",
        "        model.eval()\n",
        "        \n",
        "        losses, accs = [], []\n",
        "        # validación de la época\n",
        "        for x, y_true in take(tst_dl, 10):\n",
        "            # hacemos inferencia para obtener los logits\n",
        "            y_lgts = model(x)\n",
        "            # calculamos las probabilidades\n",
        "            y_prob = F.softmax(y_lgts, 1)\n",
        "            # obtenemos la clase predicha\n",
        "            y_pred = torch.argmax(y_prob, 1)\n",
        "            \n",
        "            # calculamos la pérdida\n",
        "            loss = F.cross_entropy(y_lgts, y_true)\n",
        "            # calculamos la exactitud\n",
        "            acc = (y_true == y_pred).type(torch.float32).mean()\n",
        "\n",
        "            # guardamos históricos\n",
        "            losses.append(loss.item() * 100)\n",
        "            accs.append(acc.item() * 100)\n",
        "\n",
        "        # imprimimos métricas\n",
        "        loss = np.mean(losses)\n",
        "        acc = np.mean(accs)\n",
        "        print(f'E{epoch:2} loss={loss:6.2f} acc={acc:.2f}')\n",
        "        \n",
        "        # agregagmos al historial de pérdidas\n",
        "        loss_hist.append(loss)\n",
        "        \n",
        "        # modelo en modo de entrenamiento\n",
        "        model.train()\n"
      ],
      "execution_count": null,
      "outputs": [
        {
          "output_type": "stream",
          "text": [
            "E 0 loss=124.74 acc=64.14\n",
            "E 1 loss= 95.31 acc=68.59\n",
            "E 2 loss= 82.08 acc=73.75\n",
            "E 3 loss= 76.73 acc=74.45\n",
            "E 4 loss= 71.89 acc=75.86\n",
            "E 5 loss= 65.81 acc=78.12\n",
            "E 6 loss= 65.71 acc=78.52\n",
            "E 7 loss= 63.65 acc=78.91\n",
            "E 8 loss= 63.23 acc=78.05\n",
            "E 9 loss= 60.37 acc=78.98\n",
            "E10 loss= 61.14 acc=79.45\n",
            "E11 loss= 56.61 acc=81.72\n",
            "E12 loss= 56.75 acc=80.78\n",
            "E13 loss= 51.23 acc=82.42\n",
            "E14 loss= 54.58 acc=80.39\n",
            "E15 loss= 52.44 acc=80.94\n",
            "E16 loss= 53.52 acc=81.41\n",
            "E17 loss= 51.07 acc=82.34\n",
            "E18 loss= 51.86 acc=80.86\n",
            "E19 loss= 53.40 acc=82.19\n"
          ],
          "name": "stdout"
        }
      ]
    },
    {
      "cell_type": "markdown",
      "metadata": {
        "id": "e4evg9Kuba7w"
      },
      "source": [
        "Estos son los resutlados utilizando los mismos parámetros vistos en clase, procedemos a hacer la variación"
      ]
    },
    {
      "cell_type": "code",
      "metadata": {
        "id": "7L7QuFUBZvEu",
        "colab": {
          "base_uri": "https://localhost:8080/",
          "height": 280
        },
        "outputId": "476903ec-0cc9-4b14-f6ab-ae4043a88139"
      },
      "source": [
        "plt.plot(loss_hist, color='red')\n",
        "plt.xlabel('época')\n",
        "plt.ylabel('pérdida')\n",
        "plt.show()"
      ],
      "execution_count": null,
      "outputs": [
        {
          "output_type": "display_data",
          "data": {
            "image/png": "[encoded data removed]",
            "text/plain": [
              "<Figure size 432x288 with 1 Axes>"
            ]
          },
          "metadata": {
            "tags": [],
            "needs_background": "light"
          }
        }
      ]
    },
    {
      "cell_type": "markdown",
      "metadata": {
        "id": "xuNTR_QN_-kz"
      },
      "source": [
        "A continuación probamos misma arquitectura cambiando nadamás el lr"
      ]
    },
    {
      "cell_type": "code",
      "metadata": {
        "id": "lENouz1Ibk3E",
        "colab": {
          "base_uri": "https://localhost:8080/",
          "height": 717
        },
        "outputId": "b5cfe45f-8876-4981-8b9c-80a99d63c4b5"
      },
      "source": [
        "model = MLP()\n",
        "\n",
        "# optimizador\n",
        "opt = optim.SGD(model.parameters(), lr=1e-2)\n",
        "# historial de pérdida\n",
        "loss_hist = []\n",
        "\n",
        "# ciclo de entrenamiento\n",
        "EPOCHS = 40\n",
        "for epoch in range(EPOCHS):\n",
        "    \n",
        "    # entrenamiento de una época\n",
        "    for x, y_true in trn_dl:\n",
        "        # vaciamos los gradientes\n",
        "        opt.zero_grad()\n",
        "        # hacemos inferencia para obtener los logits\n",
        "        y_lgts = model(x)\n",
        "        # calculamos la pérdida\n",
        "        loss = F.cross_entropy(y_lgts, y_true)\n",
        "        # retropropagamos\n",
        "        loss.backward()\n",
        "        # actulizamos parámetros\n",
        "        opt.step()\n",
        "\n",
        "    # evitamos que se registren las operaciones \n",
        "    # en la gráfica de cómputo\n",
        "    with torch.no_grad(): \n",
        "        # modelo en modo de evaluación\n",
        "        model.eval()\n",
        "        \n",
        "        losses, accs = [], []\n",
        "        # validación de la época\n",
        "        for x, y_true in take(tst_dl, 10):\n",
        "            # hacemos inferencia para obtener los logits\n",
        "            y_lgts = model(x)\n",
        "            # calculamos las probabilidades\n",
        "            y_prob = F.softmax(y_lgts, 1)\n",
        "            # obtenemos la clase predicha\n",
        "            y_pred = torch.argmax(y_prob, 1)\n",
        "            \n",
        "            # calculamos la pérdida\n",
        "            loss = F.cross_entropy(y_lgts, y_true)\n",
        "            # calculamos la exactitud\n",
        "            acc = (y_true == y_pred).type(torch.float32).mean()\n",
        "\n",
        "            # guardamos históricos\n",
        "            losses.append(loss.item() * 100)\n",
        "            accs.append(acc.item() * 100)\n",
        "\n",
        "        # imprimimos métricas\n",
        "        loss = np.mean(losses)\n",
        "        acc = np.mean(accs)\n",
        "        print(f'E{epoch:2} loss={loss:6.2f} acc={acc:.2f}')\n",
        "        \n",
        "        # agregagmos al historial de pérdidas\n",
        "        loss_hist.append(loss)\n",
        "        \n",
        "        # modelo en modo de entrenamiento\n",
        "        model.train()"
      ],
      "execution_count": null,
      "outputs": [
        {
          "output_type": "stream",
          "text": [
            "E 0 loss= 57.22 acc=80.16\n",
            "E 1 loss= 49.99 acc=81.64\n",
            "E 2 loss= 49.32 acc=83.05\n",
            "E 3 loss= 50.00 acc=81.88\n",
            "E 4 loss= 48.07 acc=82.89\n",
            "E 5 loss= 42.66 acc=84.61\n",
            "E 6 loss= 44.98 acc=84.30\n",
            "E 7 loss= 42.88 acc=84.77\n",
            "E 8 loss= 42.57 acc=84.30\n",
            "E 9 loss= 41.26 acc=85.39\n",
            "E10 loss= 39.35 acc=85.39\n",
            "E11 loss= 43.48 acc=84.53\n",
            "E12 loss= 39.61 acc=86.25\n",
            "E13 loss= 40.27 acc=84.77\n",
            "E14 loss= 43.12 acc=83.98\n",
            "E15 loss= 40.15 acc=85.31\n",
            "E16 loss= 41.33 acc=85.62\n",
            "E17 loss= 37.20 acc=87.58\n",
            "E18 loss= 38.78 acc=85.00\n",
            "E19 loss= 33.75 acc=88.52\n",
            "E20 loss= 36.75 acc=86.64\n",
            "E21 loss= 35.16 acc=87.89\n",
            "E22 loss= 37.54 acc=86.41\n",
            "E23 loss= 34.06 acc=87.58\n",
            "E24 loss= 35.37 acc=87.42\n",
            "E25 loss= 40.78 acc=85.00\n",
            "E26 loss= 36.95 acc=86.25\n",
            "E27 loss= 37.06 acc=86.17\n",
            "E28 loss= 39.94 acc=85.47\n",
            "E29 loss= 41.01 acc=85.86\n",
            "E30 loss= 36.61 acc=87.27\n",
            "E31 loss= 36.32 acc=85.78\n",
            "E32 loss= 32.17 acc=87.34\n",
            "E33 loss= 36.70 acc=87.27\n",
            "E34 loss= 41.95 acc=84.45\n",
            "E35 loss= 34.43 acc=87.89\n",
            "E36 loss= 37.56 acc=87.03\n",
            "E37 loss= 34.84 acc=88.28\n",
            "E38 loss= 36.33 acc=86.95\n",
            "E39 loss= 32.16 acc=88.05\n"
          ],
          "name": "stdout"
        }
      ]
    },
    {
      "cell_type": "code",
      "metadata": {
        "id": "tIWCMzhsbvzV",
        "colab": {
          "base_uri": "https://localhost:8080/",
          "height": 280
        },
        "outputId": "d719fbaa-41be-441a-c4c8-7cd105ad0042"
      },
      "source": [
        "plt.plot(loss_hist, color='red')\n",
        "plt.xlabel('época')\n",
        "plt.ylabel('pérdida')\n",
        "plt.show()"
      ],
      "execution_count": null,
      "outputs": [
        {
          "output_type": "display_data",
          "data": {
            "image/png": "[encoded data removed]",
            "text/plain": [
              "<Figure size 432x288 with 1 Axes>"
            ]
          },
          "metadata": {
            "tags": [],
            "needs_background": "light"
          }
        }
      ]
    },
    {
      "cell_type": "markdown",
      "metadata": {
        "id": "7KaNJfn7BZpy"
      },
      "source": [
        "Notemos que a pesar de tener una función de pérdida más baja, esta misma es mucho más ruidosa."
      ]
    },
    {
      "cell_type": "code",
      "metadata": {
        "id": "dvSxLD5EdMfo",
        "colab": {
          "base_uri": "https://localhost:8080/",
          "height": 542
        },
        "outputId": "8f0835f2-69f9-4374-c1a7-727ab55129d2"
      },
      "source": [
        "model = MLP()\n",
        "\n",
        "# optimizador\n",
        "opt = optim.Adam(model.parameters(), lr=1e-4)\n",
        "# historial de pérdida\n",
        "loss_hist = []\n",
        "\n",
        "# ciclo de entrenamiento\n",
        "EPOCHS = 30\n",
        "for epoch in range(EPOCHS):\n",
        "    \n",
        "    # entrenamiento de una época\n",
        "    for x, y_true in trn_dl:\n",
        "        # vaciamos los gradientes\n",
        "        opt.zero_grad()\n",
        "        # hacemos inferencia para obtener los logits\n",
        "        y_lgts = model(x)\n",
        "        # calculamos la pérdida\n",
        "        loss = F.cross_entropy(y_lgts, y_true)\n",
        "        # retropropagamos\n",
        "        loss.backward()\n",
        "        # actulizamos parámetros\n",
        "        opt.step()\n",
        "\n",
        "    # evitamos que se registren las operaciones \n",
        "    # en la gráfica de cómputo\n",
        "    with torch.no_grad(): \n",
        "        # modelo en modo de evaluación\n",
        "        model.eval()\n",
        "        \n",
        "        losses, accs = [], []\n",
        "        # validación de la época\n",
        "        for x, y_true in take(tst_dl, 10):\n",
        "            # hacemos inferencia para obtener los logits\n",
        "            y_lgts = model(x)\n",
        "            # calculamos las probabilidades\n",
        "            y_prob = F.softmax(y_lgts, 1)\n",
        "            # obtenemos la clase predicha\n",
        "            y_pred = torch.argmax(y_prob, 1)\n",
        "            \n",
        "            # calculamos la pérdida\n",
        "            loss = F.cross_entropy(y_lgts, y_true)\n",
        "            # calculamos la exactitud\n",
        "            acc = (y_true == y_pred).type(torch.float32).mean()\n",
        "\n",
        "            # guardamos históricos\n",
        "            losses.append(loss.item() * 100)\n",
        "            accs.append(acc.item() * 100)\n",
        "\n",
        "        # imprimimos métricas\n",
        "        loss = np.mean(losses)\n",
        "        acc = np.mean(accs)\n",
        "        print(f'E{epoch:2} loss={loss:6.2f} acc={acc:.2f}')\n",
        "        \n",
        "        # agregagmos al historial de pérdidas\n",
        "        loss_hist.append(loss)\n",
        "        \n",
        "        # modelo en modo de entrenamiento\n",
        "        model.train()"
      ],
      "execution_count": null,
      "outputs": [
        {
          "output_type": "stream",
          "text": [
            "E 0 loss= 55.95 acc=80.16\n",
            "E 1 loss= 49.52 acc=82.27\n",
            "E 2 loss= 44.31 acc=84.22\n",
            "E 3 loss= 42.92 acc=84.61\n",
            "E 4 loss= 41.96 acc=84.69\n",
            "E 5 loss= 45.61 acc=83.28\n",
            "E 6 loss= 39.11 acc=86.80\n",
            "E 7 loss= 41.07 acc=85.31\n",
            "E 8 loss= 39.99 acc=85.94\n",
            "E 9 loss= 39.77 acc=86.80\n",
            "E10 loss= 38.10 acc=86.80\n",
            "E11 loss= 37.49 acc=86.09\n",
            "E12 loss= 35.02 acc=87.66\n",
            "E13 loss= 39.50 acc=84.84\n",
            "E14 loss= 37.38 acc=86.33\n",
            "E15 loss= 30.92 acc=88.44\n",
            "E16 loss= 34.85 acc=87.11\n",
            "E17 loss= 32.31 acc=88.44\n",
            "E18 loss= 33.77 acc=88.05\n",
            "E19 loss= 35.26 acc=86.33\n",
            "E20 loss= 37.21 acc=86.25\n",
            "E21 loss= 32.42 acc=88.12\n",
            "E22 loss= 37.76 acc=87.19\n",
            "E23 loss= 35.43 acc=87.73\n",
            "E24 loss= 31.44 acc=88.20\n",
            "E25 loss= 30.03 acc=89.14\n",
            "E26 loss= 37.00 acc=87.19\n",
            "E27 loss= 34.00 acc=87.11\n",
            "E28 loss= 30.76 acc=88.12\n",
            "E29 loss= 33.66 acc=88.12\n"
          ],
          "name": "stdout"
        }
      ]
    },
    {
      "cell_type": "code",
      "metadata": {
        "id": "8rzs0hEvdeuf",
        "colab": {
          "base_uri": "https://localhost:8080/",
          "height": 280
        },
        "outputId": "2bc241cd-a8c2-4f27-e34a-76ca7b685a2d"
      },
      "source": [
        "plt.plot(loss_hist, color='red')\n",
        "plt.xlabel('época')\n",
        "plt.ylabel('pérdida')\n",
        "plt.show()"
      ],
      "execution_count": null,
      "outputs": [
        {
          "output_type": "display_data",
          "data": {
            "image/png": "[encoded data removed]",
            "text/plain": [
              "<Figure size 432x288 with 1 Axes>"
            ]
          },
          "metadata": {
            "tags": [],
            "needs_background": "light"
          }
        }
      ]
    },
    {
      "cell_type": "markdown",
      "metadata": {
        "id": "H7qY4dmMg5SE"
      },
      "source": [
        "Ahora bien, cambiando el optimizador por Adam, notamos que tenemos un descenso un poco ruidoso, pero la pérdida es más baja, por lo que incita a dejarlo más épocas. Antes de eso cambiaremos la arquitectura."
      ]
    },
    {
      "cell_type": "markdown",
      "metadata": {
        "id": "9ociEjDKNkhK"
      },
      "source": [
        "Para la nueva arquitectura se propone:\n",
        "\n",
        "\n",
        "```\n",
        "nn.Sequential(\n",
        "            # fc1\n",
        "            # [N, 1x28x28] => [N, 128]\n",
        "            \n",
        "            nn.Linear(self.I, FC1),\n",
        "            nn.Linear(FC1, 64),\n",
        "            nn.Linear(64, 32),\n",
        "            nn.ReLU(),\n",
        "            # fc2\n",
        "            # [N, 128] => [N, 10]\n",
        "            nn.Linear(32, FC2)\n",
        "        )\n",
        "```\n",
        "La cual consiste en dos capas lineales ocultas de 64 y 32 neuronas\n",
        "\n"
      ]
    },
    {
      "cell_type": "code",
      "metadata": {
        "id": "xmpOC3IWeeqY",
        "colab": {
          "base_uri": "https://localhost:8080/",
          "height": 542
        },
        "outputId": "3485b6cf-fd59-4db4-dad8-bf96d4c2bc71"
      },
      "source": [
        "class MLP2(nn.Module):\n",
        "    \n",
        "    # inicializador\n",
        "    def __init__(self):\n",
        "        # inicilización del objeto padre, obligatorio\n",
        "        super(MLP2, self).__init__()\n",
        "        # tamaño de las capas\n",
        "        self.I = 1 * 28 * 28\n",
        "        FC1, FC2 = 128, 10\n",
        "        # definición de capas\n",
        "        self.cls = nn.Sequential(\n",
        "            # fc1\n",
        "            # [N, 1x28x28] => [N, 128]\n",
        "            \n",
        "            nn.Linear(self.I, FC1),\n",
        "            nn.Linear(FC1, 64),\n",
        "            nn.Linear(64, 32),\n",
        "            nn.ReLU(),\n",
        "            # fc2\n",
        "            # [N, 128] => [N, 10]\n",
        "            nn.Linear(32, FC2)\n",
        "        )\n",
        "    \n",
        "    # metodo para inferencia\n",
        "    def forward(self, x):\n",
        "        # aplanamos los pixeles de la imagen\n",
        "        # [N, 1, 28, 28] => [N, 1x28x28]\n",
        "        x = x.view(-1, self.I)\n",
        "        # inferencia\n",
        "        # [N, 1x28x28]\n",
        "        x = self.cls(x)\n",
        "        return x\n",
        "\n",
        "\n",
        "model=MLP2()\n",
        "\n",
        "\n",
        "# optimizador\n",
        "opt = optim.Adam(model.parameters(), lr=1e-3)\n",
        "# historial de pérdida\n",
        "loss_hist = []\n",
        "\n",
        "# ciclo de entrenamiento\n",
        "EPOCHS = 30\n",
        "for epoch in range(EPOCHS):\n",
        "    \n",
        "    # entrenamiento de una época\n",
        "    for x, y_true in trn_dl:\n",
        "        # vaciamos los gradientes\n",
        "        opt.zero_grad()\n",
        "        # hacemos inferencia para obtener los logits\n",
        "        y_lgts = model(x)\n",
        "        # calculamos la pérdida\n",
        "        loss = F.cross_entropy(y_lgts, y_true)\n",
        "        # retropropagamos\n",
        "        loss.backward()\n",
        "        # actulizamos parámetros\n",
        "        opt.step()\n",
        "\n",
        "    # evitamos que se registren las operaciones \n",
        "    # en la gráfica de cómputo\n",
        "    with torch.no_grad(): \n",
        "        # modelo en modo de evaluación\n",
        "        model.eval()\n",
        "        \n",
        "        losses, accs = [], []\n",
        "        # validación de la época\n",
        "        for x, y_true in take(tst_dl, 10):\n",
        "            # hacemos inferencia para obtener los logits\n",
        "            y_lgts = model(x)\n",
        "            # calculamos las probabilidades\n",
        "            y_prob = F.softmax(y_lgts, 1)\n",
        "            # obtenemos la clase predicha\n",
        "            y_pred = torch.argmax(y_prob, 1)\n",
        "            \n",
        "            # calculamos la pérdida\n",
        "            loss = F.cross_entropy(y_lgts, y_true)\n",
        "            # calculamos la exactitud\n",
        "            acc = (y_true == y_pred).type(torch.float32).mean()\n",
        "\n",
        "            # guardamos históricos\n",
        "            losses.append(loss.item() * 100)\n",
        "            accs.append(acc.item() * 100)\n",
        "\n",
        "        # imprimimos métricas\n",
        "        loss = np.mean(losses)\n",
        "        acc = np.mean(accs)\n",
        "        print(f'E{epoch:2} loss={loss:6.2f} acc={acc:.2f}')\n",
        "        \n",
        "        # agregagmos al historial de pérdidas\n",
        "        loss_hist.append(loss)\n",
        "        \n",
        "        # modelo en modo de entrenamiento\n",
        "        model.train()"
      ],
      "execution_count": null,
      "outputs": [
        {
          "output_type": "stream",
          "text": [
            "E 0 loss= 45.58 acc=83.91\n",
            "E 1 loss= 45.36 acc=84.45\n",
            "E 2 loss= 42.77 acc=84.61\n",
            "E 3 loss= 41.80 acc=84.06\n",
            "E 4 loss= 35.66 acc=87.58\n",
            "E 5 loss= 39.49 acc=85.47\n",
            "E 6 loss= 41.37 acc=85.00\n",
            "E 7 loss= 41.77 acc=85.94\n",
            "E 8 loss= 32.94 acc=87.50\n",
            "E 9 loss= 46.35 acc=83.36\n",
            "E10 loss= 39.71 acc=86.88\n",
            "E11 loss= 32.49 acc=88.59\n",
            "E12 loss= 39.78 acc=86.25\n",
            "E13 loss= 39.10 acc=86.88\n",
            "E14 loss= 33.94 acc=88.75\n",
            "E15 loss= 38.64 acc=87.11\n",
            "E16 loss= 39.32 acc=86.56\n",
            "E17 loss= 33.61 acc=89.53\n",
            "E18 loss= 35.15 acc=87.73\n",
            "E19 loss= 40.16 acc=86.95\n",
            "E20 loss= 39.67 acc=86.64\n",
            "E21 loss= 38.67 acc=87.89\n",
            "E22 loss= 37.74 acc=87.73\n",
            "E23 loss= 34.32 acc=88.20\n",
            "E24 loss= 38.48 acc=87.58\n",
            "E25 loss= 40.25 acc=86.80\n",
            "E26 loss= 37.61 acc=86.95\n",
            "E27 loss= 42.36 acc=87.11\n",
            "E28 loss= 34.22 acc=87.81\n",
            "E29 loss= 44.72 acc=85.00\n"
          ],
          "name": "stdout"
        }
      ]
    },
    {
      "cell_type": "code",
      "metadata": {
        "id": "ZDW5HSp2hNnb",
        "colab": {
          "base_uri": "https://localhost:8080/",
          "height": 280
        },
        "outputId": "174a2c2e-4d23-4e62-81d2-f8d0ebcb6f80"
      },
      "source": [
        "plt.plot(loss_hist, color='red')\n",
        "plt.xlabel('época')\n",
        "plt.ylabel('pérdida')\n",
        "plt.show()"
      ],
      "execution_count": null,
      "outputs": [
        {
          "output_type": "display_data",
          "data": {
            "image/png": "[encoded data removed]",
            "text/plain": [
              "<Figure size 432x288 with 1 Axes>"
            ]
          },
          "metadata": {
            "tags": [],
            "needs_background": "light"
          }
        }
      ]
    },
    {
      "cell_type": "markdown",
      "metadata": {
        "id": "QTqSuqD6NYUP"
      },
      "source": [
        "La nueva arquitectura tiee un gráfica de pérdida muy fluctuante, reduciremos el lr y esperamos sea más suave"
      ]
    },
    {
      "cell_type": "code",
      "metadata": {
        "id": "eUthOtGYOFqv",
        "colab": {
          "base_uri": "https://localhost:8080/",
          "height": 542
        },
        "outputId": "3ebfe370-f747-417a-db68-c28cc5f5cfbe"
      },
      "source": [
        "\n",
        "model=MLP2()\n",
        "\n",
        "\n",
        "# optimizador\n",
        "opt = optim.Adam(model.parameters(), lr=1e-5)\n",
        "# historial de pérdida\n",
        "loss_hist = []\n",
        "\n",
        "# ciclo de entrenamiento\n",
        "EPOCHS = 30\n",
        "for epoch in range(EPOCHS):\n",
        "    \n",
        "    # entrenamiento de una época\n",
        "    for x, y_true in trn_dl:\n",
        "        # vaciamos los gradientes\n",
        "        opt.zero_grad()\n",
        "        # hacemos inferencia para obtener los logits\n",
        "        y_lgts = model(x)\n",
        "        # calculamos la pérdida\n",
        "        loss = F.cross_entropy(y_lgts, y_true)\n",
        "        # retropropagamos\n",
        "        loss.backward()\n",
        "        # actulizamos parámetros\n",
        "        opt.step()\n",
        "\n",
        "    # evitamos que se registren las operaciones \n",
        "    # en la gráfica de cómputo\n",
        "    with torch.no_grad(): \n",
        "        # modelo en modo de evaluación\n",
        "        model.eval()\n",
        "        \n",
        "        losses, accs = [], []\n",
        "        # validación de la época\n",
        "        for x, y_true in take(tst_dl, 10):\n",
        "            # hacemos inferencia para obtener los logits\n",
        "            y_lgts = model(x)\n",
        "            # calculamos las probabilidades\n",
        "            y_prob = F.softmax(y_lgts, 1)\n",
        "            # obtenemos la clase predicha\n",
        "            y_pred = torch.argmax(y_prob, 1)\n",
        "            \n",
        "            # calculamos la pérdida\n",
        "            loss = F.cross_entropy(y_lgts, y_true)\n",
        "            # calculamos la exactitud\n",
        "            acc = (y_true == y_pred).type(torch.float32).mean()\n",
        "\n",
        "            # guardamos históricos\n",
        "            losses.append(loss.item() * 100)\n",
        "            accs.append(acc.item() * 100)\n",
        "\n",
        "        # imprimimos métricas\n",
        "        loss = np.mean(losses)\n",
        "        acc = np.mean(accs)\n",
        "        print(f'E{epoch:2} loss={loss:6.2f} acc={acc:.2f}')\n",
        "        \n",
        "        # agregagmos al historial de pérdidas\n",
        "        loss_hist.append(loss)\n",
        "        \n",
        "        # modelo en modo de entrenamiento\n",
        "        model.train()"
      ],
      "execution_count": null,
      "outputs": [
        {
          "output_type": "stream",
          "text": [
            "E 0 loss=161.56 acc=54.14\n",
            "E 1 loss=115.63 acc=63.28\n",
            "E 2 loss= 91.64 acc=70.31\n",
            "E 3 loss= 80.03 acc=72.73\n",
            "E 4 loss= 75.03 acc=74.38\n",
            "E 5 loss= 70.06 acc=76.72\n",
            "E 6 loss= 67.02 acc=76.64\n",
            "E 7 loss= 62.39 acc=78.20\n",
            "E 8 loss= 59.84 acc=79.30\n",
            "E 9 loss= 62.08 acc=78.36\n",
            "E10 loss= 58.94 acc=78.36\n",
            "E11 loss= 59.14 acc=80.78\n",
            "E12 loss= 53.31 acc=81.64\n",
            "E13 loss= 51.56 acc=81.33\n",
            "E14 loss= 57.27 acc=80.08\n",
            "E15 loss= 50.10 acc=82.19\n",
            "E16 loss= 51.35 acc=82.19\n",
            "E17 loss= 50.94 acc=81.72\n",
            "E18 loss= 51.76 acc=81.56\n",
            "E19 loss= 47.92 acc=83.52\n",
            "E20 loss= 51.09 acc=81.95\n",
            "E21 loss= 47.76 acc=84.14\n",
            "E22 loss= 47.85 acc=83.12\n",
            "E23 loss= 52.37 acc=81.33\n",
            "E24 loss= 51.23 acc=81.02\n",
            "E25 loss= 49.33 acc=82.66\n",
            "E26 loss= 45.11 acc=84.45\n",
            "E27 loss= 45.09 acc=83.83\n",
            "E28 loss= 45.74 acc=83.91\n",
            "E29 loss= 48.69 acc=83.98\n"
          ],
          "name": "stdout"
        }
      ]
    },
    {
      "cell_type": "code",
      "metadata": {
        "id": "SBVmaiCbPu20",
        "colab": {
          "base_uri": "https://localhost:8080/",
          "height": 280
        },
        "outputId": "a81ec7c8-392d-4249-b625-54d6753a4f2a"
      },
      "source": [
        "plt.plot(loss_hist, color='red')\n",
        "plt.xlabel('época')\n",
        "plt.ylabel('pérdida')\n",
        "plt.show()"
      ],
      "execution_count": null,
      "outputs": [
        {
          "output_type": "display_data",
          "data": {
            "image/png": "[encoded data removed]",
            "text/plain": [
              "<Figure size 432x288 with 1 Axes>"
            ]
          },
          "metadata": {
            "tags": [],
            "needs_background": "light"
          }
        }
      ]
    },
    {
      "cell_type": "markdown",
      "metadata": {
        "id": "2QduyG3KP0jQ"
      },
      "source": [
        "Probaremos con un optimizador distinto\n"
      ]
    },
    {
      "cell_type": "code",
      "metadata": {
        "id": "VxPP-5huPzMH",
        "colab": {
          "base_uri": "https://localhost:8080/",
          "height": 542
        },
        "outputId": "0334bec4-afa5-4138-feda-45e7dc74b0c2"
      },
      "source": [
        "\n",
        "model=MLP2()\n",
        "\n",
        "\n",
        "# optimizador\n",
        "opt = optim.SGD(model.parameters(), lr=1e-2)\n",
        "# historial de pérdida\n",
        "loss_hist = []\n",
        "\n",
        "# ciclo de entrenamiento\n",
        "EPOCHS = 30\n",
        "for epoch in range(EPOCHS):\n",
        "    \n",
        "    # entrenamiento de una época\n",
        "    for x, y_true in trn_dl:\n",
        "        # vaciamos los gradientes\n",
        "        opt.zero_grad()\n",
        "        # hacemos inferencia para obtener los logits\n",
        "        y_lgts = model(x)\n",
        "        # calculamos la pérdida\n",
        "        loss = F.cross_entropy(y_lgts, y_true)\n",
        "        # retropropagamos\n",
        "        loss.backward()\n",
        "        # actulizamos parámetros\n",
        "        opt.step()\n",
        "\n",
        "    # evitamos que se registren las operaciones \n",
        "    # en la gráfica de cómputo\n",
        "    with torch.no_grad(): \n",
        "        # modelo en modo de evaluación\n",
        "        model.eval()\n",
        "        \n",
        "        losses, accs = [], []\n",
        "        # validación de la época\n",
        "        for x, y_true in take(tst_dl, 10):\n",
        "            # hacemos inferencia para obtener los logits\n",
        "            y_lgts = model(x)\n",
        "            # calculamos las probabilidades\n",
        "            y_prob = F.softmax(y_lgts, 1)\n",
        "            # obtenemos la clase predicha\n",
        "            y_pred = torch.argmax(y_prob, 1)\n",
        "            \n",
        "            # calculamos la pérdida\n",
        "            loss = F.cross_entropy(y_lgts, y_true)\n",
        "            # calculamos la exactitud\n",
        "            acc = (y_true == y_pred).type(torch.float32).mean()\n",
        "\n",
        "            # guardamos históricos\n",
        "            losses.append(loss.item() * 100)\n",
        "            accs.append(acc.item() * 100)\n",
        "\n",
        "        # imprimimos métricas\n",
        "        loss = np.mean(losses)\n",
        "        acc = np.mean(accs)\n",
        "        print(f'E{epoch:2} loss={loss:6.2f} acc={acc:.2f}')\n",
        "        \n",
        "        # agregagmos al historial de pérdidas\n",
        "        loss_hist.append(loss)\n",
        "        \n",
        "        # modelo en modo de entrenamiento\n",
        "        model.train()"
      ],
      "execution_count": null,
      "outputs": [
        {
          "output_type": "stream",
          "text": [
            "E 0 loss= 75.91 acc=72.42\n",
            "E 1 loss= 61.85 acc=77.27\n",
            "E 2 loss= 52.74 acc=82.19\n",
            "E 3 loss= 49.04 acc=82.66\n",
            "E 4 loss= 52.71 acc=80.47\n",
            "E 5 loss= 44.55 acc=84.77\n",
            "E 6 loss= 47.57 acc=83.36\n",
            "E 7 loss= 44.83 acc=83.52\n",
            "E 8 loss= 43.56 acc=84.69\n",
            "E 9 loss= 47.91 acc=83.36\n",
            "E10 loss= 49.58 acc=81.80\n",
            "E11 loss= 46.08 acc=83.75\n",
            "E12 loss= 45.84 acc=84.06\n",
            "E13 loss= 47.89 acc=84.14\n",
            "E14 loss= 40.39 acc=85.47\n",
            "E15 loss= 42.97 acc=85.47\n",
            "E16 loss= 41.06 acc=85.08\n",
            "E17 loss= 39.59 acc=86.72\n",
            "E18 loss= 41.74 acc=85.62\n",
            "E19 loss= 42.01 acc=85.00\n",
            "E20 loss= 42.84 acc=84.77\n",
            "E21 loss= 43.25 acc=85.31\n",
            "E22 loss= 40.16 acc=85.70\n",
            "E23 loss= 41.93 acc=83.98\n",
            "E24 loss= 44.04 acc=84.53\n",
            "E25 loss= 43.01 acc=85.16\n",
            "E26 loss= 40.92 acc=85.00\n",
            "E27 loss= 42.17 acc=85.00\n",
            "E28 loss= 39.80 acc=85.23\n",
            "E29 loss= 39.00 acc=86.56\n"
          ],
          "name": "stdout"
        }
      ]
    },
    {
      "cell_type": "code",
      "metadata": {
        "id": "0tkyzey0RTRr",
        "colab": {
          "base_uri": "https://localhost:8080/",
          "height": 280
        },
        "outputId": "6b018858-57ae-4a55-8452-2206013bc8a3"
      },
      "source": [
        "plt.plot(loss_hist, color='red')\n",
        "plt.xlabel('época')\n",
        "plt.ylabel('pérdida')\n",
        "plt.show()"
      ],
      "execution_count": null,
      "outputs": [
        {
          "output_type": "display_data",
          "data": {
            "image/png": "[encoded data removed]",
            "text/plain": [
              "<Figure size 432x288 with 1 Axes>"
            ]
          },
          "metadata": {
            "tags": [],
            "needs_background": "light"
          }
        }
      ]
    },
    {
      "cell_type": "markdown",
      "metadata": {
        "id": "Dv2gp84_RXss"
      },
      "source": [
        "Procederemos a realizar la validación con este ultimo modelo, con el fin de utilizar una arquitectura distinta."
      ]
    },
    {
      "cell_type": "markdown",
      "metadata": {
        "id": "BF9mHl_1mKLm"
      },
      "source": [
        "### Validación"
      ]
    },
    {
      "cell_type": "code",
      "metadata": {
        "id": "iPFPm4IjidbP",
        "colab": {
          "base_uri": "https://localhost:8080/",
          "height": 35
        },
        "outputId": "e7de777a-478f-40d2-d582-76bf176dfc93"
      },
      "source": [
        "# modelo en modo de evaluación\n",
        "model.eval()\n",
        "\n",
        "# evitamos que se registren las operaciones \n",
        "# en la gráfica de cómputo\n",
        "with torch.no_grad(): \n",
        "        \n",
        "    accs = []\n",
        "    # validación de la época\n",
        "    for x, y_true in tst_dl:\n",
        "        # hacemos inferencia para obtener los logits\n",
        "        y_lgts = model(x)\n",
        "        # calculamos las probabilidades\n",
        "        y_prob = F.softmax(y_lgts, 1)\n",
        "        # obtenemos la clase predicha\n",
        "        y_pred = torch.argmax(y_prob, 1)\n",
        "        \n",
        "        # calculamos la exactitud\n",
        "        acc = (y_true == y_pred).type(torch.float32).mean()\n",
        "\n",
        "        accs.append(acc.item() * 100)\n",
        "\n",
        "    acc = np.mean(accs)\n",
        "\n",
        "print(f'Exactitud = {acc:.2f}')"
      ],
      "execution_count": null,
      "outputs": [
        {
          "output_type": "stream",
          "text": [
            "Exactitud = 85.21\n"
          ],
          "name": "stdout"
        }
      ]
    },
    {
      "cell_type": "markdown",
      "metadata": {
        "id": "W7wN_vy1mRXO"
      },
      "source": [
        "### Como podemos ver, tuvo un resultado muy cercano al entrenamiento, por lo que podríamos decir que es un modelo bien ajustado."
      ]
    },
    {
      "cell_type": "code",
      "metadata": {
        "id": "vPv84uNcmM_a",
        "colab": {
          "base_uri": "https://localhost:8080/",
          "height": 297
        },
        "outputId": "b7a1aab7-88d1-431e-c1fb-c4cf7b0643c4"
      },
      "source": [
        "with torch.no_grad(): \n",
        "    for x, y_true in take(tst_dl, 1):\n",
        "        y_lgts = model(x)\n",
        "        y_prob = F.softmax(y_lgts, 1)\n",
        "        y_pred = torch.argmax(y_prob, 1)\n",
        "\n",
        "    x = x[:12].squeeze().numpy()\n",
        "    y_true = y_true[:12].numpy()\n",
        "    y_pred = y_pred[:12].numpy()\n",
        "\n",
        "titles = [f'V={t} P={p}' for t, p in zip(y_true, y_pred)]\n",
        "display_grid(x, titles, 3, 4)"
      ],
      "execution_count": null,
      "outputs": [
        {
          "output_type": "display_data",
          "data": {
            "image/png": "[encoded data removed]",
            "text/plain": [
              "<Figure size 432x288 with 12 Axes>"
            ]
          },
          "metadata": {
            "tags": [],
            "needs_background": "light"
          }
        }
      ]
    },
    {
      "cell_type": "markdown",
      "metadata": {
        "id": "7SXyg6TZmgzD"
      },
      "source": [
        "### Conclusión\n",
        "\n",
        "Para finalizar, en esta tarea aprendí a crear una pequeña red para la compuerta XNOR la cual podría no conciderarse como que aprendíó ya que friamente sólo selecconé los pesos, se hizo la suma pesada y listo, pero la justificación es que para funciones así de simples, no está mal. Como segundo ejercicio ahora sí aprendió la red, después de cierto número de iteraciones (bastantes a mi parecer) logramos que aprendiera la función con una exactitud de 100% (lo necesario y justo para una función tan básica) sin embargo, en las tareas posteriores esto ya fue más complejo.\n",
        "\n",
        "El último ejercicio fue el más interesante debido a la complejidad de clasificar las 10 clases, sin embargo al hacer las iteraciones logré apreciar ciertos comportamientos, por ejemplo, al bajar el learning rate, la función de pérdida se vuelve más suave, esto es porque los \"saltos\" son muy pequeños, así cada salida es muy parecida a la anterior, caso contrario al aumentar el learning rate, si bien, llegabamos más rápido al mínimo, la gráfica era bastante ruidosa, esto por los saltos tan granes que daba. ¿por qué no elegí un learning rate grande si tenía mejor pérdida? pues porque el hecho de que tuviera altibajos tan marcados lo hacía muy sensible a que la época final quedara en un pico alto, de esta manera podíamos obtener una peor evaluación. Es por eso que elegí la más confiable. Me hubiese gustado hacer más épocas para encontrar el número correcto, sin embargo era algo tardado, pese a esto considero que mi modelo con un acc = 87.86 en validación (jamás se vio, hasta que se ejecutó una única ves= es bastante bueno."
      ]
    },
    {
      "cell_type": "code",
      "metadata": {
        "id": "hV9kV0BZmb0e"
      },
      "source": [
        ""
      ],
      "execution_count": null,
      "outputs": []
    }
  ]
}